{
 "cells": [
  {
   "cell_type": "markdown",
   "metadata": {},
   "source": [
    "Introducing manual compression of image captions on stale (offline) data"
   ]
  },
  {
   "cell_type": "code",
   "execution_count": 1,
   "metadata": {},
   "outputs": [
    {
     "name": "stderr",
     "output_type": "stream",
     "text": [
      "/Users/sagnik/Library/Python/3.9/lib/python/site-packages/tqdm/auto.py:21: TqdmWarning: IProgress not found. Please update jupyter and ipywidgets. See https://ipywidgets.readthedocs.io/en/stable/user_install.html\n",
      "  from .autonotebook import tqdm as notebook_tqdm\n"
     ]
    }
   ],
   "source": [
    "from transformers import VisionEncoderDecoderModel, ViTFeatureExtractor, AutoTokenizer, BitsAndBytesConfig, AutoProcessor, LlavaForConditionalGeneration\n",
    "from transformers import AdamW\n",
    "from datasets import load_dataset\n",
    "import torch\n",
    "from collections import Counter\n",
    "import fiftyone\n",
    "import torch.nn as nn\n",
    "from tqdm.auto import tqdm\n",
    "from torch.utils.data import DataLoader, Dataset\n",
    "import torchvision.transforms as T\n",
    "import torch.nn.functional as F\n",
    "import numpy as np\n",
    "import os\n",
    "import time\n",
    "import glob\n",
    "\n",
    "# uncommon features  - events of interest\n",
    "# loss less compression -  sudden more bits indicates anomaly can be flagged, alerts when anomaly detected - may shift to lossy video streaming\n",
    "# lossy compression of noisy data varying distortion rate - accuracy is increasing\n",
    "# video to video lossy reconstruction possibility\n",
    "# image frame to image frame on a need basis - human satisfaction metric, GPT based comparison, RLHF based comparison"
   ]
  },
  {
   "cell_type": "code",
   "execution_count": 2,
   "metadata": {},
   "outputs": [
    {
     "name": "stderr",
     "output_type": "stream",
     "text": [
      "/Users/sagnik/Library/Python/3.9/lib/python/site-packages/transformers/models/vit/feature_extraction_vit.py:28: FutureWarning: The class ViTFeatureExtractor is deprecated and will be removed in version 5 of Transformers. Please use ViTImageProcessor instead.\n",
      "  warnings.warn(\n"
     ]
    }
   ],
   "source": [
    "# Load the pre-trained model and its components\n",
    "model = VisionEncoderDecoderModel.from_pretrained(\"nlpconnect/vit-gpt2-image-captioning\")\n",
    "feature_extractor = ViTFeatureExtractor.from_pretrained(\"nlpconnect/vit-gpt2-image-captioning\")\n",
    "tokenizer = AutoTokenizer.from_pretrained(\"nlpconnect/vit-gpt2-image-captioning\")\n",
    "\n",
    "# # Loading the above for LlavVA\n",
    "# model_llava = LlavaForConditionalGeneration.from_pretrained(\"llava-hf/llava-1.5-7b-hf\")\n",
    "# processor_llava = AutoProcessor.from_pretrained(\"llava-hf/llava-1.5-7b-hf\")"
   ]
  },
  {
   "cell_type": "code",
   "execution_count": 3,
   "metadata": {},
   "outputs": [
    {
     "name": "stderr",
     "output_type": "stream",
     "text": [
      "Resolving data files: 100%|██████████| 81434/81434 [00:00<00:00, 614768.00it/s]\n"
     ]
    }
   ],
   "source": [
    "# Load a dataset (for example, a subset of the COCO dataset)\n",
    "# TODO: Potential datasets with repititive nature that can be used: MS COCO, Flickr30k, Visual Genome, SBU Captions - get correlated datasets from Nikil\n",
    "\n",
    "# load small part of the coco dataset from all the .jpg images in datasets/mscoco/test2015\n",
    "dataset = load_dataset(\"datasets/mscoco/test2015/\", split=\"test[:40]\")"
   ]
  },
  {
   "cell_type": "code",
   "execution_count": 4,
   "metadata": {},
   "outputs": [],
   "source": [
    "# TODO: use different values of max_length and try out results\n",
    "\n",
    "def generate_caption_with_logits(image, max_length=10):\n",
    "    # Prepare the inputs\n",
    "    inputs = feature_extractor(images=image, return_tensors=\"pt\")\n",
    "    pixel_values = inputs.pixel_values\n",
    "\n",
    "    model.eval()\n",
    "    with torch.no_grad():\n",
    "        # Perform a forward pass to get the logits\n",
    "        encoder_outputs = model.encoder(pixel_values=pixel_values)\n",
    "        encoder_hidden_states = encoder_outputs.last_hidden_state\n",
    "        \n",
    "        # Prepare decoder input_ids. Typically, you start with the start-of-sentence token\n",
    "        decoder_input_ids = torch.tensor([tokenizer.bos_token_id]).unsqueeze(0).to(encoder_hidden_states.device)\n",
    "        decoder_attention_mask = torch.ones_like(decoder_input_ids)\n",
    "        \n",
    "        # Initialize an empty tensor for logits (for simplicity, accumulating logits for each step)\n",
    "        logits_list = []\n",
    "        \n",
    "        for i in range(max_length):\n",
    "            decoder_outputs = model.decoder(input_ids=decoder_input_ids,\n",
    "                                            attention_mask=decoder_attention_mask,\n",
    "                                            encoder_hidden_states=encoder_hidden_states)\n",
    "            logits = decoder_outputs.logits[:, -1, :]  # Get the logits for the last token generated\n",
    "            logits_list.append(logits)\n",
    "            \n",
    "            predicted_id = torch.argmax(logits, dim=-1).unsqueeze(-1)\n",
    "            # Check if EOS token is generated\n",
    "            if predicted_id[0, 0] == tokenizer.eos_token_id:\n",
    "                print (\"EOS has been generated\")\n",
    "                # break # since model.generate() does this automatically\n",
    "            \n",
    "            # Append predicted token ID to decoder_input_ids for generating next token\n",
    "            decoder_input_ids = torch.cat([decoder_input_ids, predicted_id], dim=-1)\n",
    "            decoder_attention_mask = torch.cat([decoder_attention_mask, torch.ones_like(predicted_id)], dim=-1)\n",
    "            \n",
    "        # Concatenate logits from each step to get the final logits tensor\n",
    "        # make all elements of logits_list 3D by adding a dimension in the middle\n",
    "        logits_list = [logits.unsqueeze(1) for logits in logits_list]\n",
    "        logits = torch.cat(logits_list, dim=1)\n",
    "        # add logic to repeat the remaining number of (127-i) tokens with EOS token logits (simply repeat the last token logits) to make it length 128\n",
    "\n",
    "        # Decode the generated token IDs to get the caption\n",
    "        predicted_ids = torch.argmax(logits, dim=-1)\n",
    "        caption = tokenizer.decode(predicted_ids[0], skip_special_tokens=True)\n",
    "        \n",
    "    return logits, predicted_ids, caption\n",
    "\n",
    "# Example usage\n",
    "# image: A PIL image or a tensor representing your input image\n",
    "# logits, predicted_ids, caption = generate_caption_with_logits(image, model, feature_extractor, tokenizer)\n"
   ]
  },
  {
   "cell_type": "code",
   "execution_count": 5,
   "metadata": {},
   "outputs": [
    {
     "name": "stdout",
     "output_type": "stream",
     "text": [
      "EOS has been generated\n",
      "EOS has been generated\n",
      "EOS has been generated\n",
      "EOS has been generated\n",
      "EOS has been generated\n",
      "EOS has been generated\n",
      "EOS has been generated\n",
      "EOS has been generated\n",
      "EOS has been generated\n",
      "EOS has been generated\n",
      "EOS has been generated\n",
      "EOS has been generated\n",
      "torch.Size([40, 10, 50257])\n"
     ]
    }
   ],
   "source": [
    "# Iterate over the dataset and generate captions\n",
    "generated_captions = []\n",
    "generated_logits = []\n",
    "generated_predicted_ids = []\n",
    "\n",
    "for data in dataset:\n",
    "    image = data['image']\n",
    "    logits, predicted_ids, caption = generate_caption_with_logits(image)\n",
    "    generated_captions.append(caption)\n",
    "    generated_logits.append(logits)\n",
    "    generated_predicted_ids.append(predicted_ids)\n",
    "\n",
    "# concatenate generated logits along first dimension to make 3D tensor\n",
    "generated_logits = torch.cat(generated_logits, dim=0)\n",
    "print (generated_logits.shape)"
   ]
  },
  {
   "cell_type": "code",
   "execution_count": 6,
   "metadata": {},
   "outputs": [
    {
     "data": {
      "text/plain": [
       "['a green truck parked next to a curb ',\n",
       " 'a man is walking down the street with a skate',\n",
       " 'a baseball player swinging a bat at a ball ',\n",
       " 'a cow is standing in a field of grass ',\n",
       " 'a black dog sitting in the back of a truck',\n",
       " 'a man wearing a bow tie and glasses ',\n",
       " 'a dining room table with a large bowl of food',\n",
       " 'a man standing next to a wall with a bunch',\n",
       " 'a man is playing tennis on a clay court ',\n",
       " 'a man and a woman playing a game of fr',\n",
       " 'a woman and a man are drinking wine ',\n",
       " 'people are standing around a table people are',\n",
       " 'a zebra standing in a fenced in area',\n",
       " 'two dogs are looking at each other in a room',\n",
       " 'a horse grazing in a field with a tree ',\n",
       " 'a bird perched on top of a bird feeder',\n",
       " 'a train on a track near a fence ',\n",
       " 'a plate of food with a fish and vegetables ',\n",
       " 'an elephant with a large trunk standing on a dirt',\n",
       " 'people are watching a television show people are',\n",
       " 'a woman is cooking food in a kitchen ',\n",
       " 'a stuffed animal with a teddy bear on it',\n",
       " 'a plate of food with meat, broccoli and potatoes',\n",
       " 'a man in a suit and tie looking at his',\n",
       " 'a man holding a tennis racquet on a tennis',\n",
       " 'a man sitting on a couch with a laptop ',\n",
       " 'a motorcycle parked on the side of a road ',\n",
       " 'a bear walking through a forest with leaves ',\n",
       " 'a truck with a bed and a fence ',\n",
       " 'a plate of food on a table a',\n",
       " 'a man wearing a hat and a red scarf ',\n",
       " 'a herd of sheep grazing in a field ',\n",
       " 'a remote control sitting on top of a couch ',\n",
       " 'a large jetliner flying through a cloudy sky ',\n",
       " 'a man in a suit and tie speaking to a',\n",
       " 'a plate of food with meat, rice and vegetables',\n",
       " 'a person jumping a skateboard on a ledge ',\n",
       " 'a man is playing tennis on a court ',\n",
       " 'a giraffe standing next to a tree with a',\n",
       " 'a woman standing on a beach holding an umbrella ']"
      ]
     },
     "execution_count": 6,
     "metadata": {},
     "output_type": "execute_result"
    }
   ],
   "source": [
    "generated_captions"
   ]
  },
  {
   "cell_type": "code",
   "execution_count": 7,
   "metadata": {},
   "outputs": [],
   "source": [
    "def update_encoding_dict(captions, encoding_dict):\n",
    "    for caption in captions:\n",
    "        words = caption.split() # splitting the caption into words - pretty bad strategy since we are currently splitting into tokens\n",
    "        encoding_dict.update(words) # purpose of update is to add the words to the dictionary if they don't exist\n",
    "    return encoding_dict"
   ]
  },
  {
   "cell_type": "code",
   "execution_count": 8,
   "metadata": {},
   "outputs": [
    {
     "name": "stdout",
     "output_type": "stream",
     "text": [
      "Counter({'a': 88, 'with': 13, 'on': 13, 'man': 12, 'of': 12, 'in': 10, 'and': 10, 'standing': 7, 'food': 6, 'are': 6, 'is': 5, 'to': 4, 'tennis': 4, 'woman': 4, 'people': 4, 'plate': 4, 'truck': 3, 'next': 3, 'the': 3, 'at': 3, 'field': 3, 'sitting': 3, 'tie': 3, 'table': 3, 'large': 3, 'playing': 3, 'parked': 2, 'walking': 2, 'wearing': 2, 'room': 2, 'court': 2, 'looking': 2, 'grazing': 2, 'tree': 2, 'bird': 2, 'top': 2, 'fence': 2, 'vegetables': 2, 'an': 2, 'bear': 2, 'meat,': 2, 'suit': 2, 'holding': 2, 'couch': 2, 'through': 2, 'green': 1, 'curb': 1, 'down': 1, 'street': 1, 'skate': 1, 'baseball': 1, 'player': 1, 'swinging': 1, 'bat': 1, 'ball': 1, 'cow': 1, 'grass': 1, 'black': 1, 'dog': 1, 'back': 1, 'bow': 1, 'glasses': 1, 'dining': 1, 'bowl': 1, 'wall': 1, 'bunch': 1, 'clay': 1, 'game': 1, 'fr': 1, 'drinking': 1, 'wine': 1, 'around': 1, 'zebra': 1, 'fenced': 1, 'area': 1, 'two': 1, 'dogs': 1, 'each': 1, 'other': 1, 'horse': 1, 'perched': 1, 'feeder': 1, 'train': 1, 'track': 1, 'near': 1, 'fish': 1, 'elephant': 1, 'trunk': 1, 'dirt': 1, 'watching': 1, 'television': 1, 'show': 1, 'cooking': 1, 'kitchen': 1, 'stuffed': 1, 'animal': 1, 'teddy': 1, 'it': 1, 'broccoli': 1, 'potatoes': 1, 'his': 1, 'racquet': 1, 'laptop': 1, 'motorcycle': 1, 'side': 1, 'road': 1, 'forest': 1, 'leaves': 1, 'bed': 1, 'hat': 1, 'red': 1, 'scarf': 1, 'herd': 1, 'sheep': 1, 'remote': 1, 'control': 1, 'jetliner': 1, 'flying': 1, 'cloudy': 1, 'sky': 1, 'speaking': 1, 'rice': 1, 'person': 1, 'jumping': 1, 'skateboard': 1, 'ledge': 1, 'giraffe': 1, 'beach': 1, 'umbrella': 1})\n",
      "{'a': 1.391960098655568, 'green': 5.869296913133774, 'truck': 4.770684624465665, 'parked': 5.176149732573829, 'next': 4.770684624465665, 'to': 4.483002552013883, 'curb': 5.869296913133774, 'man': 3.3843902633457743, 'is': 4.259859000699674, 'walking': 5.176149732573829, 'down': 5.869296913133774, 'the': 4.770684624465665, 'street': 5.869296913133774, 'with': 3.3043475556722375, 'skate': 5.869296913133774, 'baseball': 5.869296913133774, 'player': 5.869296913133774, 'swinging': 5.869296913133774, 'bat': 5.869296913133774, 'at': 4.770684624465665, 'ball': 5.869296913133774, 'cow': 5.869296913133774, 'standing': 3.923386764078461, 'in': 3.5667118201397288, 'field': 4.770684624465665, 'of': 3.3843902633457743, 'grass': 5.869296913133774, 'black': 5.869296913133774, 'dog': 5.869296913133774, 'sitting': 4.770684624465665, 'back': 5.869296913133774, 'wearing': 5.176149732573829, 'bow': 5.869296913133774, 'tie': 4.770684624465665, 'and': 3.5667118201397288, 'glasses': 5.869296913133774, 'dining': 5.869296913133774, 'room': 5.176149732573829, 'table': 4.770684624465665, 'large': 4.770684624465665, 'bowl': 5.869296913133774, 'food': 4.07753744390572, 'wall': 5.869296913133774, 'bunch': 5.869296913133774, 'playing': 4.770684624465665, 'tennis': 4.483002552013883, 'on': 3.3043475556722375, 'clay': 5.869296913133774, 'court': 5.176149732573829, 'woman': 4.483002552013883, 'game': 5.869296913133774, 'fr': 5.869296913133774, 'are': 4.07753744390572, 'drinking': 5.869296913133774, 'wine': 5.869296913133774, 'people': 4.483002552013883, 'around': 5.869296913133774, 'zebra': 5.869296913133774, 'fenced': 5.869296913133774, 'area': 5.869296913133774, 'two': 5.869296913133774, 'dogs': 5.869296913133774, 'looking': 5.176149732573829, 'each': 5.869296913133774, 'other': 5.869296913133774, 'horse': 5.869296913133774, 'grazing': 5.176149732573829, 'tree': 5.176149732573829, 'bird': 5.176149732573829, 'perched': 5.869296913133774, 'top': 5.176149732573829, 'feeder': 5.869296913133774, 'train': 5.869296913133774, 'track': 5.869296913133774, 'near': 5.869296913133774, 'fence': 5.176149732573829, 'plate': 4.483002552013883, 'fish': 5.869296913133774, 'vegetables': 5.176149732573829, 'an': 5.176149732573829, 'elephant': 5.869296913133774, 'trunk': 5.869296913133774, 'dirt': 5.869296913133774, 'watching': 5.869296913133774, 'television': 5.869296913133774, 'show': 5.869296913133774, 'cooking': 5.869296913133774, 'kitchen': 5.869296913133774, 'stuffed': 5.869296913133774, 'animal': 5.869296913133774, 'teddy': 5.869296913133774, 'bear': 5.176149732573829, 'it': 5.869296913133774, 'meat,': 5.176149732573829, 'broccoli': 5.869296913133774, 'potatoes': 5.869296913133774, 'suit': 5.176149732573829, 'his': 5.869296913133774, 'holding': 5.176149732573829, 'racquet': 5.869296913133774, 'couch': 5.176149732573829, 'laptop': 5.869296913133774, 'motorcycle': 5.869296913133774, 'side': 5.869296913133774, 'road': 5.869296913133774, 'through': 5.176149732573829, 'forest': 5.869296913133774, 'leaves': 5.869296913133774, 'bed': 5.869296913133774, 'hat': 5.869296913133774, 'red': 5.869296913133774, 'scarf': 5.869296913133774, 'herd': 5.869296913133774, 'sheep': 5.869296913133774, 'remote': 5.869296913133774, 'control': 5.869296913133774, 'jetliner': 5.869296913133774, 'flying': 5.869296913133774, 'cloudy': 5.869296913133774, 'sky': 5.869296913133774, 'speaking': 5.869296913133774, 'rice': 5.869296913133774, 'person': 5.869296913133774, 'jumping': 5.869296913133774, 'skateboard': 5.869296913133774, 'ledge': 5.869296913133774, 'giraffe': 5.869296913133774, 'beach': 5.869296913133774, 'umbrella': 5.869296913133774}\n",
      "{'a': 0.011235955056179775, 'green': 0.5, 'truck': 0.25, 'parked': 0.3333333333333333, 'next': 0.25, 'to': 0.2, 'curb': 0.5, 'man': 0.07692307692307693, 'is': 0.16666666666666666, 'walking': 0.3333333333333333, 'down': 0.5, 'the': 0.25, 'street': 0.5, 'with': 0.07142857142857142, 'skate': 0.5, 'baseball': 0.5, 'player': 0.5, 'swinging': 0.5, 'bat': 0.5, 'at': 0.25, 'ball': 0.5, 'cow': 0.5, 'standing': 0.125, 'in': 0.09090909090909091, 'field': 0.25, 'of': 0.07692307692307693, 'grass': 0.5, 'black': 0.5, 'dog': 0.5, 'sitting': 0.25, 'back': 0.5, 'wearing': 0.3333333333333333, 'bow': 0.5, 'tie': 0.25, 'and': 0.09090909090909091, 'glasses': 0.5, 'dining': 0.5, 'room': 0.3333333333333333, 'table': 0.25, 'large': 0.25, 'bowl': 0.5, 'food': 0.14285714285714285, 'wall': 0.5, 'bunch': 0.5, 'playing': 0.25, 'tennis': 0.2, 'on': 0.07142857142857142, 'clay': 0.5, 'court': 0.3333333333333333, 'woman': 0.2, 'game': 0.5, 'fr': 0.5, 'are': 0.14285714285714285, 'drinking': 0.5, 'wine': 0.5, 'people': 0.2, 'around': 0.5, 'zebra': 0.5, 'fenced': 0.5, 'area': 0.5, 'two': 0.5, 'dogs': 0.5, 'looking': 0.3333333333333333, 'each': 0.5, 'other': 0.5, 'horse': 0.5, 'grazing': 0.3333333333333333, 'tree': 0.3333333333333333, 'bird': 0.3333333333333333, 'perched': 0.5, 'top': 0.3333333333333333, 'feeder': 0.5, 'train': 0.5, 'track': 0.5, 'near': 0.5, 'fence': 0.3333333333333333, 'plate': 0.2, 'fish': 0.5, 'vegetables': 0.3333333333333333, 'an': 0.3333333333333333, 'elephant': 0.5, 'trunk': 0.5, 'dirt': 0.5, 'watching': 0.5, 'television': 0.5, 'show': 0.5, 'cooking': 0.5, 'kitchen': 0.5, 'stuffed': 0.5, 'animal': 0.5, 'teddy': 0.5, 'bear': 0.3333333333333333, 'it': 0.5, 'meat,': 0.3333333333333333, 'broccoli': 0.5, 'potatoes': 0.5, 'suit': 0.3333333333333333, 'his': 0.5, 'holding': 0.3333333333333333, 'racquet': 0.5, 'couch': 0.3333333333333333, 'laptop': 0.5, 'motorcycle': 0.5, 'side': 0.5, 'road': 0.5, 'through': 0.3333333333333333, 'forest': 0.5, 'leaves': 0.5, 'bed': 0.5, 'hat': 0.5, 'red': 0.5, 'scarf': 0.5, 'herd': 0.5, 'sheep': 0.5, 'remote': 0.5, 'control': 0.5, 'jetliner': 0.5, 'flying': 0.5, 'cloudy': 0.5, 'sky': 0.5, 'speaking': 0.5, 'rice': 0.5, 'person': 0.5, 'jumping': 0.5, 'skateboard': 0.5, 'ledge': 0.5, 'giraffe': 0.5, 'beach': 0.5, 'umbrella': 0.5}\n"
     ]
    }
   ],
   "source": [
    "encoding_dict = Counter() # Counter is a subclass of dictionary for counting hashable objects\n",
    "threshold = 0 # threshold for word frequency # TODO: find a good threshold\n",
    "\n",
    "update_encoding_dict(generated_captions, encoding_dict)\n",
    "\n",
    "print (encoding_dict)\n",
    "\n",
    "# Optionally, create a more compressed form based on frequency\n",
    "compressed_dict = {word: idx for idx, (word, freq) in enumerate(encoding_dict.items()) if freq > threshold}\n",
    "\n",
    "# Create the dictionary of entropy values from encoding_dict\n",
    "entropy_dict = {word: -np.log(encoding_dict[word] / sum(encoding_dict.values())) \n",
    "                for word in encoding_dict}\n",
    "\n",
    "print (entropy_dict)\n",
    "# print 1/elem for elem in encoding_dict.values()\n",
    "reciprocal_dict = {word: 1/(encoding_dict[word]+1) for word in encoding_dict}\n",
    "print (reciprocal_dict)"
   ]
  },
  {
   "cell_type": "code",
   "execution_count": 9,
   "metadata": {},
   "outputs": [],
   "source": [
    "class CaptionDataset(torch.utils.data.Dataset):\n",
    "    def __init__(self, encodings, captions):\n",
    "        self.encodings = encodings\n",
    "        self.captions = captions\n",
    "\n",
    "    def __getitem__(self, idx):\n",
    "        item = {key: torch.tensor(val[idx]) for key, val in self.encodings.items()}\n",
    "        item['labels'] = torch.tensor(self.captions[idx])\n",
    "        return item\n",
    "\n",
    "    def __len__(self):\n",
    "        return len(self.captions)"
   ]
  },
  {
   "cell_type": "code",
   "execution_count": 10,
   "metadata": {},
   "outputs": [],
   "source": [
    "# Assuming `dataset` is your dataset containing images and captions\n",
    "images = [data['image'] for data in dataset]\n",
    "caption_ids = generated_predicted_ids\n",
    "\n",
    "# Process images and captions\n",
    "inputs = feature_extractor(images=images, return_tensors=\"pt\")\n",
    "\n",
    "# Create dataset and dataloader\n",
    "train_dataset = CaptionDataset(inputs, caption_ids)\n",
    "train_loader = DataLoader(train_dataset, batch_size=32, shuffle=True)"
   ]
  },
  {
   "cell_type": "code",
   "execution_count": 11,
   "metadata": {},
   "outputs": [],
   "source": [
    "class LoRALayer(nn.Module):\n",
    "    def __init__(self, original_weight, rank):\n",
    "        super(LoRALayer, self).__init__()\n",
    "        self.original_weight = original_weight\n",
    "        self.rank = rank\n",
    "        self.U = nn.Parameter(torch.Tensor(self.original_weight.size(0), self.rank))\n",
    "        self.V = nn.Parameter(torch.Tensor(self.rank, self.original_weight.size(1)))\n",
    "        nn.init.xavier_uniform_(self.U)\n",
    "        nn.init.xavier_uniform_(self.V)\n",
    "\n",
    "    def forward(self):\n",
    "        return self.original_weight + self.U @ self.V"
   ]
  },
  {
   "cell_type": "code",
   "execution_count": 12,
   "metadata": {},
   "outputs": [],
   "source": [
    "# Modify the first attention layer of the encoder\n",
    "# TODO: Try modifying other layers as well and check the results\n",
    "lora_layers = []\n",
    "\n",
    "with torch.no_grad():\n",
    "    original_weight = model.encoder.encoder.layer[0].attention.output.dense.weight\n",
    "    lora_layer = LoRALayer(original_weight, rank=10).forward()  # Choose an appropriate rank\n",
    "    # assign the new layer to the model\n",
    "    model.encoder.encoder.layer[0].attention.output.dense.weight.copy_(lora_layer)\n",
    "    # add the layer of the model to the list of LoRA layers\n",
    "    lora_layers.append(model.encoder.encoder.layer[0].attention.output.dense)"
   ]
  },
  {
   "cell_type": "code",
   "execution_count": 13,
   "metadata": {},
   "outputs": [],
   "source": [
    "def is_lora_param(param, lora_layer):\n",
    "    # check if the parameter is part of the LoRA layer\n",
    "    print (lora_layer.parameters())\n",
    "    print (\"nuj\")\n",
    "    print (param)\n",
    "    return param in lora_layer.parameters()\n"
   ]
  },
  {
   "cell_type": "code",
   "execution_count": 14,
   "metadata": {},
   "outputs": [],
   "source": [
    "# add two extra dimensions to generated_logits\n",
    "generated_probs = F.softmax(generated_logits, dim=-1)\n",
    "generated_probs_expanded = generated_probs.unsqueeze(0).unsqueeze(0)"
   ]
  },
  {
   "cell_type": "code",
   "execution_count": 15,
   "metadata": {},
   "outputs": [],
   "source": [
    "def calculate_entropy_elbo_difference (prob_differences, D):\n",
    "    sigma = 0.01\n",
    "    # reduce prob_differences to 4D from 5D by taking norm square along the last dimension\n",
    "    prob_differences = torch.norm(prob_differences, dim=-1)\n",
    "    print (prob_differences.shape)\n",
    "    # do elementwise for prob_differences: suqare\n",
    "    prob_differences = prob_differences**2\n",
    "    # take sum of all elements of prob_differences, hence scalar, then divide by 2*sigma^2*D\n",
    "    return torch.sum(prob_differences) / (2*sigma**2*D)"
   ]
  },
  {
   "cell_type": "code",
   "execution_count": 16,
   "metadata": {},
   "outputs": [],
   "source": [
    "def calculate_entropy_elbo_cross_entropy (prob_differences, D):\n",
    "    pass"
   ]
  },
  {
   "cell_type": "code",
   "execution_count": 17,
   "metadata": {},
   "outputs": [],
   "source": [
    "def calculate_entropy (prob_differences, D):\n",
    "    pass"
   ]
  },
  {
   "cell_type": "code",
   "execution_count": 18,
   "metadata": {},
   "outputs": [],
   "source": [
    "def custom_loss(outputs, batch, encoding_dict, lora_layers, lambda_val=10, lora_lambda_val = 0.01):\n",
    "    # Standard captioning loss\n",
    "    standard_loss = outputs.loss\n",
    "\n",
    "    # Additional compression loss\n",
    "    compression_loss = 0\n",
    "    # add two dimensions to output probs at 2 and 3\n",
    "    outputs_probs = F.softmax(outputs.logits, dim=-1)\n",
    "    outputs_probs_expanded = outputs_probs.squeeze(1).unsqueeze(2).unsqueeze(3)\n",
    "    prob_differences = generated_probs_expanded - outputs_probs_expanded\n",
    "    print (\"prob_differences.shape = \", outputs_probs.shape, generated_probs_expanded.shape, outputs_probs_expanded.shape, prob_differences.shape)\n",
    "    # calculate the compression loss\n",
    "    # find number of elements in generated_predicted_logits\n",
    "    D = generated_probs.numel()\n",
    "    compression_loss = lambda_val* calculate_entropy_elbo_difference (prob_differences, D)\n",
    "     \n",
    "\n",
    "    # Optionally, add a term for LoRA regularization if needed\n",
    "    lora_regularization = 0\n",
    "    # for param in model.parameters():\n",
    "    #     for lora_layer in lora_layers:\n",
    "    #         if is_lora_param(param, lora_layer):\n",
    "    #             lora_regularization += torch.norm(param)\n",
    "    print (standard_loss, compression_loss)\n",
    "\n",
    "    return standard_loss + compression_loss + lora_lambda_val * lora_regularization"
   ]
  },
  {
   "cell_type": "code",
   "execution_count": 19,
   "metadata": {},
   "outputs": [
    {
     "name": "stderr",
     "output_type": "stream",
     "text": [
      "/Users/sagnik/Library/Python/3.9/lib/python/site-packages/transformers/optimization.py:429: FutureWarning: This implementation of AdamW is deprecated and will be removed in a future version. Use the PyTorch implementation torch.optim.AdamW instead, or set `no_deprecation_warning=True` to disable this warning\n",
      "  warnings.warn(\n",
      "  0%|          | 0/2 [00:00<?, ?it/s]"
     ]
    },
    {
     "name": "stderr",
     "output_type": "stream",
     "text": [
      "/var/folders/wd/7s_rgclx5rlc79rrjnspznh00000gn/T/ipykernel_4585/3431795457.py:7: UserWarning: To copy construct from a tensor, it is recommended to use sourceTensor.clone().detach() or sourceTensor.clone().detach().requires_grad_(True), rather than torch.tensor(sourceTensor).\n",
      "  item = {key: torch.tensor(val[idx]) for key, val in self.encodings.items()}\n",
      "/var/folders/wd/7s_rgclx5rlc79rrjnspznh00000gn/T/ipykernel_4585/3431795457.py:8: UserWarning: To copy construct from a tensor, it is recommended to use sourceTensor.clone().detach() or sourceTensor.clone().detach().requires_grad_(True), rather than torch.tensor(sourceTensor).\n",
      "  item['labels'] = torch.tensor(self.captions[idx])\n",
      "We strongly recommend passing in an `attention_mask` since your input_ids may be padded. See https://huggingface.co/docs/transformers/troubleshooting#incorrect-output-when-padding-tokens-arent-masked.\n",
      "You may ignore this warning if your `pad_token_id` (50256) is identical to the `bos_token_id` (50256), `eos_token_id` (50256), or the `sep_token_id` (None), and your input is not padded.\n"
     ]
    },
    {
     "name": "stdout",
     "output_type": "stream",
     "text": [
      "prob_differences.shape =  torch.Size([32, 1, 10, 50257]) torch.Size([1, 1, 40, 10, 50257]) torch.Size([32, 10, 1, 1, 50257]) torch.Size([32, 10, 40, 10, 50257])\n",
      "torch.Size([32, 10, 40, 10])\n",
      "tensor(9.1685, grad_fn=<NllLossBackward0>) tensor(192.8457, grad_fn=<MulBackward0>)\n"
     ]
    },
    {
     "ename": "",
     "evalue": "",
     "output_type": "error",
     "traceback": [
      "\u001b[1;31mThe Kernel crashed while executing code in the current cell or a previous cell. \n",
      "\u001b[1;31mPlease review the code in the cell(s) to identify a possible cause of the failure. \n",
      "\u001b[1;31mClick <a href='https://aka.ms/vscodeJupyterKernelCrash'>here</a> for more info. \n",
      "\u001b[1;31mView Jupyter <a href='command:jupyter.viewOutput'>log</a> for further details."
     ]
    }
   ],
   "source": [
    "# Fine tuning using custom loss\n",
    "\n",
    "device = torch.device(\"cuda\" if torch.cuda.is_available() else \"cpu\")\n",
    "model.to(device)\n",
    "model.train()\n",
    "\n",
    "lr = 1e-4\n",
    "num_epochs = 30\n",
    "\n",
    "optimizer = AdamW([param for param in model.parameters() if param.requires_grad], lr=lr)\n",
    "\n",
    "for epoch in range(num_epochs):\n",
    "    loop = tqdm(train_loader, leave=True)\n",
    "    for batch in loop:\n",
    "        # Move batch to device\n",
    "        batch = {k: v.to(device) for k, v in batch.items()}\n",
    "\n",
    "        # Forward pass\n",
    "        outputs = model(**batch)\n",
    "        loss = custom_loss(outputs, batch, encoding_dict, lora_layers)\n",
    "\n",
    "        # Backward pass and optimization\n",
    "        optimizer.zero_grad()\n",
    "        loss.backward()\n",
    "        optimizer.step()\n",
    "\n",
    "        # Update progress bar\n",
    "        loop.set_description(f\"Epoch {epoch}\")\n",
    "        loop.set_postfix(loss=loss.item())"
   ]
  },
  {
   "cell_type": "code",
   "execution_count": null,
   "metadata": {},
   "outputs": [],
   "source": [
    "# create directory to save the model if it doesn't exist\n",
    "if not os.path.exists(\"models\"):\n",
    "    os.mkdir(\"models\")\n",
    "# save model checkpoint to models directory using current timestamp and date\n",
    "torch.save(model.state_dict(), f\"models/{time.strftime('%Y%m%d-%H%M%S')}.pth\")\n"
   ]
  },
  {
   "cell_type": "code",
   "execution_count": null,
   "metadata": {},
   "outputs": [
    {
     "data": {
      "text/plain": [
       "<All keys matched successfully>"
      ]
     },
     "execution_count": 26,
     "metadata": {},
     "output_type": "execute_result"
    }
   ],
   "source": [
    "# load latest model checkpoint among all the saved models\n",
    "latest_model = torch.load(max(glob.glob('models/*.pth'), key=os.path.getctime))\n",
    "# load the model with the latest checkpoint\n",
    "model.load_state_dict(latest_model)"
   ]
  },
  {
   "cell_type": "code",
   "execution_count": null,
   "metadata": {},
   "outputs": [
    {
     "name": "stdout",
     "output_type": "stream",
     "text": [
      "EOS has been generated\n",
      "EOS has been generated\n",
      "EOS has been generated\n"
     ]
    }
   ],
   "source": [
    "# Generate captions for the test dataset\n",
    "generated_captions_custom_model = []\n",
    "# Iterate over the dataset and generate captions\n",
    "for data in dataset:\n",
    "    image = data['image']\n",
    "    generated_logits, generated_predicted_ids, caption = generate_caption_with_logits(image)\n",
    "    generated_captions_custom_model.append(caption)\n"
   ]
  },
  {
   "cell_type": "code",
   "execution_count": null,
   "metadata": {},
   "outputs": [],
   "source": [
    "# Encode compressed dictionary word using manual huffman encoding"
   ]
  },
  {
   "cell_type": "code",
   "execution_count": null,
   "metadata": {},
   "outputs": [],
   "source": [
    "# Replace compressed_dict words occurring in the generated_captions_custom_model with their corresponding huffman encoding"
   ]
  },
  {
   "cell_type": "code",
   "execution_count": null,
   "metadata": {},
   "outputs": [],
   "source": [
    "# compare encoded generated_captions_custom_model + huffman encoding dictionary information with the original generated_captions to calculate compression ratio"
   ]
  },
  {
   "cell_type": "code",
   "execution_count": null,
   "metadata": {},
   "outputs": [
    {
     "name": "stdout",
     "output_type": "stream",
     "text": [
      "a green truck parked next to a curb  WAIT a green truck parked next to a curb next to\n",
      "a man is walking down the street with a skate WAIT a man walking down the street with a skateboard\n",
      "a baseball player swinging a bat at a ball  WAIT a man swinging at a bat at a ball \n",
      "a cow is standing in a field of grass  WAIT a cow standing in grass field  \n",
      "a black dog sitting in the back of a truck WAIT a black black dog sitting in the back of a\n",
      "a man wearing a bow tie and glasses  WAIT a man wearing glasses and bow tie and glasses \n",
      "a dining room table with a large bowl of food WAIT a room with a large table with a large bowl\n",
      "a man standing next to a wall with a bunch WAIT a man standing next to a bunch of bunch of\n",
      "a man is playing tennis on a clay court  WAIT a man is playing tennis on a court \n",
      "a man and a woman playing a game of fr WAIT a man playing a game of fr fr fr game\n"
     ]
    }
   ],
   "source": [
    "# print generated_captions and generated_captions_custom_model elementwise to compare the results\n",
    "for i in range(len(generated_captions)):\n",
    "    print (generated_captions[i], \"WAIT\", generated_captions_custom_model[i])"
   ]
  }
 ],
 "metadata": {
  "kernelspec": {
   "display_name": "Python 3",
   "language": "python",
   "name": "python3"
  },
  "language_info": {
   "codemirror_mode": {
    "name": "ipython",
    "version": 3
   },
   "file_extension": ".py",
   "mimetype": "text/x-python",
   "name": "python",
   "nbconvert_exporter": "python",
   "pygments_lexer": "ipython3",
   "version": "3.9.6"
  }
 },
 "nbformat": 4,
 "nbformat_minor": 2
}

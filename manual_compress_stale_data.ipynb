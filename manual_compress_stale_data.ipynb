{
 "cells": [
  {
   "cell_type": "markdown",
   "metadata": {},
   "source": [
    "Introducing manual compression of image captions on stale (offline) data"
   ]
  },
  {
   "cell_type": "code",
   "execution_count": 7,
   "metadata": {},
   "outputs": [
    {
     "name": "stdout",
     "output_type": "stream",
     "text": [
      "Defaulting to user installation because normal site-packages is not writeable\n",
      "Requirement already satisfied: bert==2.2.0 in /home/ubuntu/.local/lib/python3.9/site-packages (from -r requirements.txt (line 1)) (2.2.0)\n",
      "Requirement already satisfied: bitsandbytes==0.42.0 in /home/ubuntu/.local/lib/python3.9/site-packages (from -r requirements.txt (line 2)) (0.42.0)\n",
      "Requirement already satisfied: datasets==2.15.0 in /home/ubuntu/.local/lib/python3.9/site-packages (from -r requirements.txt (line 3)) (2.15.0)\n",
      "Requirement already satisfied: fiftyone==0.23.4 in /home/ubuntu/.local/lib/python3.9/site-packages (from -r requirements.txt (line 4)) (0.23.4)\n",
      "Requirement already satisfied: glob2==0.7 in /home/ubuntu/.local/lib/python3.9/site-packages (from -r requirements.txt (line 5)) (0.7)\n",
      "Requirement already satisfied: gradio==4.15.0 in /home/ubuntu/.local/lib/python3.9/site-packages (from -r requirements.txt (line 6)) (4.15.0)\n",
      "Requirement already satisfied: huggingface-hub==0.19.4 in /home/ubuntu/.local/lib/python3.9/site-packages (from -r requirements.txt (line 7)) (0.19.4)\n",
      "Requirement already satisfied: ipykernel==6.27.1 in /home/ubuntu/.local/lib/python3.9/site-packages (from -r requirements.txt (line 8)) (6.27.1)\n",
      "Requirement already satisfied: ipython==8.12.3 in /home/ubuntu/.local/lib/python3.9/site-packages (from -r requirements.txt (line 9)) (8.12.3)\n",
      "Requirement already satisfied: llava==0.0.1.dev0 in /home/ubuntu/.local/lib/python3.9/site-packages (from -r requirements.txt (line 10)) (0.0.1.dev0)\n",
      "Requirement already satisfied: numpy==1.26.2 in /home/ubuntu/.local/lib/python3.9/site-packages (from -r requirements.txt (line 11)) (1.26.2)\n",
      "Requirement already satisfied: pandas==2.1.4 in /home/ubuntu/.local/lib/python3.9/site-packages (from -r requirements.txt (line 12)) (2.1.4)\n",
      "Requirement already satisfied: sacrebleu==1.5.0 in /home/ubuntu/.local/lib/python3.9/site-packages (from -r requirements.txt (line 13)) (1.5.0)\n",
      "Requirement already satisfied: safetensors==0.4.1 in /home/ubuntu/.local/lib/python3.9/site-packages (from -r requirements.txt (line 14)) (0.4.1)\n",
      "Requirement already satisfied: torch==2.1.1 in /home/ubuntu/.local/lib/python3.9/site-packages (from -r requirements.txt (line 15)) (2.1.1)\n",
      "Requirement already satisfied: torchaudio==2.1.1 in /home/ubuntu/.local/lib/python3.9/site-packages (from -r requirements.txt (line 16)) (2.1.1)\n",
      "Requirement already satisfied: torchvision==0.16.1 in /home/ubuntu/.local/lib/python3.9/site-packages (from -r requirements.txt (line 17)) (0.16.1)\n",
      "Requirement already satisfied: tqdm==4.66.1 in /home/ubuntu/.local/lib/python3.9/site-packages (from -r requirements.txt (line 18)) (4.66.1)\n",
      "Requirement already satisfied: transformers==4.36.0 in /home/ubuntu/.local/lib/python3.9/site-packages (from -r requirements.txt (line 19)) (4.36.0)\n",
      "Requirement already satisfied: wandb==0.16.2 in /home/ubuntu/.local/lib/python3.9/site-packages (from -r requirements.txt (line 20)) (0.16.2)\n",
      "Requirement already satisfied: erlastic in /home/ubuntu/.local/lib/python3.9/site-packages (from bert==2.2.0->-r requirements.txt (line 1)) (2.0.0)\n",
      "Requirement already satisfied: scipy in /home/ubuntu/.local/lib/python3.9/site-packages (from bitsandbytes==0.42.0->-r requirements.txt (line 2)) (1.11.4)\n",
      "Requirement already satisfied: pyarrow>=8.0.0 in /home/ubuntu/.local/lib/python3.9/site-packages (from datasets==2.15.0->-r requirements.txt (line 3)) (14.0.1)\n",
      "Requirement already satisfied: pyarrow-hotfix in /home/ubuntu/.local/lib/python3.9/site-packages (from datasets==2.15.0->-r requirements.txt (line 3)) (0.6)\n",
      "Requirement already satisfied: dill<0.3.8,>=0.3.0 in /home/ubuntu/.local/lib/python3.9/site-packages (from datasets==2.15.0->-r requirements.txt (line 3)) (0.3.7)\n",
      "Requirement already satisfied: requests>=2.19.0 in /usr/lib/python3.9/site-packages (from datasets==2.15.0->-r requirements.txt (line 3)) (2.31.0)\n",
      "Requirement already satisfied: xxhash in /home/ubuntu/.local/lib/python3.9/site-packages (from datasets==2.15.0->-r requirements.txt (line 3)) (3.4.1)\n",
      "Requirement already satisfied: multiprocess in /home/ubuntu/.local/lib/python3.9/site-packages (from datasets==2.15.0->-r requirements.txt (line 3)) (0.70.15)\n",
      "Requirement already satisfied: fsspec<=2023.10.0,>=2023.1.0 in /home/ubuntu/.local/lib/python3.9/site-packages (from fsspec[http]<=2023.10.0,>=2023.1.0->datasets==2.15.0->-r requirements.txt (line 3)) (2023.10.0)\n",
      "Requirement already satisfied: aiohttp in /usr/lib/python3.9/site-packages (from datasets==2.15.0->-r requirements.txt (line 3)) (3.9.3)\n",
      "Requirement already satisfied: packaging in /home/ubuntu/.local/lib/python3.9/site-packages (from datasets==2.15.0->-r requirements.txt (line 3)) (23.2)\n",
      "Requirement already satisfied: pyyaml>=5.1 in /usr/lib/python3.9/site-packages (from datasets==2.15.0->-r requirements.txt (line 3)) (6.0.1)\n",
      "Requirement already satisfied: aiofiles in /home/ubuntu/.local/lib/python3.9/site-packages (from fiftyone==0.23.4->-r requirements.txt (line 4)) (23.2.1)\n",
      "Requirement already satisfied: argcomplete in /home/ubuntu/.local/lib/python3.9/site-packages (from fiftyone==0.23.4->-r requirements.txt (line 4)) (3.2.2)\n",
      "Requirement already satisfied: beautifulsoup4 in /home/ubuntu/.local/lib/python3.9/site-packages (from fiftyone==0.23.4->-r requirements.txt (line 4)) (4.12.3)\n",
      "Requirement already satisfied: boto3 in /usr/lib/python3.9/site-packages (from fiftyone==0.23.4->-r requirements.txt (line 4)) (1.34.37)\n",
      "Requirement already satisfied: cachetools in /home/ubuntu/.local/lib/python3.9/site-packages (from fiftyone==0.23.4->-r requirements.txt (line 4)) (5.3.2)\n",
      "Requirement already satisfied: dacite<1.8.0,>=1.6.0 in /home/ubuntu/.local/lib/python3.9/site-packages (from fiftyone==0.23.4->-r requirements.txt (line 4)) (1.7.0)\n",
      "Requirement already satisfied: Deprecated in /home/ubuntu/.local/lib/python3.9/site-packages (from fiftyone==0.23.4->-r requirements.txt (line 4)) (1.2.14)\n",
      "Requirement already satisfied: ftfy in /home/ubuntu/.local/lib/python3.9/site-packages (from fiftyone==0.23.4->-r requirements.txt (line 4)) (6.1.3)\n",
      "Requirement already satisfied: humanize in /home/ubuntu/.local/lib/python3.9/site-packages (from fiftyone==0.23.4->-r requirements.txt (line 4)) (4.9.0)\n",
      "Requirement already satisfied: hypercorn>=0.13.2 in /home/ubuntu/.local/lib/python3.9/site-packages (from fiftyone==0.23.4->-r requirements.txt (line 4)) (0.16.0)\n",
      "Requirement already satisfied: Jinja2>=3 in /home/ubuntu/.local/lib/python3.9/site-packages (from fiftyone==0.23.4->-r requirements.txt (line 4)) (3.1.2)\n",
      "Requirement already satisfied: kaleido!=0.2.1.post1 in /home/ubuntu/.local/lib/python3.9/site-packages (from fiftyone==0.23.4->-r requirements.txt (line 4)) (0.2.1)\n",
      "Requirement already satisfied: matplotlib in /home/ubuntu/.local/lib/python3.9/site-packages (from fiftyone==0.23.4->-r requirements.txt (line 4)) (3.8.2)\n",
      "Requirement already satisfied: mongoengine==0.24.2 in /home/ubuntu/.local/lib/python3.9/site-packages (from fiftyone==0.23.4->-r requirements.txt (line 4)) (0.24.2)\n",
      "Requirement already satisfied: motor>=2.5 in /home/ubuntu/.local/lib/python3.9/site-packages (from fiftyone==0.23.4->-r requirements.txt (line 4)) (3.3.2)\n",
      "Requirement already satisfied: Pillow>=6.2 in /home/ubuntu/.local/lib/python3.9/site-packages (from fiftyone==0.23.4->-r requirements.txt (line 4)) (10.1.0)\n",
      "Requirement already satisfied: plotly>=4.14 in /home/ubuntu/.local/lib/python3.9/site-packages (from fiftyone==0.23.4->-r requirements.txt (line 4)) (5.18.0)\n",
      "Requirement already satisfied: pprintpp in /home/ubuntu/.local/lib/python3.9/site-packages (from fiftyone==0.23.4->-r requirements.txt (line 4)) (0.4.0)\n",
      "Requirement already satisfied: psutil in /home/ubuntu/.local/lib/python3.9/site-packages (from fiftyone==0.23.4->-r requirements.txt (line 4)) (5.9.6)\n",
      "Requirement already satisfied: pymongo>=3.12 in /home/ubuntu/.local/lib/python3.9/site-packages (from fiftyone==0.23.4->-r requirements.txt (line 4)) (4.6.1)\n",
      "Requirement already satisfied: pytz in /home/ubuntu/.local/lib/python3.9/site-packages (from fiftyone==0.23.4->-r requirements.txt (line 4)) (2023.3.post1)\n",
      "Requirement already satisfied: regex in /home/ubuntu/.local/lib/python3.9/site-packages (from fiftyone==0.23.4->-r requirements.txt (line 4)) (2023.10.3)\n",
      "Requirement already satisfied: retrying in /home/ubuntu/.local/lib/python3.9/site-packages (from fiftyone==0.23.4->-r requirements.txt (line 4)) (1.3.4)\n",
      "Requirement already satisfied: scikit-learn in /home/ubuntu/.local/lib/python3.9/site-packages (from fiftyone==0.23.4->-r requirements.txt (line 4)) (1.3.2)\n",
      "Requirement already satisfied: scikit-image in /home/ubuntu/.local/lib/python3.9/site-packages (from fiftyone==0.23.4->-r requirements.txt (line 4)) (0.22.0)\n",
      "Requirement already satisfied: setuptools in /usr/lib/python3.9/site-packages (from fiftyone==0.23.4->-r requirements.txt (line 4)) (69.0.3)\n",
      "Requirement already satisfied: sseclient-py<2,>=1.7.2 in /home/ubuntu/.local/lib/python3.9/site-packages (from fiftyone==0.23.4->-r requirements.txt (line 4)) (1.8.0)\n",
      "Requirement already satisfied: sse-starlette<1,>=0.10.3 in /home/ubuntu/.local/lib/python3.9/site-packages (from fiftyone==0.23.4->-r requirements.txt (line 4)) (0.10.3)\n",
      "Requirement already satisfied: starlette>=0.24.0 in /home/ubuntu/.local/lib/python3.9/site-packages (from fiftyone==0.23.4->-r requirements.txt (line 4)) (0.36.3)\n",
      "Requirement already satisfied: strawberry-graphql==0.138.1 in /home/ubuntu/.local/lib/python3.9/site-packages (from fiftyone==0.23.4->-r requirements.txt (line 4)) (0.138.1)\n",
      "Requirement already satisfied: tabulate in /home/ubuntu/.local/lib/python3.9/site-packages (from fiftyone==0.23.4->-r requirements.txt (line 4)) (0.9.0)\n",
      "Requirement already satisfied: xmltodict in /home/ubuntu/.local/lib/python3.9/site-packages (from fiftyone==0.23.4->-r requirements.txt (line 4)) (0.13.0)\n",
      "Requirement already satisfied: universal-analytics-python3<2,>=1.0.1 in /home/ubuntu/.local/lib/python3.9/site-packages (from fiftyone==0.23.4->-r requirements.txt (line 4)) (1.1.1)\n",
      "Requirement already satisfied: fiftyone-brain<0.17,>=0.16.0 in /home/ubuntu/.local/lib/python3.9/site-packages (from fiftyone==0.23.4->-r requirements.txt (line 4)) (0.16.1)\n",
      "Requirement already satisfied: fiftyone-db<2.0,>=0.4 in /home/ubuntu/.local/lib/python3.9/site-packages (from fiftyone==0.23.4->-r requirements.txt (line 4)) (1.1.1)\n",
      "Requirement already satisfied: voxel51-eta<0.13,>=0.12.4 in /home/ubuntu/.local/lib/python3.9/site-packages (from fiftyone==0.23.4->-r requirements.txt (line 4)) (0.12.5)\n",
      "Requirement already satisfied: opencv-python-headless in /home/ubuntu/.local/lib/python3.9/site-packages (from fiftyone==0.23.4->-r requirements.txt (line 4)) (4.9.0.80)\n",
      "Requirement already satisfied: altair<6.0,>=4.2.0 in /home/ubuntu/.local/lib/python3.9/site-packages (from gradio==4.15.0->-r requirements.txt (line 6)) (5.2.0)\n",
      "Requirement already satisfied: fastapi in /usr/lib/python3.9/site-packages (from gradio==4.15.0->-r requirements.txt (line 6)) (0.109.2)\n",
      "Requirement already satisfied: ffmpy in /home/ubuntu/.local/lib/python3.9/site-packages (from gradio==4.15.0->-r requirements.txt (line 6)) (0.3.1)\n",
      "Requirement already satisfied: gradio-client==0.8.1 in /home/ubuntu/.local/lib/python3.9/site-packages (from gradio==4.15.0->-r requirements.txt (line 6)) (0.8.1)\n",
      "Requirement already satisfied: httpx in /home/ubuntu/.local/lib/python3.9/site-packages (from gradio==4.15.0->-r requirements.txt (line 6)) (0.27.0)\n",
      "Requirement already satisfied: importlib-resources<7.0,>=1.3 in /home/ubuntu/.local/lib/python3.9/site-packages (from gradio==4.15.0->-r requirements.txt (line 6)) (6.1.1)\n",
      "Requirement already satisfied: markupsafe~=2.0 in /home/ubuntu/.local/lib/python3.9/site-packages (from gradio==4.15.0->-r requirements.txt (line 6)) (2.1.3)\n",
      "Requirement already satisfied: orjson~=3.0 in /home/ubuntu/.local/lib/python3.9/site-packages (from gradio==4.15.0->-r requirements.txt (line 6)) (3.9.12)\n",
      "Requirement already satisfied: pydantic>=2.0 in /home/ubuntu/.local/lib/python3.9/site-packages (from gradio==4.15.0->-r requirements.txt (line 6)) (2.5.3)\n",
      "Requirement already satisfied: pydub in /home/ubuntu/.local/lib/python3.9/site-packages (from gradio==4.15.0->-r requirements.txt (line 6)) (0.25.1)\n",
      "Requirement already satisfied: python-multipart in /home/ubuntu/.local/lib/python3.9/site-packages (from gradio==4.15.0->-r requirements.txt (line 6)) (0.0.6)\n",
      "Requirement already satisfied: ruff>=0.1.7 in /home/ubuntu/.local/lib/python3.9/site-packages (from gradio==4.15.0->-r requirements.txt (line 6)) (0.1.14)\n",
      "Requirement already satisfied: semantic-version~=2.0 in /home/ubuntu/.local/lib/python3.9/site-packages (from gradio==4.15.0->-r requirements.txt (line 6)) (2.10.0)\n",
      "Requirement already satisfied: tomlkit==0.12.0 in /home/ubuntu/.local/lib/python3.9/site-packages (from gradio==4.15.0->-r requirements.txt (line 6)) (0.12.0)\n",
      "Requirement already satisfied: typer<1.0,>=0.9 in /home/ubuntu/.local/lib/python3.9/site-packages (from typer[all]<1.0,>=0.9->gradio==4.15.0->-r requirements.txt (line 6)) (0.9.0)\n",
      "Requirement already satisfied: typing-extensions~=4.0 in /usr/lib/python3.9/site-packages (from gradio==4.15.0->-r requirements.txt (line 6)) (4.9.0)\n",
      "Requirement already satisfied: uvicorn>=0.14.0 in /home/ubuntu/.local/lib/python3.9/site-packages (from gradio==4.15.0->-r requirements.txt (line 6)) (0.22.0)\n",
      "Requirement already satisfied: filelock in /usr/lib/python3.9/site-packages (from huggingface-hub==0.19.4->-r requirements.txt (line 7)) (3.13.1)\n",
      "Requirement already satisfied: comm>=0.1.1 in /home/ubuntu/.local/lib/python3.9/site-packages (from ipykernel==6.27.1->-r requirements.txt (line 8)) (0.2.0)\n",
      "Requirement already satisfied: debugpy>=1.6.5 in /home/ubuntu/.local/lib/python3.9/site-packages (from ipykernel==6.27.1->-r requirements.txt (line 8)) (1.8.0)\n",
      "Requirement already satisfied: jupyter-client>=6.1.12 in /home/ubuntu/.local/lib/python3.9/site-packages (from ipykernel==6.27.1->-r requirements.txt (line 8)) (8.6.0)\n",
      "Requirement already satisfied: jupyter-core!=5.0.*,>=4.12 in /home/ubuntu/.local/lib/python3.9/site-packages (from ipykernel==6.27.1->-r requirements.txt (line 8)) (5.5.0)\n",
      "Requirement already satisfied: matplotlib-inline>=0.1 in /usr/lib/python3.9/site-packages (from ipykernel==6.27.1->-r requirements.txt (line 8)) (0.1.6)\n",
      "Requirement already satisfied: nest-asyncio in /home/ubuntu/.local/lib/python3.9/site-packages (from ipykernel==6.27.1->-r requirements.txt (line 8)) (1.5.8)\n",
      "Requirement already satisfied: pyzmq>=20 in /home/ubuntu/.local/lib/python3.9/site-packages (from ipykernel==6.27.1->-r requirements.txt (line 8)) (25.1.2)\n",
      "Requirement already satisfied: tornado>=6.1 in /home/ubuntu/.local/lib/python3.9/site-packages (from ipykernel==6.27.1->-r requirements.txt (line 8)) (6.4)\n",
      "Requirement already satisfied: traitlets>=5.4.0 in /home/ubuntu/.local/lib/python3.9/site-packages (from ipykernel==6.27.1->-r requirements.txt (line 8)) (5.14.0)\n",
      "Requirement already satisfied: backcall in /home/ubuntu/.local/lib/python3.9/site-packages (from ipython==8.12.3->-r requirements.txt (line 9)) (0.2.0)\n",
      "Requirement already satisfied: decorator in /usr/lib/python3.9/site-packages (from ipython==8.12.3->-r requirements.txt (line 9)) (5.1.1)\n",
      "Requirement already satisfied: jedi>=0.16 in /usr/lib/python3.9/site-packages (from ipython==8.12.3->-r requirements.txt (line 9)) (0.19.1)\n",
      "Requirement already satisfied: pickleshare in /home/ubuntu/.local/lib/python3.9/site-packages (from ipython==8.12.3->-r requirements.txt (line 9)) (0.7.5)\n",
      "Requirement already satisfied: prompt-toolkit!=3.0.37,<3.1.0,>=3.0.30 in /home/ubuntu/.local/lib/python3.9/site-packages (from ipython==8.12.3->-r requirements.txt (line 9)) (3.0.41)\n",
      "Requirement already satisfied: pygments>=2.4.0 in /usr/lib/python3.9/site-packages (from ipython==8.12.3->-r requirements.txt (line 9)) (2.17.2)\n",
      "Requirement already satisfied: stack-data in /usr/lib/python3.9/site-packages (from ipython==8.12.3->-r requirements.txt (line 9)) (0.6.3)\n",
      "Requirement already satisfied: pexpect>4.3 in /usr/lib/python3.9/site-packages (from ipython==8.12.3->-r requirements.txt (line 9)) (4.9.0)\n",
      "Requirement already satisfied: python-dateutil>=2.8.2 in /usr/lib/python3.9/site-packages (from pandas==2.1.4->-r requirements.txt (line 12)) (2.8.2)\n",
      "Requirement already satisfied: tzdata>=2022.1 in /home/ubuntu/.local/lib/python3.9/site-packages (from pandas==2.1.4->-r requirements.txt (line 12)) (2023.3)\n",
      "Requirement already satisfied: portalocker in /home/ubuntu/.local/lib/python3.9/site-packages (from sacrebleu==1.5.0->-r requirements.txt (line 13)) (2.8.2)\n",
      "Requirement already satisfied: sympy in /home/ubuntu/.local/lib/python3.9/site-packages (from torch==2.1.1->-r requirements.txt (line 15)) (1.12)\n",
      "Requirement already satisfied: networkx in /home/ubuntu/.local/lib/python3.9/site-packages (from torch==2.1.1->-r requirements.txt (line 15)) (3.2.1)\n",
      "Requirement already satisfied: nvidia-cuda-nvrtc-cu12==12.1.105 in /home/ubuntu/.local/lib/python3.9/site-packages (from torch==2.1.1->-r requirements.txt (line 15)) (12.1.105)\n",
      "Requirement already satisfied: nvidia-cuda-runtime-cu12==12.1.105 in /home/ubuntu/.local/lib/python3.9/site-packages (from torch==2.1.1->-r requirements.txt (line 15)) (12.1.105)\n",
      "Requirement already satisfied: nvidia-cuda-cupti-cu12==12.1.105 in /home/ubuntu/.local/lib/python3.9/site-packages (from torch==2.1.1->-r requirements.txt (line 15)) (12.1.105)\n",
      "Requirement already satisfied: nvidia-cudnn-cu12==8.9.2.26 in /home/ubuntu/.local/lib/python3.9/site-packages (from torch==2.1.1->-r requirements.txt (line 15)) (8.9.2.26)\n",
      "Requirement already satisfied: nvidia-cublas-cu12==12.1.3.1 in /home/ubuntu/.local/lib/python3.9/site-packages (from torch==2.1.1->-r requirements.txt (line 15)) (12.1.3.1)\n",
      "Requirement already satisfied: nvidia-cufft-cu12==11.0.2.54 in /home/ubuntu/.local/lib/python3.9/site-packages (from torch==2.1.1->-r requirements.txt (line 15)) (11.0.2.54)\n",
      "Requirement already satisfied: nvidia-curand-cu12==10.3.2.106 in /home/ubuntu/.local/lib/python3.9/site-packages (from torch==2.1.1->-r requirements.txt (line 15)) (10.3.2.106)\n",
      "Requirement already satisfied: nvidia-cusolver-cu12==11.4.5.107 in /home/ubuntu/.local/lib/python3.9/site-packages (from torch==2.1.1->-r requirements.txt (line 15)) (11.4.5.107)\n",
      "Requirement already satisfied: nvidia-cusparse-cu12==12.1.0.106 in /home/ubuntu/.local/lib/python3.9/site-packages (from torch==2.1.1->-r requirements.txt (line 15)) (12.1.0.106)\n",
      "Requirement already satisfied: nvidia-nccl-cu12==2.18.1 in /home/ubuntu/.local/lib/python3.9/site-packages (from torch==2.1.1->-r requirements.txt (line 15)) (2.18.1)\n",
      "Requirement already satisfied: nvidia-nvtx-cu12==12.1.105 in /home/ubuntu/.local/lib/python3.9/site-packages (from torch==2.1.1->-r requirements.txt (line 15)) (12.1.105)\n",
      "Requirement already satisfied: triton==2.1.0 in /home/ubuntu/.local/lib/python3.9/site-packages (from torch==2.1.1->-r requirements.txt (line 15)) (2.1.0)\n",
      "Requirement already satisfied: tokenizers<0.19,>=0.14 in /home/ubuntu/.local/lib/python3.9/site-packages (from transformers==4.36.0->-r requirements.txt (line 19)) (0.15.2)\n",
      "Requirement already satisfied: Click!=8.0.0,>=7.1 in /usr/lib/python3.9/site-packages (from wandb==0.16.2->-r requirements.txt (line 20)) (8.1.7)\n",
      "Requirement already satisfied: GitPython!=3.1.29,>=1.0.0 in /home/ubuntu/.local/lib/python3.9/site-packages (from wandb==0.16.2->-r requirements.txt (line 20)) (3.1.41)\n",
      "Requirement already satisfied: sentry-sdk>=1.0.0 in /home/ubuntu/.local/lib/python3.9/site-packages (from wandb==0.16.2->-r requirements.txt (line 20)) (1.39.2)\n",
      "Requirement already satisfied: docker-pycreds>=0.4.0 in /home/ubuntu/.local/lib/python3.9/site-packages (from wandb==0.16.2->-r requirements.txt (line 20)) (0.4.0)\n",
      "Requirement already satisfied: setproctitle in /home/ubuntu/.local/lib/python3.9/site-packages (from wandb==0.16.2->-r requirements.txt (line 20)) (1.3.3)\n",
      "Requirement already satisfied: appdirs>=1.4.3 in /home/ubuntu/.local/lib/python3.9/site-packages (from wandb==0.16.2->-r requirements.txt (line 20)) (1.4.4)\n",
      "Requirement already satisfied: protobuf!=4.21.0,<5,>=3.15.0 in /home/ubuntu/.local/lib/python3.9/site-packages (from wandb==0.16.2->-r requirements.txt (line 20)) (4.25.2)\n",
      "Requirement already satisfied: websockets<12.0,>=10.0 in /home/ubuntu/.local/lib/python3.9/site-packages (from gradio-client==0.8.1->gradio==4.15.0->-r requirements.txt (line 6)) (11.0.3)\n",
      "Requirement already satisfied: nvidia-nvjitlink-cu12 in /home/ubuntu/.local/lib/python3.9/site-packages (from nvidia-cusolver-cu12==11.4.5.107->torch==2.1.1->-r requirements.txt (line 15)) (12.3.101)\n",
      "Requirement already satisfied: graphql-core<3.3.0,>=3.2.0 in /home/ubuntu/.local/lib/python3.9/site-packages (from strawberry-graphql==0.138.1->fiftyone==0.23.4->-r requirements.txt (line 4)) (3.2.3)\n",
      "Requirement already satisfied: jsonschema>=3.0 in /home/ubuntu/.local/lib/python3.9/site-packages (from altair<6.0,>=4.2.0->gradio==4.15.0->-r requirements.txt (line 6)) (4.21.1)\n",
      "Requirement already satisfied: toolz in /home/ubuntu/.local/lib/python3.9/site-packages (from altair<6.0,>=4.2.0->gradio==4.15.0->-r requirements.txt (line 6)) (0.12.0)\n",
      "Requirement already satisfied: six>=1.4.0 in /usr/lib/python3.9/site-packages (from docker-pycreds>=0.4.0->wandb==0.16.2->-r requirements.txt (line 20)) (1.16.0)\n",
      "Requirement already satisfied: aiosignal>=1.1.2 in /usr/lib/python3.9/site-packages (from aiohttp->datasets==2.15.0->-r requirements.txt (line 3)) (1.3.1)\n",
      "Requirement already satisfied: attrs>=17.3.0 in /home/ubuntu/.local/lib/python3.9/site-packages (from aiohttp->datasets==2.15.0->-r requirements.txt (line 3)) (23.1.0)\n",
      "Requirement already satisfied: frozenlist>=1.1.1 in /home/ubuntu/.local/lib/python3.9/site-packages (from aiohttp->datasets==2.15.0->-r requirements.txt (line 3)) (1.4.0)\n",
      "Requirement already satisfied: multidict<7.0,>=4.5 in /home/ubuntu/.local/lib/python3.9/site-packages (from aiohttp->datasets==2.15.0->-r requirements.txt (line 3)) (6.0.4)\n",
      "Requirement already satisfied: yarl<2.0,>=1.0 in /usr/lib/python3.9/site-packages (from aiohttp->datasets==2.15.0->-r requirements.txt (line 3)) (1.9.4)\n",
      "Requirement already satisfied: async-timeout<5.0,>=4.0 in /usr/lib/python3.9/site-packages (from aiohttp->datasets==2.15.0->-r requirements.txt (line 3)) (4.0.3)\n",
      "Requirement already satisfied: gitdb<5,>=4.0.1 in /home/ubuntu/.local/lib/python3.9/site-packages (from GitPython!=3.1.29,>=1.0.0->wandb==0.16.2->-r requirements.txt (line 20)) (4.0.11)\n",
      "Requirement already satisfied: h11 in /home/ubuntu/.local/lib/python3.9/site-packages (from hypercorn>=0.13.2->fiftyone==0.23.4->-r requirements.txt (line 4)) (0.14.0)\n",
      "Requirement already satisfied: h2>=3.1.0 in /home/ubuntu/.local/lib/python3.9/site-packages (from hypercorn>=0.13.2->fiftyone==0.23.4->-r requirements.txt (line 4)) (4.1.0)\n",
      "Requirement already satisfied: priority in /home/ubuntu/.local/lib/python3.9/site-packages (from hypercorn>=0.13.2->fiftyone==0.23.4->-r requirements.txt (line 4)) (2.0.0)\n",
      "Requirement already satisfied: taskgroup in /home/ubuntu/.local/lib/python3.9/site-packages (from hypercorn>=0.13.2->fiftyone==0.23.4->-r requirements.txt (line 4)) (0.0.0a4)\n",
      "Requirement already satisfied: tomli in /usr/lib/python3.9/site-packages (from hypercorn>=0.13.2->fiftyone==0.23.4->-r requirements.txt (line 4)) (2.0.1)\n",
      "Requirement already satisfied: wsproto>=0.14.0 in /home/ubuntu/.local/lib/python3.9/site-packages (from hypercorn>=0.13.2->fiftyone==0.23.4->-r requirements.txt (line 4)) (1.2.0)\n",
      "Requirement already satisfied: zipp>=3.1.0 in /usr/lib/python3.9/site-packages (from importlib-resources<7.0,>=1.3->gradio==4.15.0->-r requirements.txt (line 6)) (3.17.0)\n",
      "Requirement already satisfied: parso<0.9.0,>=0.8.3 in /usr/lib/python3.9/site-packages (from jedi>=0.16->ipython==8.12.3->-r requirements.txt (line 9)) (0.8.3)\n",
      "Requirement already satisfied: importlib-metadata>=4.8.3 in /home/ubuntu/.local/lib/python3.9/site-packages (from jupyter-client>=6.1.12->ipykernel==6.27.1->-r requirements.txt (line 8)) (7.0.0)\n",
      "Requirement already satisfied: platformdirs>=2.5 in /home/ubuntu/.local/lib/python3.9/site-packages (from jupyter-core!=5.0.*,>=4.12->ipykernel==6.27.1->-r requirements.txt (line 8)) (4.1.0)\n",
      "Requirement already satisfied: contourpy>=1.0.1 in /home/ubuntu/.local/lib/python3.9/site-packages (from matplotlib->fiftyone==0.23.4->-r requirements.txt (line 4)) (1.2.0)\n",
      "Requirement already satisfied: cycler>=0.10 in /home/ubuntu/.local/lib/python3.9/site-packages (from matplotlib->fiftyone==0.23.4->-r requirements.txt (line 4)) (0.12.1)\n",
      "Requirement already satisfied: fonttools>=4.22.0 in /home/ubuntu/.local/lib/python3.9/site-packages (from matplotlib->fiftyone==0.23.4->-r requirements.txt (line 4)) (4.46.0)\n",
      "Requirement already satisfied: kiwisolver>=1.3.1 in /home/ubuntu/.local/lib/python3.9/site-packages (from matplotlib->fiftyone==0.23.4->-r requirements.txt (line 4)) (1.4.5)\n",
      "Requirement already satisfied: pyparsing>=2.3.1 in /usr/lib/python3.9/site-packages (from matplotlib->fiftyone==0.23.4->-r requirements.txt (line 4)) (3.1.1)\n",
      "Requirement already satisfied: ptyprocess>=0.5 in /usr/lib/python3.9/site-packages (from pexpect>4.3->ipython==8.12.3->-r requirements.txt (line 9)) (0.7.0)\n",
      "Requirement already satisfied: tenacity>=6.2.0 in /home/ubuntu/.local/lib/python3.9/site-packages (from plotly>=4.14->fiftyone==0.23.4->-r requirements.txt (line 4)) (8.2.3)\n",
      "Requirement already satisfied: wcwidth in /home/ubuntu/.local/lib/python3.9/site-packages (from prompt-toolkit!=3.0.37,<3.1.0,>=3.0.30->ipython==8.12.3->-r requirements.txt (line 9)) (0.2.12)\n",
      "Requirement already satisfied: annotated-types>=0.4.0 in /usr/lib/python3.9/site-packages (from pydantic>=2.0->gradio==4.15.0->-r requirements.txt (line 6)) (0.6.0)\n",
      "Requirement already satisfied: pydantic-core==2.14.6 in /home/ubuntu/.local/lib/python3.9/site-packages (from pydantic>=2.0->gradio==4.15.0->-r requirements.txt (line 6)) (2.14.6)\n",
      "Requirement already satisfied: dnspython<3.0.0,>=1.16.0 in /home/ubuntu/.local/lib/python3.9/site-packages (from pymongo>=3.12->fiftyone==0.23.4->-r requirements.txt (line 4)) (2.5.0)\n",
      "Requirement already satisfied: charset-normalizer<4,>=2 in /usr/lib/python3.9/site-packages (from requests>=2.19.0->datasets==2.15.0->-r requirements.txt (line 3)) (3.3.2)\n",
      "Requirement already satisfied: idna<4,>=2.5 in /usr/lib/python3.9/site-packages (from requests>=2.19.0->datasets==2.15.0->-r requirements.txt (line 3)) (3.6)\n",
      "Requirement already satisfied: urllib3<3,>=1.21.1 in /usr/lib/python3.9/site-packages (from requests>=2.19.0->datasets==2.15.0->-r requirements.txt (line 3)) (1.26.18)\n",
      "Requirement already satisfied: certifi>=2017.4.17 in /home/ubuntu/.local/lib/python3.9/site-packages (from requests>=2.19.0->datasets==2.15.0->-r requirements.txt (line 3)) (2023.11.17)\n",
      "Requirement already satisfied: anyio<5,>=3.4.0 in /home/ubuntu/.local/lib/python3.9/site-packages (from starlette>=0.24.0->fiftyone==0.23.4->-r requirements.txt (line 4)) (3.7.1)\n",
      "Requirement already satisfied: colorama<0.5.0,>=0.4.3 in /home/ubuntu/.local/lib/python3.9/site-packages (from typer[all]<1.0,>=0.9->gradio==4.15.0->-r requirements.txt (line 6)) (0.4.6)\n",
      "Requirement already satisfied: shellingham<2.0.0,>=1.3.0 in /home/ubuntu/.local/lib/python3.9/site-packages (from typer[all]<1.0,>=0.9->gradio==4.15.0->-r requirements.txt (line 6)) (1.5.4)\n",
      "Requirement already satisfied: rich<14.0.0,>=10.11.0 in /usr/lib/python3.9/site-packages (from typer[all]<1.0,>=0.9->gradio==4.15.0->-r requirements.txt (line 6)) (13.7.0)\n",
      "Requirement already satisfied: httpcore==1.* in /home/ubuntu/.local/lib/python3.9/site-packages (from httpx->gradio==4.15.0->-r requirements.txt (line 6)) (1.0.4)\n",
      "Requirement already satisfied: sniffio in /usr/lib/python3.9/site-packages (from httpx->gradio==4.15.0->-r requirements.txt (line 6)) (1.3.0)\n",
      "Requirement already satisfied: future in /home/ubuntu/.local/lib/python3.9/site-packages (from voxel51-eta<0.13,>=0.12.4->fiftyone==0.23.4->-r requirements.txt (line 4)) (1.0.0)\n",
      "Requirement already satisfied: jsonlines in /home/ubuntu/.local/lib/python3.9/site-packages (from voxel51-eta<0.13,>=0.12.4->fiftyone==0.23.4->-r requirements.txt (line 4)) (4.0.0)\n",
      "Requirement already satisfied: py7zr in /home/ubuntu/.local/lib/python3.9/site-packages (from voxel51-eta<0.13,>=0.12.4->fiftyone==0.23.4->-r requirements.txt (line 4)) (0.20.8)\n",
      "Requirement already satisfied: rarfile in /home/ubuntu/.local/lib/python3.9/site-packages (from voxel51-eta<0.13,>=0.12.4->fiftyone==0.23.4->-r requirements.txt (line 4)) (4.1)\n",
      "Requirement already satisfied: sortedcontainers in /home/ubuntu/.local/lib/python3.9/site-packages (from voxel51-eta<0.13,>=0.12.4->fiftyone==0.23.4->-r requirements.txt (line 4)) (2.4.0)\n",
      "Requirement already satisfied: tzlocal in /home/ubuntu/.local/lib/python3.9/site-packages (from voxel51-eta<0.13,>=0.12.4->fiftyone==0.23.4->-r requirements.txt (line 4)) (5.2)\n",
      "Requirement already satisfied: soupsieve>1.2 in /home/ubuntu/.local/lib/python3.9/site-packages (from beautifulsoup4->fiftyone==0.23.4->-r requirements.txt (line 4)) (2.5)\n",
      "Requirement already satisfied: botocore<1.35.0,>=1.34.37 in /home/ubuntu/.local/lib/python3.9/site-packages (from boto3->fiftyone==0.23.4->-r requirements.txt (line 4)) (1.34.49)\n",
      "Requirement already satisfied: jmespath<2.0.0,>=0.7.1 in /usr/lib/python3.9/site-packages (from boto3->fiftyone==0.23.4->-r requirements.txt (line 4)) (1.0.1)\n",
      "Requirement already satisfied: s3transfer<0.11.0,>=0.10.0 in /usr/lib/python3.9/site-packages (from boto3->fiftyone==0.23.4->-r requirements.txt (line 4)) (0.10.0)\n",
      "Requirement already satisfied: wrapt<2,>=1.10 in /home/ubuntu/.local/lib/python3.9/site-packages (from Deprecated->fiftyone==0.23.4->-r requirements.txt (line 4)) (1.16.0)\n",
      "Requirement already satisfied: imageio>=2.27 in /home/ubuntu/.local/lib/python3.9/site-packages (from scikit-image->fiftyone==0.23.4->-r requirements.txt (line 4)) (2.33.1)\n",
      "Requirement already satisfied: tifffile>=2022.8.12 in /home/ubuntu/.local/lib/python3.9/site-packages (from scikit-image->fiftyone==0.23.4->-r requirements.txt (line 4)) (2023.12.9)\n",
      "Requirement already satisfied: lazy_loader>=0.3 in /home/ubuntu/.local/lib/python3.9/site-packages (from scikit-image->fiftyone==0.23.4->-r requirements.txt (line 4)) (0.3)\n",
      "Requirement already satisfied: joblib>=1.1.1 in /home/ubuntu/.local/lib/python3.9/site-packages (from scikit-learn->fiftyone==0.23.4->-r requirements.txt (line 4)) (1.3.2)\n",
      "Requirement already satisfied: threadpoolctl>=2.0.0 in /home/ubuntu/.local/lib/python3.9/site-packages (from scikit-learn->fiftyone==0.23.4->-r requirements.txt (line 4)) (3.2.0)\n",
      "Requirement already satisfied: executing>=1.2.0 in /usr/lib/python3.9/site-packages (from stack-data->ipython==8.12.3->-r requirements.txt (line 9)) (2.0.1)\n",
      "Requirement already satisfied: asttokens>=2.1.0 in /usr/lib/python3.9/site-packages (from stack-data->ipython==8.12.3->-r requirements.txt (line 9)) (2.4.1)\n",
      "Requirement already satisfied: pure-eval in /usr/lib/python3.9/site-packages (from stack-data->ipython==8.12.3->-r requirements.txt (line 9)) (0.2.2)\n",
      "Requirement already satisfied: mpmath>=0.19 in /home/ubuntu/.local/lib/python3.9/site-packages (from sympy->torch==2.1.1->-r requirements.txt (line 15)) (1.3.0)\n",
      "Requirement already satisfied: exceptiongroup in /usr/lib/python3.9/site-packages (from anyio<5,>=3.4.0->starlette>=0.24.0->fiftyone==0.23.4->-r requirements.txt (line 4)) (1.2.0)\n",
      "Requirement already satisfied: smmap<6,>=3.0.1 in /home/ubuntu/.local/lib/python3.9/site-packages (from gitdb<5,>=4.0.1->GitPython!=3.1.29,>=1.0.0->wandb==0.16.2->-r requirements.txt (line 20)) (5.0.1)\n",
      "Requirement already satisfied: hyperframe<7,>=6.0 in /home/ubuntu/.local/lib/python3.9/site-packages (from h2>=3.1.0->hypercorn>=0.13.2->fiftyone==0.23.4->-r requirements.txt (line 4)) (6.0.1)\n",
      "Requirement already satisfied: hpack<5,>=4.0 in /home/ubuntu/.local/lib/python3.9/site-packages (from h2>=3.1.0->hypercorn>=0.13.2->fiftyone==0.23.4->-r requirements.txt (line 4)) (4.0.0)\n",
      "Requirement already satisfied: jsonschema-specifications>=2023.03.6 in /home/ubuntu/.local/lib/python3.9/site-packages (from jsonschema>=3.0->altair<6.0,>=4.2.0->gradio==4.15.0->-r requirements.txt (line 6)) (2023.12.1)\n",
      "Requirement already satisfied: referencing>=0.28.4 in /home/ubuntu/.local/lib/python3.9/site-packages (from jsonschema>=3.0->altair<6.0,>=4.2.0->gradio==4.15.0->-r requirements.txt (line 6)) (0.32.1)\n",
      "Requirement already satisfied: rpds-py>=0.7.1 in /home/ubuntu/.local/lib/python3.9/site-packages (from jsonschema>=3.0->altair<6.0,>=4.2.0->gradio==4.15.0->-r requirements.txt (line 6)) (0.17.1)\n",
      "Requirement already satisfied: markdown-it-py>=2.2.0 in /usr/lib/python3.9/site-packages (from rich<14.0.0,>=10.11.0->typer[all]<1.0,>=0.9->gradio==4.15.0->-r requirements.txt (line 6)) (3.0.0)\n",
      "Requirement already satisfied: texttable in /home/ubuntu/.local/lib/python3.9/site-packages (from py7zr->voxel51-eta<0.13,>=0.12.4->fiftyone==0.23.4->-r requirements.txt (line 4)) (1.7.0)\n",
      "Requirement already satisfied: pycryptodomex>=3.16.0 in /home/ubuntu/.local/lib/python3.9/site-packages (from py7zr->voxel51-eta<0.13,>=0.12.4->fiftyone==0.23.4->-r requirements.txt (line 4)) (3.20.0)\n",
      "Requirement already satisfied: pyzstd>=0.15.9 in /home/ubuntu/.local/lib/python3.9/site-packages (from py7zr->voxel51-eta<0.13,>=0.12.4->fiftyone==0.23.4->-r requirements.txt (line 4)) (0.15.9)\n",
      "Requirement already satisfied: pyppmd<1.2.0,>=1.1.0 in /home/ubuntu/.local/lib/python3.9/site-packages (from py7zr->voxel51-eta<0.13,>=0.12.4->fiftyone==0.23.4->-r requirements.txt (line 4)) (1.1.0)\n",
      "Requirement already satisfied: pybcj<1.1.0,>=1.0.0 in /home/ubuntu/.local/lib/python3.9/site-packages (from py7zr->voxel51-eta<0.13,>=0.12.4->fiftyone==0.23.4->-r requirements.txt (line 4)) (1.0.2)\n",
      "Requirement already satisfied: multivolumefile>=0.2.3 in /home/ubuntu/.local/lib/python3.9/site-packages (from py7zr->voxel51-eta<0.13,>=0.12.4->fiftyone==0.23.4->-r requirements.txt (line 4)) (0.2.3)\n",
      "Requirement already satisfied: inflate64<1.1.0,>=1.0.0 in /home/ubuntu/.local/lib/python3.9/site-packages (from py7zr->voxel51-eta<0.13,>=0.12.4->fiftyone==0.23.4->-r requirements.txt (line 4)) (1.0.0)\n",
      "Requirement already satisfied: brotli>=1.1.0 in /home/ubuntu/.local/lib/python3.9/site-packages (from py7zr->voxel51-eta<0.13,>=0.12.4->fiftyone==0.23.4->-r requirements.txt (line 4)) (1.1.0)\n",
      "Requirement already satisfied: mdurl~=0.1 in /usr/lib/python3.9/site-packages (from markdown-it-py>=2.2.0->rich<14.0.0,>=10.11.0->typer[all]<1.0,>=0.9->gradio==4.15.0->-r requirements.txt (line 6)) (0.1.2)\n",
      "\n",
      "\u001b[1m[\u001b[0m\u001b[34;49mnotice\u001b[0m\u001b[1;39;49m]\u001b[0m\u001b[39;49m A new release of pip is available: \u001b[0m\u001b[31;49m23.3.2\u001b[0m\u001b[39;49m -> \u001b[0m\u001b[32;49m24.0\u001b[0m\n",
      "\u001b[1m[\u001b[0m\u001b[34;49mnotice\u001b[0m\u001b[1;39;49m]\u001b[0m\u001b[39;49m To update, run: \u001b[0m\u001b[32;49mpip install --upgrade pip\u001b[0m\n",
      "Note: you may need to restart the kernel to use updated packages.\n"
     ]
    }
   ],
   "source": [
    "%pip install -r requirements.txt"
   ]
  },
  {
   "cell_type": "code",
   "execution_count": 1,
   "metadata": {},
   "outputs": [
    {
     "name": "stderr",
     "output_type": "stream",
     "text": [
      "/home/ubuntu/.local/lib/python3.9/site-packages/tqdm/auto.py:21: TqdmWarning: IProgress not found. Please update jupyter and ipywidgets. See https://ipywidgets.readthedocs.io/en/stable/user_install.html\n",
      "  from .autonotebook import tqdm as notebook_tqdm\n"
     ]
    },
    {
     "name": "stdout",
     "output_type": "stream",
     "text": [
      "Migrating database to v0.23.4\n"
     ]
    }
   ],
   "source": [
    "from transformers import VisionEncoderDecoderModel, ViTFeatureExtractor, AutoTokenizer, BitsAndBytesConfig, AutoProcessor, LlavaForConditionalGeneration\n",
    "from transformers import AdamW\n",
    "from datasets import load_dataset\n",
    "import torch\n",
    "from collections import Counter\n",
    "import fiftyone\n",
    "import torch.nn as nn\n",
    "from tqdm.auto import tqdm\n",
    "from torch.utils.data import DataLoader, Dataset\n",
    "import torchvision.transforms as T\n",
    "import torch.nn.functional as F\n",
    "import numpy as np\n",
    "import os\n",
    "import time\n",
    "import glob\n",
    "\n",
    "# uncommon features  - events of interest\n",
    "# loss less compression -  sudden more bits indicates anomaly can be flagged, alerts when anomaly detected - may shift to lossy video streaming\n",
    "# lossy compression of noisy data varying distortion rate - accuracy is increasing\n",
    "# video to video lossy reconstruction possibility\n",
    "# image frame to image frame on a need basis - human satisfaction metric, GPT based comparison, RLHF based comparison"
   ]
  },
  {
   "cell_type": "code",
   "execution_count": 29,
   "metadata": {},
   "outputs": [],
   "source": [
    "# Check if GPU is available and set the device accordingly\n",
    "device = torch.device(\"cuda\" if torch.cuda.is_available() else \"cpu\")"
   ]
  },
  {
   "cell_type": "code",
   "execution_count": 30,
   "metadata": {},
   "outputs": [],
   "source": [
    "# Load the pre-trained model and its components\n",
    "model = VisionEncoderDecoderModel.from_pretrained(\"nlpconnect/vit-gpt2-image-captioning\")\n",
    "feature_extractor = ViTFeatureExtractor.from_pretrained(\"nlpconnect/vit-gpt2-image-captioning\")\n",
    "tokenizer = AutoTokenizer.from_pretrained(\"nlpconnect/vit-gpt2-image-captioning\")\n",
    "\n",
    "# # Loading the above for LlavVA\n",
    "# model_llava = LlavaForConditionalGeneration.from_pretrained(\"llava-hf/llava-1.5-7b-hf\")\n",
    "# processor_llava = AutoProcessor.from_pretrained(\"llava-hf/llava-1.5-7b-hf\")"
   ]
  },
  {
   "cell_type": "code",
   "execution_count": 7,
   "metadata": {},
   "outputs": [
    {
     "name": "stderr",
     "output_type": "stream",
     "text": [
      "Resolving data files: 100%|██████████| 40670/40670 [00:00<00:00, 512517.86it/s]\n"
     ]
    }
   ],
   "source": [
    "# Load a dataset (for example, a subset of the COCO dataset)\n",
    "# TODO: Potential datasets with repetitive nature that can be used: MS COCO, Flickr30k, Visual Genome, SBU Captions - get correlated datasets from Nikil\n",
    "\n",
    "# load small part of the coco dataset from all the .jpg images in datasets/mscoco/test2015\n",
    "dataset = load_dataset(\"datasets/mscoco/test2017/\", split=\"train[:2]\")"
   ]
  },
  {
   "cell_type": "code",
   "execution_count": 8,
   "metadata": {},
   "outputs": [],
   "source": [
    "# TODO: use different values of max_length and try out results\n",
    "\n",
    "def generate_caption_with_logits(image, max_length=10):\n",
    "    # Prepare the inputs\n",
    "    inputs = feature_extractor(images=image, return_tensors=\"pt\")\n",
    "    pixel_values = inputs.pixel_values\n",
    "\n",
    "    model.eval()\n",
    "    with torch.no_grad():\n",
    "        # Perform a forward pass to get the logits\n",
    "        encoder_outputs = model.encoder(pixel_values=pixel_values)\n",
    "        encoder_hidden_states = encoder_outputs.last_hidden_state\n",
    "        \n",
    "        # Prepare decoder input_ids. Typically, you start with the start-of-sentence token\n",
    "        decoder_input_ids = torch.tensor([tokenizer.bos_token_id]).unsqueeze(0).to(encoder_hidden_states.device)\n",
    "        decoder_attention_mask = torch.ones_like(decoder_input_ids)\n",
    "        \n",
    "        # Initialize an empty tensor for logits (for simplicity, accumulating logits for each step)\n",
    "        logits_list = []\n",
    "        \n",
    "        for i in range(max_length):\n",
    "            decoder_outputs = model.decoder(input_ids=decoder_input_ids,\n",
    "                                            attention_mask=decoder_attention_mask,\n",
    "                                            encoder_hidden_states=encoder_hidden_states)\n",
    "            logits = decoder_outputs.logits[:, -1, :]  # Get the logits for the last token generated\n",
    "            logits_list.append(logits)\n",
    "            \n",
    "            predicted_id = torch.argmax(logits, dim=-1).unsqueeze(-1)\n",
    "            # Check if EOS token is generated\n",
    "            if predicted_id[0, 0] == tokenizer.eos_token_id:\n",
    "                print (\"EOS has been generated\")\n",
    "                # break # since model.generate() does this automatically\n",
    "            \n",
    "            # Append predicted token ID to decoder_input_ids for generating next token\n",
    "            decoder_input_ids = torch.cat([decoder_input_ids, predicted_id], dim=-1)\n",
    "            decoder_attention_mask = torch.cat([decoder_attention_mask, torch.ones_like(predicted_id)], dim=-1)\n",
    "            \n",
    "        # Concatenate logits from each step to get the final logits tensor\n",
    "        # make all elements of logits_list 3D by adding a dimension in the middle\n",
    "        logits_list = [logits.unsqueeze(1) for logits in logits_list]\n",
    "        logits = torch.cat(logits_list, dim=1)\n",
    "        # add logic to repeat the remaining number of (127-i) tokens with EOS token logits (simply repeat the last token logits) to make it length 128\n",
    "\n",
    "        # Decode the generated token IDs to get the caption\n",
    "        predicted_ids = torch.argmax(logits, dim=-1)\n",
    "        caption = tokenizer.decode(predicted_ids[0], skip_special_tokens=True)\n",
    "        \n",
    "    return logits, predicted_ids, caption\n",
    "\n",
    "# Example usage\n",
    "# image: A PIL image or a tensor representing your input image\n",
    "# logits, predicted_ids, caption = generate_caption_with_logits(image, model, feature_extractor, tokenizer)\n"
   ]
  },
  {
   "cell_type": "code",
   "execution_count": 9,
   "metadata": {},
   "outputs": [
    {
     "name": "stdout",
     "output_type": "stream",
     "text": [
      "EOS has been generated\n",
      "torch.Size([2, 10, 50257])\n"
     ]
    }
   ],
   "source": [
    "# Iterate over the dataset and generate captions\n",
    "generated_captions = []\n",
    "generated_logits = []\n",
    "generated_predicted_ids = []\n",
    "\n",
    "for data in dataset:\n",
    "    image = data['image']\n",
    "    logits, predicted_ids, caption = generate_caption_with_logits(image)\n",
    "    generated_captions.append(caption)\n",
    "    generated_logits.append(logits)\n",
    "    generated_predicted_ids.append(predicted_ids)\n",
    "\n",
    "# concatenate generated logits along first dimension to make 3D tensor\n",
    "generated_logits = torch.cat(generated_logits, dim=0)\n",
    "print (generated_logits.shape)"
   ]
  },
  {
   "cell_type": "code",
   "execution_count": 10,
   "metadata": {},
   "outputs": [
    {
     "data": {
      "text/plain": [
       "['a green truck parked next to a curb ',\n",
       " 'a baseball player swinging a bat at a ball ']"
      ]
     },
     "execution_count": 10,
     "metadata": {},
     "output_type": "execute_result"
    }
   ],
   "source": [
    "generated_captions"
   ]
  },
  {
   "cell_type": "code",
   "execution_count": 11,
   "metadata": {},
   "outputs": [],
   "source": [
    "def update_encoding_dict(captions, encoding_dict):\n",
    "    for caption in captions:\n",
    "        words = caption.split() # splitting the caption into words - pretty bad strategy since we are currently splitting into tokens\n",
    "        encoding_dict.update(words) # purpose of update is to add the words to the dictionary if they don't exist\n",
    "    return encoding_dict"
   ]
  },
  {
   "cell_type": "code",
   "execution_count": 12,
   "metadata": {},
   "outputs": [
    {
     "name": "stdout",
     "output_type": "stream",
     "text": [
      "Counter({'a': 5, 'green': 1, 'truck': 1, 'parked': 1, 'next': 1, 'to': 1, 'curb': 1, 'baseball': 1, 'player': 1, 'swinging': 1, 'bat': 1, 'at': 1, 'ball': 1})\n",
      "{'a': 1.2237754316221157, 'green': 2.833213344056216, 'truck': 2.833213344056216, 'parked': 2.833213344056216, 'next': 2.833213344056216, 'to': 2.833213344056216, 'curb': 2.833213344056216, 'baseball': 2.833213344056216, 'player': 2.833213344056216, 'swinging': 2.833213344056216, 'bat': 2.833213344056216, 'at': 2.833213344056216, 'ball': 2.833213344056216}\n",
      "{'a': 0.16666666666666666, 'green': 0.5, 'truck': 0.5, 'parked': 0.5, 'next': 0.5, 'to': 0.5, 'curb': 0.5, 'baseball': 0.5, 'player': 0.5, 'swinging': 0.5, 'bat': 0.5, 'at': 0.5, 'ball': 0.5}\n"
     ]
    }
   ],
   "source": [
    "encoding_dict = Counter() # Counter is a subclass of dictionary for counting hashable objects\n",
    "threshold = 0 # threshold for word frequency # TODO: find a good threshold\n",
    "\n",
    "update_encoding_dict(generated_captions, encoding_dict)\n",
    "\n",
    "print (encoding_dict)\n",
    "\n",
    "# Optionally, create a more compressed form based on frequency\n",
    "compressed_dict = {word: idx for idx, (word, freq) in enumerate(encoding_dict.items()) if freq > threshold}\n",
    "\n",
    "# Create the dictionary of entropy values from encoding_dict\n",
    "entropy_dict = {word: -np.log(encoding_dict[word] / sum(encoding_dict.values())) \n",
    "                for word in encoding_dict}\n",
    "\n",
    "print (entropy_dict)\n",
    "# print 1/elem for elem in encoding_dict.values()\n",
    "reciprocal_dict = {word: 1/(encoding_dict[word]+1) for word in encoding_dict}\n",
    "print (reciprocal_dict)"
   ]
  },
  {
   "cell_type": "code",
   "execution_count": 13,
   "metadata": {},
   "outputs": [],
   "source": [
    "class CaptionDataset(torch.utils.data.Dataset):\n",
    "    def __init__(self, encodings, captions):\n",
    "        self.encodings = encodings\n",
    "        self.captions = captions\n",
    "\n",
    "    def __getitem__(self, idx):\n",
    "        item = {key: torch.tensor(val[idx]) for key, val in self.encodings.items()}\n",
    "        item['labels'] = torch.tensor(self.captions[idx])\n",
    "        return item\n",
    "\n",
    "    def __len__(self):\n",
    "        return len(self.captions)"
   ]
  },
  {
   "cell_type": "code",
   "execution_count": 23,
   "metadata": {},
   "outputs": [],
   "source": [
    "# Assuming `dataset` is your dataset containing images and captions\n",
    "images = [data['image'] for data in dataset]\n",
    "caption_ids = generated_predicted_ids\n",
    "\n",
    "# Process images and captions\n",
    "inputs = feature_extractor(images=images, return_tensors=\"pt\")\n",
    "\n",
    "# Create dataset and dataloader\n",
    "train_dataset = CaptionDataset(inputs, caption_ids)\n",
    "train_loader = DataLoader(train_dataset, batch_size=32, shuffle=True)"
   ]
  },
  {
   "cell_type": "code",
   "execution_count": 27,
   "metadata": {},
   "outputs": [],
   "source": [
    "class LoRALayer(nn.Module):\n",
    "    def __init__(self, original_weight, rank):\n",
    "        super(LoRALayer, self).__init__()\n",
    "        self.original_weight = original_weight\n",
    "        self.rank = rank\n",
    "        self.U = nn.Parameter(torch.Tensor(self.original_weight.size(0), self.rank))\n",
    "        self.V = nn.Parameter(torch.Tensor(self.rank, self.original_weight.size(1)))\n",
    "        nn.init.xavier_uniform_(self.U)\n",
    "        nn.init.xavier_uniform_(self.V)\n",
    "\n",
    "    def forward(self):\n",
    "        return self.original_weight + self.U @ self.V"
   ]
  },
  {
   "cell_type": "code",
   "execution_count": 28,
   "metadata": {},
   "outputs": [
    {
     "ename": "RuntimeError",
     "evalue": "Expected all tensors to be on the same device, but found at least two devices, cuda:0 and cpu!",
     "output_type": "error",
     "traceback": [
      "\u001b[0;31m---------------------------------------------------------------------------\u001b[0m",
      "\u001b[0;31mRuntimeError\u001b[0m                              Traceback (most recent call last)",
      "Cell \u001b[0;32mIn[28], line 7\u001b[0m\n\u001b[1;32m      5\u001b[0m \u001b[38;5;28;01mwith\u001b[39;00m torch\u001b[38;5;241m.\u001b[39mno_grad():\n\u001b[1;32m      6\u001b[0m     original_weight \u001b[38;5;241m=\u001b[39m model\u001b[38;5;241m.\u001b[39mencoder\u001b[38;5;241m.\u001b[39mencoder\u001b[38;5;241m.\u001b[39mlayer[\u001b[38;5;241m0\u001b[39m]\u001b[38;5;241m.\u001b[39mattention\u001b[38;5;241m.\u001b[39moutput\u001b[38;5;241m.\u001b[39mdense\u001b[38;5;241m.\u001b[39mweight\n\u001b[0;32m----> 7\u001b[0m     lora_layer \u001b[38;5;241m=\u001b[39m \u001b[43mLoRALayer\u001b[49m\u001b[43m(\u001b[49m\u001b[43moriginal_weight\u001b[49m\u001b[43m,\u001b[49m\u001b[43m \u001b[49m\u001b[43mrank\u001b[49m\u001b[38;5;241;43m=\u001b[39;49m\u001b[38;5;241;43m10\u001b[39;49m\u001b[43m)\u001b[49m\u001b[38;5;241;43m.\u001b[39;49m\u001b[43mforward\u001b[49m\u001b[43m(\u001b[49m\u001b[43m)\u001b[49m  \u001b[38;5;66;03m# Choose an appropriate rank\u001b[39;00m\n\u001b[1;32m      8\u001b[0m     \u001b[38;5;66;03m# assign the new layer to the model\u001b[39;00m\n\u001b[1;32m      9\u001b[0m     model\u001b[38;5;241m.\u001b[39mencoder\u001b[38;5;241m.\u001b[39mencoder\u001b[38;5;241m.\u001b[39mlayer[\u001b[38;5;241m0\u001b[39m]\u001b[38;5;241m.\u001b[39mattention\u001b[38;5;241m.\u001b[39moutput\u001b[38;5;241m.\u001b[39mdense\u001b[38;5;241m.\u001b[39mweight\u001b[38;5;241m.\u001b[39mcopy_(lora_layer)\n",
      "Cell \u001b[0;32mIn[27], line 12\u001b[0m, in \u001b[0;36mLoRALayer.forward\u001b[0;34m(self)\u001b[0m\n\u001b[1;32m     11\u001b[0m \u001b[38;5;28;01mdef\u001b[39;00m \u001b[38;5;21mforward\u001b[39m(\u001b[38;5;28mself\u001b[39m):\n\u001b[0;32m---> 12\u001b[0m     \u001b[38;5;28;01mreturn\u001b[39;00m \u001b[38;5;28;43mself\u001b[39;49m\u001b[38;5;241;43m.\u001b[39;49m\u001b[43moriginal_weight\u001b[49m\u001b[43m \u001b[49m\u001b[38;5;241;43m+\u001b[39;49m\u001b[43m \u001b[49m\u001b[38;5;28;43mself\u001b[39;49m\u001b[38;5;241;43m.\u001b[39;49m\u001b[43mU\u001b[49m\u001b[43m \u001b[49m\u001b[38;5;241;43m@\u001b[39;49m\u001b[43m \u001b[49m\u001b[38;5;28;43mself\u001b[39;49m\u001b[38;5;241;43m.\u001b[39;49m\u001b[43mV\u001b[49m\n",
      "\u001b[0;31mRuntimeError\u001b[0m: Expected all tensors to be on the same device, but found at least two devices, cuda:0 and cpu!"
     ]
    }
   ],
   "source": [
    "# Modify the first attention layer of the encoder\n",
    "# TODO: Try modifying other layers as well and check the results\n",
    "lora_layers = []\n",
    "\n",
    "with torch.no_grad():\n",
    "    original_weight = model.encoder.encoder.layer[0].attention.output.dense.weight\n",
    "    lora_layer = LoRALayer(original_weight, rank=10).forward()  # Choose an appropriate rank\n",
    "    # assign the new layer to the model\n",
    "    model.encoder.encoder.layer[0].attention.output.dense.weight.copy_(lora_layer)\n",
    "    # add the layer of the model to the list of LoRA layers\n",
    "    lora_layers.append(model.encoder.encoder.layer[0].attention.output.dense)"
   ]
  },
  {
   "cell_type": "code",
   "execution_count": 24,
   "metadata": {},
   "outputs": [],
   "source": [
    "def is_lora_param(param, lora_layer):\n",
    "    # check if the parameter is part of the LoRA layer\n",
    "    print (lora_layer.parameters())\n",
    "    print (\"nuj\")\n",
    "    print (param)\n",
    "    return param in lora_layer.parameters()\n"
   ]
  },
  {
   "cell_type": "code",
   "execution_count": 25,
   "metadata": {},
   "outputs": [],
   "source": [
    "# add two extra dimensions to generated_logits\n",
    "generated_probs = F.softmax(generated_logits, dim=-1)\n",
    "generated_probs_expanded = generated_probs.unsqueeze(0).unsqueeze(0)"
   ]
  },
  {
   "cell_type": "code",
   "execution_count": 26,
   "metadata": {},
   "outputs": [],
   "source": [
    "def calculate_entropy_elbo_difference (prob_differences, D):\n",
    "    sigma = 0.01\n",
    "    # reduce prob_differences to 4D from 5D by taking norm square along the last dimension\n",
    "    prob_differences = torch.norm(prob_differences, dim=-1)\n",
    "    print (prob_differences.shape)\n",
    "    # do elementwise for prob_differences: suqare\n",
    "    prob_differences = prob_differences**2\n",
    "    # take sum of all elements of prob_differences, hence scalar, then divide by 2*sigma^2*D\n",
    "    return torch.sum(prob_differences) / (2*sigma**2*D)"
   ]
  },
  {
   "cell_type": "code",
   "execution_count": 19,
   "metadata": {},
   "outputs": [],
   "source": [
    "def calculate_entropy_elbo_cross_entropy (prob_differences, D):\n",
    "    pass"
   ]
  },
  {
   "cell_type": "code",
   "execution_count": 20,
   "metadata": {},
   "outputs": [],
   "source": [
    "def calculate_entropy (prob_differences, D):\n",
    "    pass"
   ]
  },
  {
   "cell_type": "code",
   "execution_count": 21,
   "metadata": {},
   "outputs": [],
   "source": [
    "def custom_loss(outputs, batch, encoding_dict, lora_layers, lambda_val=10, lora_lambda_val = 0.01):\n",
    "    # Standard captioning loss\n",
    "    standard_loss = outputs.loss\n",
    "\n",
    "    # Additional compression loss\n",
    "    compression_loss = 0\n",
    "    # add two dimensions to output probs at 2 and 3\n",
    "    outputs_probs = F.softmax(outputs.logits, dim=-1)\n",
    "    outputs_probs_expanded = outputs_probs.squeeze(1).unsqueeze(2).unsqueeze(3)\n",
    "    prob_differences = generated_probs_expanded - outputs_probs_expanded\n",
    "    print (\"prob_differences.shape = \", outputs_probs.shape, generated_probs_expanded.shape, outputs_probs_expanded.shape, prob_differences.shape)\n",
    "    # calculate the compression loss\n",
    "    # find number of elements in generated_predicted_logits\n",
    "    D = generated_probs.numel()\n",
    "    compression_loss = lambda_val* calculate_entropy_elbo_difference (prob_differences, D)\n",
    "    \n",
    "\n",
    "    # Optionally, add a term for LoRA regularization if needed\n",
    "    lora_regularization = 0\n",
    "    # for param in model.parameters():\n",
    "    #     for lora_layer in lora_layers:\n",
    "    #         if is_lora_param(param, lora_layer):\n",
    "    #             lora_regularization += torch.norm(param)\n",
    "    print (standard_loss, compression_loss)\n",
    "\n",
    "    return standard_loss + compression_loss + lora_lambda_val * lora_regularization"
   ]
  },
  {
   "cell_type": "code",
   "execution_count": 22,
   "metadata": {},
   "outputs": [
    {
     "name": "stderr",
     "output_type": "stream",
     "text": [
      "/home/ubuntu/.local/lib/python3.9/site-packages/transformers/optimization.py:429: FutureWarning: This implementation of AdamW is deprecated and will be removed in a future version. Use the PyTorch implementation torch.optim.AdamW instead, or set `no_deprecation_warning=True` to disable this warning\n",
      "  warnings.warn(\n",
      "  0%|          | 0/1 [00:00<?, ?it/s]/tmp/ipykernel_39655/3431795457.py:7: UserWarning: To copy construct from a tensor, it is recommended to use sourceTensor.clone().detach() or sourceTensor.clone().detach().requires_grad_(True), rather than torch.tensor(sourceTensor).\n",
      "  item = {key: torch.tensor(val[idx]) for key, val in self.encodings.items()}\n",
      "/tmp/ipykernel_39655/3431795457.py:8: UserWarning: To copy construct from a tensor, it is recommended to use sourceTensor.clone().detach() or sourceTensor.clone().detach().requires_grad_(True), rather than torch.tensor(sourceTensor).\n",
      "  item['labels'] = torch.tensor(self.captions[idx])\n",
      "We strongly recommend passing in an `attention_mask` since your input_ids may be padded. See https://huggingface.co/docs/transformers/troubleshooting#incorrect-output-when-padding-tokens-arent-masked.\n",
      "You may ignore this warning if your `pad_token_id` (50256) is identical to the `bos_token_id` (50256), `eos_token_id` (50256), or the `sep_token_id` (None), and your input is not padded.\n",
      "  0%|          | 0/1 [00:00<?, ?it/s]\n"
     ]
    },
    {
     "ename": "NameError",
     "evalue": "name 'lora_layers' is not defined",
     "output_type": "error",
     "traceback": [
      "\u001b[0;31m---------------------------------------------------------------------------\u001b[0m",
      "\u001b[0;31mNameError\u001b[0m                                 Traceback (most recent call last)",
      "Cell \u001b[0;32mIn[22], line 20\u001b[0m\n\u001b[1;32m     18\u001b[0m \u001b[38;5;66;03m# Forward pass\u001b[39;00m\n\u001b[1;32m     19\u001b[0m outputs \u001b[38;5;241m=\u001b[39m model(\u001b[38;5;241m*\u001b[39m\u001b[38;5;241m*\u001b[39mbatch)\n\u001b[0;32m---> 20\u001b[0m loss \u001b[38;5;241m=\u001b[39m custom_loss(outputs, batch, encoding_dict, \u001b[43mlora_layers\u001b[49m)\n\u001b[1;32m     22\u001b[0m \u001b[38;5;66;03m# Backward pass and optimization\u001b[39;00m\n\u001b[1;32m     23\u001b[0m optimizer\u001b[38;5;241m.\u001b[39mzero_grad()\n",
      "\u001b[0;31mNameError\u001b[0m: name 'lora_layers' is not defined"
     ]
    }
   ],
   "source": [
    "# Fine tuning using custom loss\n",
    "\n",
    "device = torch.device(\"cuda\" if torch.cuda.is_available() else \"cpu\")\n",
    "model.to(device)\n",
    "model.train()\n",
    "\n",
    "lr = 1e-4\n",
    "num_epochs = 30\n",
    "\n",
    "optimizer = AdamW([param for param in model.parameters() if param.requires_grad], lr=lr)\n",
    "\n",
    "for epoch in range(num_epochs):\n",
    "    loop = tqdm(train_loader, leave=True)\n",
    "    for batch in loop:\n",
    "        # Move batch to device\n",
    "        batch = {k: v.to(device) for k, v in batch.items()}\n",
    "\n",
    "        # Forward pass\n",
    "        outputs = model(**batch)\n",
    "        loss = custom_loss(outputs, batch, encoding_dict, lora_layers)\n",
    "\n",
    "        # Backward pass and optimization\n",
    "        optimizer.zero_grad()\n",
    "        loss.backward()\n",
    "        optimizer.step()\n",
    "\n",
    "        # Update progress bar\n",
    "        loop.set_description(f\"Epoch {epoch}\")\n",
    "        loop.set_postfix(loss=loss.item())"
   ]
  },
  {
   "cell_type": "code",
   "execution_count": null,
   "metadata": {},
   "outputs": [],
   "source": [
    "# create directory to save the model if it doesn't exist\n",
    "if not os.path.exists(\"models\"):\n",
    "    os.mkdir(\"models\")\n",
    "# save model checkpoint to models directory using current timestamp and date\n",
    "torch.save(model.state_dict(), f\"models/{time.strftime('%Y%m%d-%H%M%S')}.pth\")\n"
   ]
  },
  {
   "cell_type": "code",
   "execution_count": null,
   "metadata": {},
   "outputs": [
    {
     "data": {
      "text/plain": [
       "<All keys matched successfully>"
      ]
     },
     "execution_count": 26,
     "metadata": {},
     "output_type": "execute_result"
    }
   ],
   "source": [
    "# load latest model checkpoint among all the saved models\n",
    "latest_model = torch.load(max(glob.glob('models/*.pth'), key=os.path.getctime))\n",
    "# load the model with the latest checkpoint\n",
    "model.load_state_dict(latest_model)"
   ]
  },
  {
   "cell_type": "code",
   "execution_count": null,
   "metadata": {},
   "outputs": [
    {
     "name": "stdout",
     "output_type": "stream",
     "text": [
      "EOS has been generated\n",
      "EOS has been generated\n",
      "EOS has been generated\n"
     ]
    }
   ],
   "source": [
    "# Generate captions for the test dataset\n",
    "generated_captions_custom_model = []\n",
    "# Iterate over the dataset and generate captions\n",
    "for data in dataset:\n",
    "    image = data['image']\n",
    "    generated_logits, generated_predicted_ids, caption = generate_caption_with_logits(image)\n",
    "    generated_captions_custom_model.append(caption)\n"
   ]
  },
  {
   "cell_type": "code",
   "execution_count": null,
   "metadata": {},
   "outputs": [],
   "source": [
    "# Encode compressed dictionary word using manual huffman encoding"
   ]
  },
  {
   "cell_type": "code",
   "execution_count": null,
   "metadata": {},
   "outputs": [],
   "source": [
    "# Replace compressed_dict words occurring in the generated_captions_custom_model with their corresponding huffman encoding"
   ]
  },
  {
   "cell_type": "code",
   "execution_count": null,
   "metadata": {},
   "outputs": [],
   "source": [
    "# compare encoded generated_captions_custom_model + huffman encoding dictionary information with the original generated_captions to calculate compression ratio"
   ]
  },
  {
   "cell_type": "code",
   "execution_count": null,
   "metadata": {},
   "outputs": [
    {
     "name": "stdout",
     "output_type": "stream",
     "text": [
      "a green truck parked next to a curb  WAIT a green truck parked next to a curb next to\n",
      "a man is walking down the street with a skate WAIT a man walking down the street with a skateboard\n",
      "a baseball player swinging a bat at a ball  WAIT a man swinging at a bat at a ball \n",
      "a cow is standing in a field of grass  WAIT a cow standing in grass field  \n",
      "a black dog sitting in the back of a truck WAIT a black black dog sitting in the back of a\n",
      "a man wearing a bow tie and glasses  WAIT a man wearing glasses and bow tie and glasses \n",
      "a dining room table with a large bowl of food WAIT a room with a large table with a large bowl\n",
      "a man standing next to a wall with a bunch WAIT a man standing next to a bunch of bunch of\n",
      "a man is playing tennis on a clay court  WAIT a man is playing tennis on a court \n",
      "a man and a woman playing a game of fr WAIT a man playing a game of fr fr fr game\n"
     ]
    }
   ],
   "source": [
    "# print generated_captions and generated_captions_custom_model elementwise to compare the results\n",
    "for i in range(len(generated_captions)):\n",
    "    print (generated_captions[i], \"WAIT\", generated_captions_custom_model[i])"
   ]
  }
 ],
 "metadata": {
  "kernelspec": {
   "display_name": "Python 3 (ipykernel)",
   "language": "python",
   "name": "python3"
  },
  "language_info": {
   "codemirror_mode": {
    "name": "ipython",
    "version": 3
   },
   "file_extension": ".py",
   "mimetype": "text/x-python",
   "name": "python",
   "nbconvert_exporter": "python",
   "pygments_lexer": "ipython3",
   "version": "3.9.16"
  }
 },
 "nbformat": 4,
 "nbformat_minor": 2
}

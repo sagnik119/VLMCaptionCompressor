{
 "cells": [
  {
   "cell_type": "markdown",
   "metadata": {},
   "source": [
    "Introducing manual compression of image captions on stale (offline) data"
   ]
  },
  {
   "cell_type": "code",
   "execution_count": 1,
   "metadata": {},
   "outputs": [
    {
     "name": "stdout",
     "output_type": "stream",
     "text": [
      "Defaulting to user installation because normal site-packages is not writeable\n",
      "Requirement already satisfied: bert==2.2.0 in /Users/sagnik/Library/Python/3.9/lib/python/site-packages (from -r requirements.txt (line 1)) (2.2.0)\n",
      "Requirement already satisfied: bitsandbytes==0.42.0 in /Library/Python/3.9/site-packages (from -r requirements.txt (line 2)) (0.42.0)\n",
      "Requirement already satisfied: datasets==2.15.0 in /Library/Python/3.9/site-packages (from -r requirements.txt (line 3)) (2.15.0)\n",
      "Requirement already satisfied: fiftyone==0.23.4 in /Users/sagnik/Library/Python/3.9/lib/python/site-packages (from -r requirements.txt (line 4)) (0.23.4)\n",
      "Requirement already satisfied: glob2==0.7 in /Users/sagnik/Library/Python/3.9/lib/python/site-packages (from -r requirements.txt (line 5)) (0.7)\n",
      "Requirement already satisfied: gradio==4.15.0 in /Users/sagnik/Library/Python/3.9/lib/python/site-packages (from -r requirements.txt (line 6)) (4.15.0)\n",
      "Requirement already satisfied: gradio_client==0.8.1 in /Users/sagnik/Library/Python/3.9/lib/python/site-packages (from -r requirements.txt (line 7)) (0.8.1)\n",
      "Requirement already satisfied: ipykernel==6.27.1 in /Users/sagnik/Library/Python/3.9/lib/python/site-packages (from -r requirements.txt (line 8)) (6.27.1)\n",
      "Requirement already satisfied: ipython==8.12.3 in /Users/sagnik/Library/Python/3.9/lib/python/site-packages (from -r requirements.txt (line 9)) (8.12.3)\n",
      "Requirement already satisfied: llava==0.0.1.dev0 in /Users/sagnik/Library/Python/3.9/lib/python/site-packages (from -r requirements.txt (line 10)) (0.0.1.dev0)\n",
      "Requirement already satisfied: pandas==2.1.4 in /Library/Python/3.9/site-packages (from -r requirements.txt (line 11)) (2.1.4)\n",
      "Requirement already satisfied: sacrebleu==1.5.0 in /Users/sagnik/Library/Python/3.9/lib/python/site-packages (from -r requirements.txt (line 12)) (1.5.0)\n",
      "Requirement already satisfied: safetensors==0.4.1 in /Users/sagnik/Library/Python/3.9/lib/python/site-packages (from -r requirements.txt (line 13)) (0.4.1)\n",
      "Requirement already satisfied: torch==2.1.1 in /Library/Python/3.9/site-packages (from -r requirements.txt (line 14)) (2.1.1)\n",
      "Requirement already satisfied: torchaudio==2.1.1 in /Library/Python/3.9/site-packages (from -r requirements.txt (line 15)) (2.1.1)\n",
      "Requirement already satisfied: torchvision==0.16.1 in /Library/Python/3.9/site-packages (from -r requirements.txt (line 16)) (0.16.1)\n",
      "Requirement already satisfied: tqdm==4.66.1 in /Users/sagnik/Library/Python/3.9/lib/python/site-packages (from -r requirements.txt (line 17)) (4.66.1)\n",
      "Requirement already satisfied: transformers==4.36.0 in /Users/sagnik/Library/Python/3.9/lib/python/site-packages (from -r requirements.txt (line 18)) (4.36.0)\n",
      "Requirement already satisfied: wandb==0.16.2 in /Users/sagnik/Library/Python/3.9/lib/python/site-packages (from -r requirements.txt (line 19)) (0.16.2)\n",
      "Requirement already satisfied: erlastic in /Users/sagnik/Library/Python/3.9/lib/python/site-packages (from bert==2.2.0->-r requirements.txt (line 1)) (2.0.0)\n",
      "Requirement already satisfied: scipy in /Users/sagnik/Library/Python/3.9/lib/python/site-packages (from bitsandbytes==0.42.0->-r requirements.txt (line 2)) (1.11.4)\n",
      "Requirement already satisfied: numpy>=1.17 in /Users/sagnik/Library/Python/3.9/lib/python/site-packages (from datasets==2.15.0->-r requirements.txt (line 3)) (1.26.2)\n",
      "Requirement already satisfied: pyarrow>=8.0.0 in /Library/Python/3.9/site-packages (from datasets==2.15.0->-r requirements.txt (line 3)) (14.0.1)\n",
      "Requirement already satisfied: pyarrow-hotfix in /Library/Python/3.9/site-packages (from datasets==2.15.0->-r requirements.txt (line 3)) (0.6)\n",
      "Requirement already satisfied: dill<0.3.8,>=0.3.0 in /Library/Python/3.9/site-packages (from datasets==2.15.0->-r requirements.txt (line 3)) (0.3.7)\n",
      "Requirement already satisfied: requests>=2.19.0 in /Users/sagnik/Library/Python/3.9/lib/python/site-packages (from datasets==2.15.0->-r requirements.txt (line 3)) (2.31.0)\n",
      "Requirement already satisfied: xxhash in /Library/Python/3.9/site-packages (from datasets==2.15.0->-r requirements.txt (line 3)) (3.4.1)\n",
      "Requirement already satisfied: multiprocess in /Library/Python/3.9/site-packages (from datasets==2.15.0->-r requirements.txt (line 3)) (0.70.15)\n",
      "Requirement already satisfied: fsspec<=2023.10.0,>=2023.1.0 in /Library/Python/3.9/site-packages (from fsspec[http]<=2023.10.0,>=2023.1.0->datasets==2.15.0->-r requirements.txt (line 3)) (2023.10.0)\n",
      "Requirement already satisfied: aiohttp in /Library/Python/3.9/site-packages (from datasets==2.15.0->-r requirements.txt (line 3)) (3.9.1)\n",
      "Requirement already satisfied: huggingface-hub>=0.18.0 in /Users/sagnik/Library/Python/3.9/lib/python/site-packages (from datasets==2.15.0->-r requirements.txt (line 3)) (0.19.4)\n",
      "Requirement already satisfied: packaging in /Users/sagnik/Library/Python/3.9/lib/python/site-packages (from datasets==2.15.0->-r requirements.txt (line 3)) (23.2)\n",
      "Requirement already satisfied: pyyaml>=5.1 in /Users/sagnik/Library/Python/3.9/lib/python/site-packages (from datasets==2.15.0->-r requirements.txt (line 3)) (6.0.1)\n",
      "Requirement already satisfied: aiofiles in /Users/sagnik/Library/Python/3.9/lib/python/site-packages (from fiftyone==0.23.4->-r requirements.txt (line 4)) (23.2.1)\n",
      "Requirement already satisfied: argcomplete in /Users/sagnik/Library/Python/3.9/lib/python/site-packages (from fiftyone==0.23.4->-r requirements.txt (line 4)) (3.2.2)\n",
      "Requirement already satisfied: beautifulsoup4 in /Users/sagnik/Library/Python/3.9/lib/python/site-packages (from fiftyone==0.23.4->-r requirements.txt (line 4)) (4.12.3)\n",
      "Requirement already satisfied: boto3 in /Users/sagnik/Library/Python/3.9/lib/python/site-packages (from fiftyone==0.23.4->-r requirements.txt (line 4)) (1.34.29)\n",
      "Requirement already satisfied: cachetools in /Users/sagnik/Library/Python/3.9/lib/python/site-packages (from fiftyone==0.23.4->-r requirements.txt (line 4)) (5.3.2)\n",
      "Requirement already satisfied: dacite<1.8.0,>=1.6.0 in /Users/sagnik/Library/Python/3.9/lib/python/site-packages (from fiftyone==0.23.4->-r requirements.txt (line 4)) (1.7.0)\n",
      "Requirement already satisfied: Deprecated in /Users/sagnik/Library/Python/3.9/lib/python/site-packages (from fiftyone==0.23.4->-r requirements.txt (line 4)) (1.2.14)\n",
      "Requirement already satisfied: ftfy in /Users/sagnik/Library/Python/3.9/lib/python/site-packages (from fiftyone==0.23.4->-r requirements.txt (line 4)) (6.1.3)\n",
      "Requirement already satisfied: humanize in /Users/sagnik/Library/Python/3.9/lib/python/site-packages (from fiftyone==0.23.4->-r requirements.txt (line 4)) (4.9.0)\n",
      "Requirement already satisfied: hypercorn>=0.13.2 in /Users/sagnik/Library/Python/3.9/lib/python/site-packages (from fiftyone==0.23.4->-r requirements.txt (line 4)) (0.16.0)\n",
      "Requirement already satisfied: Jinja2>=3 in /Library/Python/3.9/site-packages (from fiftyone==0.23.4->-r requirements.txt (line 4)) (3.1.2)\n",
      "Requirement already satisfied: kaleido!=0.2.1.post1 in /Users/sagnik/Library/Python/3.9/lib/python/site-packages (from fiftyone==0.23.4->-r requirements.txt (line 4)) (0.2.1)\n",
      "Requirement already satisfied: matplotlib in /Users/sagnik/Library/Python/3.9/lib/python/site-packages (from fiftyone==0.23.4->-r requirements.txt (line 4)) (3.8.2)\n",
      "Requirement already satisfied: mongoengine==0.24.2 in /Users/sagnik/Library/Python/3.9/lib/python/site-packages (from fiftyone==0.23.4->-r requirements.txt (line 4)) (0.24.2)\n",
      "Requirement already satisfied: motor>=2.5 in /Users/sagnik/Library/Python/3.9/lib/python/site-packages (from fiftyone==0.23.4->-r requirements.txt (line 4)) (3.3.2)\n",
      "Requirement already satisfied: Pillow>=6.2 in /Users/sagnik/Library/Python/3.9/lib/python/site-packages (from fiftyone==0.23.4->-r requirements.txt (line 4)) (10.1.0)\n",
      "Requirement already satisfied: plotly>=4.14 in /Users/sagnik/Library/Python/3.9/lib/python/site-packages (from fiftyone==0.23.4->-r requirements.txt (line 4)) (5.18.0)\n",
      "Requirement already satisfied: pprintpp in /Users/sagnik/Library/Python/3.9/lib/python/site-packages (from fiftyone==0.23.4->-r requirements.txt (line 4)) (0.4.0)\n",
      "Requirement already satisfied: psutil in /Users/sagnik/Library/Python/3.9/lib/python/site-packages (from fiftyone==0.23.4->-r requirements.txt (line 4)) (5.9.6)\n",
      "Requirement already satisfied: pymongo>=3.12 in /Users/sagnik/Library/Python/3.9/lib/python/site-packages (from fiftyone==0.23.4->-r requirements.txt (line 4)) (4.6.1)\n",
      "Requirement already satisfied: pytz in /Library/Python/3.9/site-packages (from fiftyone==0.23.4->-r requirements.txt (line 4)) (2023.3.post1)\n",
      "Requirement already satisfied: regex in /Users/sagnik/Library/Python/3.9/lib/python/site-packages (from fiftyone==0.23.4->-r requirements.txt (line 4)) (2023.10.3)\n",
      "Requirement already satisfied: retrying in /Users/sagnik/Library/Python/3.9/lib/python/site-packages (from fiftyone==0.23.4->-r requirements.txt (line 4)) (1.3.4)\n",
      "Requirement already satisfied: scikit-learn in /Users/sagnik/Library/Python/3.9/lib/python/site-packages (from fiftyone==0.23.4->-r requirements.txt (line 4)) (1.3.2)\n",
      "Requirement already satisfied: scikit-image in /Users/sagnik/Library/Python/3.9/lib/python/site-packages (from fiftyone==0.23.4->-r requirements.txt (line 4)) (0.22.0)\n",
      "Requirement already satisfied: setuptools in /Applications/Xcode.app/Contents/Developer/Library/Frameworks/Python3.framework/Versions/3.9/lib/python3.9/site-packages (from fiftyone==0.23.4->-r requirements.txt (line 4)) (58.0.4)\n",
      "Requirement already satisfied: sseclient-py<2,>=1.7.2 in /Users/sagnik/Library/Python/3.9/lib/python/site-packages (from fiftyone==0.23.4->-r requirements.txt (line 4)) (1.8.0)\n",
      "Requirement already satisfied: sse-starlette<1,>=0.10.3 in /Users/sagnik/Library/Python/3.9/lib/python/site-packages (from fiftyone==0.23.4->-r requirements.txt (line 4)) (0.10.3)\n",
      "Requirement already satisfied: starlette>=0.24.0 in /Users/sagnik/Library/Python/3.9/lib/python/site-packages (from fiftyone==0.23.4->-r requirements.txt (line 4)) (0.27.0)\n",
      "Requirement already satisfied: strawberry-graphql==0.138.1 in /Users/sagnik/Library/Python/3.9/lib/python/site-packages (from fiftyone==0.23.4->-r requirements.txt (line 4)) (0.138.1)\n",
      "Requirement already satisfied: tabulate in /Users/sagnik/Library/Python/3.9/lib/python/site-packages (from fiftyone==0.23.4->-r requirements.txt (line 4)) (0.9.0)\n",
      "Requirement already satisfied: xmltodict in /Users/sagnik/Library/Python/3.9/lib/python/site-packages (from fiftyone==0.23.4->-r requirements.txt (line 4)) (0.13.0)\n",
      "Requirement already satisfied: universal-analytics-python3<2,>=1.0.1 in /Users/sagnik/Library/Python/3.9/lib/python/site-packages (from fiftyone==0.23.4->-r requirements.txt (line 4)) (1.1.1)\n",
      "Requirement already satisfied: fiftyone-brain<0.17,>=0.16.0 in /Users/sagnik/Library/Python/3.9/lib/python/site-packages (from fiftyone==0.23.4->-r requirements.txt (line 4)) (0.16.0)\n",
      "Requirement already satisfied: fiftyone-db<2.0,>=0.4 in /Users/sagnik/Library/Python/3.9/lib/python/site-packages (from fiftyone==0.23.4->-r requirements.txt (line 4)) (1.1.1)\n",
      "Requirement already satisfied: voxel51-eta<0.13,>=0.12.4 in /Users/sagnik/Library/Python/3.9/lib/python/site-packages (from fiftyone==0.23.4->-r requirements.txt (line 4)) (0.12.4)\n",
      "Requirement already satisfied: opencv-python-headless in /Users/sagnik/Library/Python/3.9/lib/python/site-packages (from fiftyone==0.23.4->-r requirements.txt (line 4)) (4.9.0.80)\n",
      "Requirement already satisfied: altair<6.0,>=4.2.0 in /Users/sagnik/Library/Python/3.9/lib/python/site-packages (from gradio==4.15.0->-r requirements.txt (line 6)) (5.2.0)\n",
      "Requirement already satisfied: fastapi in /Users/sagnik/Library/Python/3.9/lib/python/site-packages (from gradio==4.15.0->-r requirements.txt (line 6)) (0.105.0)\n",
      "Requirement already satisfied: ffmpy in /Users/sagnik/Library/Python/3.9/lib/python/site-packages (from gradio==4.15.0->-r requirements.txt (line 6)) (0.3.1)\n",
      "Requirement already satisfied: httpx in /Users/sagnik/Library/Python/3.9/lib/python/site-packages (from gradio==4.15.0->-r requirements.txt (line 6)) (0.24.1)\n",
      "Requirement already satisfied: importlib-resources<7.0,>=1.3 in /Users/sagnik/Library/Python/3.9/lib/python/site-packages (from gradio==4.15.0->-r requirements.txt (line 6)) (6.1.1)\n",
      "Requirement already satisfied: markupsafe~=2.0 in /Library/Python/3.9/site-packages (from gradio==4.15.0->-r requirements.txt (line 6)) (2.1.3)\n",
      "Requirement already satisfied: orjson~=3.0 in /Users/sagnik/Library/Python/3.9/lib/python/site-packages (from gradio==4.15.0->-r requirements.txt (line 6)) (3.9.12)\n",
      "Requirement already satisfied: pydantic>=2.0 in /Users/sagnik/Library/Python/3.9/lib/python/site-packages (from gradio==4.15.0->-r requirements.txt (line 6)) (2.5.3)\n",
      "Requirement already satisfied: pydub in /Users/sagnik/Library/Python/3.9/lib/python/site-packages (from gradio==4.15.0->-r requirements.txt (line 6)) (0.25.1)\n",
      "Requirement already satisfied: python-multipart in /Users/sagnik/Library/Python/3.9/lib/python/site-packages (from gradio==4.15.0->-r requirements.txt (line 6)) (0.0.6)\n",
      "Requirement already satisfied: ruff>=0.1.7 in /Users/sagnik/Library/Python/3.9/lib/python/site-packages (from gradio==4.15.0->-r requirements.txt (line 6)) (0.1.14)\n",
      "Requirement already satisfied: semantic-version~=2.0 in /Users/sagnik/Library/Python/3.9/lib/python/site-packages (from gradio==4.15.0->-r requirements.txt (line 6)) (2.10.0)\n",
      "Requirement already satisfied: tomlkit==0.12.0 in /Users/sagnik/Library/Python/3.9/lib/python/site-packages (from gradio==4.15.0->-r requirements.txt (line 6)) (0.12.0)\n",
      "Requirement already satisfied: typer<1.0,>=0.9 in /Users/sagnik/Library/Python/3.9/lib/python/site-packages (from typer[all]<1.0,>=0.9->gradio==4.15.0->-r requirements.txt (line 6)) (0.9.0)\n",
      "Requirement already satisfied: typing-extensions~=4.0 in /Users/sagnik/Library/Python/3.9/lib/python/site-packages (from gradio==4.15.0->-r requirements.txt (line 6)) (4.9.0)\n",
      "Requirement already satisfied: uvicorn>=0.14.0 in /Users/sagnik/Library/Python/3.9/lib/python/site-packages (from gradio==4.15.0->-r requirements.txt (line 6)) (0.22.0)\n",
      "Requirement already satisfied: websockets<12.0,>=10.0 in /Users/sagnik/Library/Python/3.9/lib/python/site-packages (from gradio_client==0.8.1->-r requirements.txt (line 7)) (11.0.3)\n",
      "Requirement already satisfied: appnope in /Users/sagnik/Library/Python/3.9/lib/python/site-packages (from ipykernel==6.27.1->-r requirements.txt (line 8)) (0.1.3)\n",
      "Requirement already satisfied: comm>=0.1.1 in /Users/sagnik/Library/Python/3.9/lib/python/site-packages (from ipykernel==6.27.1->-r requirements.txt (line 8)) (0.2.0)\n",
      "Requirement already satisfied: debugpy>=1.6.5 in /Users/sagnik/Library/Python/3.9/lib/python/site-packages (from ipykernel==6.27.1->-r requirements.txt (line 8)) (1.8.0)\n",
      "Requirement already satisfied: jupyter-client>=6.1.12 in /Users/sagnik/Library/Python/3.9/lib/python/site-packages (from ipykernel==6.27.1->-r requirements.txt (line 8)) (8.6.0)\n",
      "Requirement already satisfied: jupyter-core!=5.0.*,>=4.12 in /Users/sagnik/Library/Python/3.9/lib/python/site-packages (from ipykernel==6.27.1->-r requirements.txt (line 8)) (5.5.0)\n",
      "Requirement already satisfied: matplotlib-inline>=0.1 in /Users/sagnik/Library/Python/3.9/lib/python/site-packages (from ipykernel==6.27.1->-r requirements.txt (line 8)) (0.1.6)\n",
      "Requirement already satisfied: nest-asyncio in /Users/sagnik/Library/Python/3.9/lib/python/site-packages (from ipykernel==6.27.1->-r requirements.txt (line 8)) (1.5.8)\n",
      "Requirement already satisfied: pyzmq>=20 in /Users/sagnik/Library/Python/3.9/lib/python/site-packages (from ipykernel==6.27.1->-r requirements.txt (line 8)) (25.1.2)\n",
      "Requirement already satisfied: tornado>=6.1 in /Users/sagnik/Library/Python/3.9/lib/python/site-packages (from ipykernel==6.27.1->-r requirements.txt (line 8)) (6.4)\n",
      "Requirement already satisfied: traitlets>=5.4.0 in /Users/sagnik/Library/Python/3.9/lib/python/site-packages (from ipykernel==6.27.1->-r requirements.txt (line 8)) (5.14.0)\n",
      "Requirement already satisfied: backcall in /Users/sagnik/Library/Python/3.9/lib/python/site-packages (from ipython==8.12.3->-r requirements.txt (line 9)) (0.2.0)\n",
      "Requirement already satisfied: decorator in /Users/sagnik/Library/Python/3.9/lib/python/site-packages (from ipython==8.12.3->-r requirements.txt (line 9)) (5.1.1)\n",
      "Requirement already satisfied: jedi>=0.16 in /Users/sagnik/Library/Python/3.9/lib/python/site-packages (from ipython==8.12.3->-r requirements.txt (line 9)) (0.19.1)\n",
      "Requirement already satisfied: pickleshare in /Users/sagnik/Library/Python/3.9/lib/python/site-packages (from ipython==8.12.3->-r requirements.txt (line 9)) (0.7.5)\n",
      "Requirement already satisfied: prompt-toolkit!=3.0.37,<3.1.0,>=3.0.30 in /Users/sagnik/Library/Python/3.9/lib/python/site-packages (from ipython==8.12.3->-r requirements.txt (line 9)) (3.0.41)\n",
      "Requirement already satisfied: pygments>=2.4.0 in /Users/sagnik/Library/Python/3.9/lib/python/site-packages (from ipython==8.12.3->-r requirements.txt (line 9)) (2.17.2)\n",
      "Requirement already satisfied: stack-data in /Users/sagnik/Library/Python/3.9/lib/python/site-packages (from ipython==8.12.3->-r requirements.txt (line 9)) (0.6.3)\n",
      "Requirement already satisfied: pexpect>4.3 in /Users/sagnik/Library/Python/3.9/lib/python/site-packages (from ipython==8.12.3->-r requirements.txt (line 9)) (4.9.0)\n",
      "Requirement already satisfied: python-dateutil>=2.8.2 in /Library/Python/3.9/site-packages (from pandas==2.1.4->-r requirements.txt (line 11)) (2.8.2)\n",
      "Requirement already satisfied: tzdata>=2022.1 in /Library/Python/3.9/site-packages (from pandas==2.1.4->-r requirements.txt (line 11)) (2023.3)\n",
      "Requirement already satisfied: portalocker in /Users/sagnik/Library/Python/3.9/lib/python/site-packages (from sacrebleu==1.5.0->-r requirements.txt (line 12)) (2.8.2)\n",
      "Requirement already satisfied: filelock in /Users/sagnik/Library/Python/3.9/lib/python/site-packages (from torch==2.1.1->-r requirements.txt (line 14)) (3.13.1)\n",
      "Requirement already satisfied: sympy in /Library/Python/3.9/site-packages (from torch==2.1.1->-r requirements.txt (line 14)) (1.12)\n",
      "Requirement already satisfied: networkx in /Library/Python/3.9/site-packages (from torch==2.1.1->-r requirements.txt (line 14)) (3.2.1)\n",
      "Requirement already satisfied: tokenizers<0.19,>=0.14 in /Users/sagnik/Library/Python/3.9/lib/python/site-packages (from transformers==4.36.0->-r requirements.txt (line 18)) (0.15.0)\n",
      "Requirement already satisfied: Click!=8.0.0,>=7.1 in /Users/sagnik/Library/Python/3.9/lib/python/site-packages (from wandb==0.16.2->-r requirements.txt (line 19)) (8.1.7)\n",
      "Requirement already satisfied: GitPython!=3.1.29,>=1.0.0 in /Users/sagnik/Library/Python/3.9/lib/python/site-packages (from wandb==0.16.2->-r requirements.txt (line 19)) (3.1.41)\n",
      "Requirement already satisfied: sentry-sdk>=1.0.0 in /Users/sagnik/Library/Python/3.9/lib/python/site-packages (from wandb==0.16.2->-r requirements.txt (line 19)) (1.39.2)\n",
      "Requirement already satisfied: docker-pycreds>=0.4.0 in /Users/sagnik/Library/Python/3.9/lib/python/site-packages (from wandb==0.16.2->-r requirements.txt (line 19)) (0.4.0)\n",
      "Requirement already satisfied: setproctitle in /Users/sagnik/Library/Python/3.9/lib/python/site-packages (from wandb==0.16.2->-r requirements.txt (line 19)) (1.3.3)\n",
      "Requirement already satisfied: appdirs>=1.4.3 in /Users/sagnik/Library/Python/3.9/lib/python/site-packages (from wandb==0.16.2->-r requirements.txt (line 19)) (1.4.4)\n",
      "Requirement already satisfied: protobuf!=4.21.0,<5,>=3.19.0 in /Users/sagnik/Library/Python/3.9/lib/python/site-packages (from wandb==0.16.2->-r requirements.txt (line 19)) (4.25.2)\n",
      "Requirement already satisfied: graphql-core<3.3.0,>=3.2.0 in /Users/sagnik/Library/Python/3.9/lib/python/site-packages (from strawberry-graphql==0.138.1->fiftyone==0.23.4->-r requirements.txt (line 4)) (3.2.3)\n",
      "Requirement already satisfied: jsonschema>=3.0 in /Users/sagnik/Library/Python/3.9/lib/python/site-packages (from altair<6.0,>=4.2.0->gradio==4.15.0->-r requirements.txt (line 6)) (4.21.1)\n",
      "Requirement already satisfied: toolz in /Users/sagnik/Library/Python/3.9/lib/python/site-packages (from altair<6.0,>=4.2.0->gradio==4.15.0->-r requirements.txt (line 6)) (0.12.0)\n",
      "Requirement already satisfied: six>=1.4.0 in /Applications/Xcode.app/Contents/Developer/Library/Frameworks/Python3.framework/Versions/3.9/lib/python3.9/site-packages (from docker-pycreds>=0.4.0->wandb==0.16.2->-r requirements.txt (line 19)) (1.15.0)\n",
      "Requirement already satisfied: attrs>=17.3.0 in /Library/Python/3.9/site-packages (from aiohttp->datasets==2.15.0->-r requirements.txt (line 3)) (23.1.0)\n",
      "Requirement already satisfied: multidict<7.0,>=4.5 in /Library/Python/3.9/site-packages (from aiohttp->datasets==2.15.0->-r requirements.txt (line 3)) (6.0.4)\n",
      "Requirement already satisfied: yarl<2.0,>=1.0 in /Library/Python/3.9/site-packages (from aiohttp->datasets==2.15.0->-r requirements.txt (line 3)) (1.9.4)\n",
      "Requirement already satisfied: frozenlist>=1.1.1 in /Library/Python/3.9/site-packages (from aiohttp->datasets==2.15.0->-r requirements.txt (line 3)) (1.4.0)\n",
      "Requirement already satisfied: aiosignal>=1.1.2 in /Library/Python/3.9/site-packages (from aiohttp->datasets==2.15.0->-r requirements.txt (line 3)) (1.3.1)\n",
      "Requirement already satisfied: async-timeout<5.0,>=4.0 in /Library/Python/3.9/site-packages (from aiohttp->datasets==2.15.0->-r requirements.txt (line 3)) (4.0.3)\n",
      "Requirement already satisfied: gitdb<5,>=4.0.1 in /Users/sagnik/Library/Python/3.9/lib/python/site-packages (from GitPython!=3.1.29,>=1.0.0->wandb==0.16.2->-r requirements.txt (line 19)) (4.0.11)\n",
      "Requirement already satisfied: h11 in /Users/sagnik/Library/Python/3.9/lib/python/site-packages (from hypercorn>=0.13.2->fiftyone==0.23.4->-r requirements.txt (line 4)) (0.14.0)\n",
      "Requirement already satisfied: h2>=3.1.0 in /Users/sagnik/Library/Python/3.9/lib/python/site-packages (from hypercorn>=0.13.2->fiftyone==0.23.4->-r requirements.txt (line 4)) (4.1.0)\n",
      "Requirement already satisfied: priority in /Users/sagnik/Library/Python/3.9/lib/python/site-packages (from hypercorn>=0.13.2->fiftyone==0.23.4->-r requirements.txt (line 4)) (2.0.0)\n",
      "Requirement already satisfied: taskgroup in /Users/sagnik/Library/Python/3.9/lib/python/site-packages (from hypercorn>=0.13.2->fiftyone==0.23.4->-r requirements.txt (line 4)) (0.0.0a4)\n",
      "Requirement already satisfied: tomli in /Users/sagnik/Library/Python/3.9/lib/python/site-packages (from hypercorn>=0.13.2->fiftyone==0.23.4->-r requirements.txt (line 4)) (2.0.1)\n",
      "Requirement already satisfied: wsproto>=0.14.0 in /Users/sagnik/Library/Python/3.9/lib/python/site-packages (from hypercorn>=0.13.2->fiftyone==0.23.4->-r requirements.txt (line 4)) (1.2.0)\n",
      "Requirement already satisfied: zipp>=3.1.0 in /Users/sagnik/Library/Python/3.9/lib/python/site-packages (from importlib-resources<7.0,>=1.3->gradio==4.15.0->-r requirements.txt (line 6)) (3.17.0)\n",
      "Requirement already satisfied: parso<0.9.0,>=0.8.3 in /Users/sagnik/Library/Python/3.9/lib/python/site-packages (from jedi>=0.16->ipython==8.12.3->-r requirements.txt (line 9)) (0.8.3)\n",
      "Requirement already satisfied: importlib-metadata>=4.8.3 in /Users/sagnik/Library/Python/3.9/lib/python/site-packages (from jupyter-client>=6.1.12->ipykernel==6.27.1->-r requirements.txt (line 8)) (7.0.0)\n",
      "Requirement already satisfied: platformdirs>=2.5 in /Users/sagnik/Library/Python/3.9/lib/python/site-packages (from jupyter-core!=5.0.*,>=4.12->ipykernel==6.27.1->-r requirements.txt (line 8)) (4.1.0)\n",
      "Requirement already satisfied: contourpy>=1.0.1 in /Users/sagnik/Library/Python/3.9/lib/python/site-packages (from matplotlib->fiftyone==0.23.4->-r requirements.txt (line 4)) (1.2.0)\n",
      "Requirement already satisfied: cycler>=0.10 in /Users/sagnik/Library/Python/3.9/lib/python/site-packages (from matplotlib->fiftyone==0.23.4->-r requirements.txt (line 4)) (0.12.1)\n",
      "Requirement already satisfied: fonttools>=4.22.0 in /Users/sagnik/Library/Python/3.9/lib/python/site-packages (from matplotlib->fiftyone==0.23.4->-r requirements.txt (line 4)) (4.46.0)\n",
      "Requirement already satisfied: kiwisolver>=1.3.1 in /Users/sagnik/Library/Python/3.9/lib/python/site-packages (from matplotlib->fiftyone==0.23.4->-r requirements.txt (line 4)) (1.4.5)\n",
      "Requirement already satisfied: pyparsing>=2.3.1 in /Users/sagnik/Library/Python/3.9/lib/python/site-packages (from matplotlib->fiftyone==0.23.4->-r requirements.txt (line 4)) (3.1.1)\n",
      "Requirement already satisfied: ptyprocess>=0.5 in /Users/sagnik/Library/Python/3.9/lib/python/site-packages (from pexpect>4.3->ipython==8.12.3->-r requirements.txt (line 9)) (0.7.0)\n",
      "Requirement already satisfied: tenacity>=6.2.0 in /Users/sagnik/Library/Python/3.9/lib/python/site-packages (from plotly>=4.14->fiftyone==0.23.4->-r requirements.txt (line 4)) (8.2.3)\n",
      "Requirement already satisfied: wcwidth in /Users/sagnik/Library/Python/3.9/lib/python/site-packages (from prompt-toolkit!=3.0.37,<3.1.0,>=3.0.30->ipython==8.12.3->-r requirements.txt (line 9)) (0.2.12)\n",
      "Requirement already satisfied: annotated-types>=0.4.0 in /Users/sagnik/Library/Python/3.9/lib/python/site-packages (from pydantic>=2.0->gradio==4.15.0->-r requirements.txt (line 6)) (0.6.0)\n",
      "Requirement already satisfied: pydantic-core==2.14.6 in /Users/sagnik/Library/Python/3.9/lib/python/site-packages (from pydantic>=2.0->gradio==4.15.0->-r requirements.txt (line 6)) (2.14.6)\n",
      "Requirement already satisfied: dnspython<3.0.0,>=1.16.0 in /Users/sagnik/Library/Python/3.9/lib/python/site-packages (from pymongo>=3.12->fiftyone==0.23.4->-r requirements.txt (line 4)) (2.5.0)\n",
      "Requirement already satisfied: charset-normalizer<4,>=2 in /Users/sagnik/Library/Python/3.9/lib/python/site-packages (from requests>=2.19.0->datasets==2.15.0->-r requirements.txt (line 3)) (3.3.2)\n",
      "Requirement already satisfied: idna<4,>=2.5 in /Users/sagnik/Library/Python/3.9/lib/python/site-packages (from requests>=2.19.0->datasets==2.15.0->-r requirements.txt (line 3)) (3.6)\n",
      "Requirement already satisfied: urllib3<3,>=1.21.1 in /Users/sagnik/Library/Python/3.9/lib/python/site-packages (from requests>=2.19.0->datasets==2.15.0->-r requirements.txt (line 3)) (1.26.18)\n",
      "Requirement already satisfied: certifi>=2017.4.17 in /Users/sagnik/Library/Python/3.9/lib/python/site-packages (from requests>=2.19.0->datasets==2.15.0->-r requirements.txt (line 3)) (2023.11.17)\n",
      "Requirement already satisfied: anyio<5,>=3.4.0 in /Users/sagnik/Library/Python/3.9/lib/python/site-packages (from starlette>=0.24.0->fiftyone==0.23.4->-r requirements.txt (line 4)) (3.7.1)\n",
      "Requirement already satisfied: colorama<0.5.0,>=0.4.3 in /Users/sagnik/Library/Python/3.9/lib/python/site-packages (from typer[all]<1.0,>=0.9->gradio==4.15.0->-r requirements.txt (line 6)) (0.4.6)\n",
      "Requirement already satisfied: shellingham<2.0.0,>=1.3.0 in /Users/sagnik/Library/Python/3.9/lib/python/site-packages (from typer[all]<1.0,>=0.9->gradio==4.15.0->-r requirements.txt (line 6)) (1.5.4)\n",
      "Requirement already satisfied: rich<14.0.0,>=10.11.0 in /Users/sagnik/Library/Python/3.9/lib/python/site-packages (from typer[all]<1.0,>=0.9->gradio==4.15.0->-r requirements.txt (line 6)) (13.7.0)\n",
      "Requirement already satisfied: httpcore<0.18.0,>=0.15.0 in /Users/sagnik/Library/Python/3.9/lib/python/site-packages (from httpx->gradio==4.15.0->-r requirements.txt (line 6)) (0.17.3)\n",
      "Requirement already satisfied: sniffio in /Users/sagnik/Library/Python/3.9/lib/python/site-packages (from httpx->gradio==4.15.0->-r requirements.txt (line 6)) (1.3.0)\n",
      "Requirement already satisfied: future in /Applications/Xcode.app/Contents/Developer/Library/Frameworks/Python3.framework/Versions/3.9/lib/python3.9/site-packages (from voxel51-eta<0.13,>=0.12.4->fiftyone==0.23.4->-r requirements.txt (line 4)) (0.18.2)\n",
      "Requirement already satisfied: jsonlines in /Users/sagnik/Library/Python/3.9/lib/python/site-packages (from voxel51-eta<0.13,>=0.12.4->fiftyone==0.23.4->-r requirements.txt (line 4)) (4.0.0)\n",
      "Requirement already satisfied: py7zr in /Users/sagnik/Library/Python/3.9/lib/python/site-packages (from voxel51-eta<0.13,>=0.12.4->fiftyone==0.23.4->-r requirements.txt (line 4)) (0.20.8)\n",
      "Requirement already satisfied: rarfile in /Users/sagnik/Library/Python/3.9/lib/python/site-packages (from voxel51-eta<0.13,>=0.12.4->fiftyone==0.23.4->-r requirements.txt (line 4)) (4.1)\n",
      "Requirement already satisfied: sortedcontainers in /Users/sagnik/Library/Python/3.9/lib/python/site-packages (from voxel51-eta<0.13,>=0.12.4->fiftyone==0.23.4->-r requirements.txt (line 4)) (2.4.0)\n",
      "Requirement already satisfied: tzlocal in /Users/sagnik/Library/Python/3.9/lib/python/site-packages (from voxel51-eta<0.13,>=0.12.4->fiftyone==0.23.4->-r requirements.txt (line 4)) (5.2)\n",
      "Requirement already satisfied: soupsieve>1.2 in /Users/sagnik/Library/Python/3.9/lib/python/site-packages (from beautifulsoup4->fiftyone==0.23.4->-r requirements.txt (line 4)) (2.5)\n",
      "Requirement already satisfied: botocore<1.35.0,>=1.34.29 in /Users/sagnik/Library/Python/3.9/lib/python/site-packages (from boto3->fiftyone==0.23.4->-r requirements.txt (line 4)) (1.34.29)\n",
      "Requirement already satisfied: jmespath<2.0.0,>=0.7.1 in /Users/sagnik/Library/Python/3.9/lib/python/site-packages (from boto3->fiftyone==0.23.4->-r requirements.txt (line 4)) (1.0.1)\n",
      "Requirement already satisfied: s3transfer<0.11.0,>=0.10.0 in /Users/sagnik/Library/Python/3.9/lib/python/site-packages (from boto3->fiftyone==0.23.4->-r requirements.txt (line 4)) (0.10.0)\n",
      "Requirement already satisfied: wrapt<2,>=1.10 in /Users/sagnik/Library/Python/3.9/lib/python/site-packages (from Deprecated->fiftyone==0.23.4->-r requirements.txt (line 4)) (1.16.0)\n",
      "Requirement already satisfied: imageio>=2.27 in /Users/sagnik/Library/Python/3.9/lib/python/site-packages (from scikit-image->fiftyone==0.23.4->-r requirements.txt (line 4)) (2.33.1)\n",
      "Requirement already satisfied: tifffile>=2022.8.12 in /Users/sagnik/Library/Python/3.9/lib/python/site-packages (from scikit-image->fiftyone==0.23.4->-r requirements.txt (line 4)) (2023.12.9)\n",
      "Requirement already satisfied: lazy_loader>=0.3 in /Users/sagnik/Library/Python/3.9/lib/python/site-packages (from scikit-image->fiftyone==0.23.4->-r requirements.txt (line 4)) (0.3)\n",
      "Requirement already satisfied: joblib>=1.1.1 in /Users/sagnik/Library/Python/3.9/lib/python/site-packages (from scikit-learn->fiftyone==0.23.4->-r requirements.txt (line 4)) (1.3.2)\n",
      "Requirement already satisfied: threadpoolctl>=2.0.0 in /Users/sagnik/Library/Python/3.9/lib/python/site-packages (from scikit-learn->fiftyone==0.23.4->-r requirements.txt (line 4)) (3.2.0)\n",
      "Requirement already satisfied: executing>=1.2.0 in /Users/sagnik/Library/Python/3.9/lib/python/site-packages (from stack-data->ipython==8.12.3->-r requirements.txt (line 9)) (2.0.1)\n",
      "Requirement already satisfied: asttokens>=2.1.0 in /Users/sagnik/Library/Python/3.9/lib/python/site-packages (from stack-data->ipython==8.12.3->-r requirements.txt (line 9)) (2.4.1)\n",
      "Requirement already satisfied: pure-eval in /Users/sagnik/Library/Python/3.9/lib/python/site-packages (from stack-data->ipython==8.12.3->-r requirements.txt (line 9)) (0.2.2)\n",
      "Requirement already satisfied: mpmath>=0.19 in /Library/Python/3.9/site-packages (from sympy->torch==2.1.1->-r requirements.txt (line 14)) (1.3.0)\n",
      "Requirement already satisfied: exceptiongroup in /Users/sagnik/Library/Python/3.9/lib/python/site-packages (from anyio<5,>=3.4.0->starlette>=0.24.0->fiftyone==0.23.4->-r requirements.txt (line 4)) (1.2.0)\n",
      "Requirement already satisfied: smmap<6,>=3.0.1 in /Users/sagnik/Library/Python/3.9/lib/python/site-packages (from gitdb<5,>=4.0.1->GitPython!=3.1.29,>=1.0.0->wandb==0.16.2->-r requirements.txt (line 19)) (5.0.1)\n",
      "Requirement already satisfied: hyperframe<7,>=6.0 in /Users/sagnik/Library/Python/3.9/lib/python/site-packages (from h2>=3.1.0->hypercorn>=0.13.2->fiftyone==0.23.4->-r requirements.txt (line 4)) (6.0.1)\n",
      "Requirement already satisfied: hpack<5,>=4.0 in /Users/sagnik/Library/Python/3.9/lib/python/site-packages (from h2>=3.1.0->hypercorn>=0.13.2->fiftyone==0.23.4->-r requirements.txt (line 4)) (4.0.0)\n",
      "Requirement already satisfied: jsonschema-specifications>=2023.03.6 in /Users/sagnik/Library/Python/3.9/lib/python/site-packages (from jsonschema>=3.0->altair<6.0,>=4.2.0->gradio==4.15.0->-r requirements.txt (line 6)) (2023.12.1)\n",
      "Requirement already satisfied: referencing>=0.28.4 in /Users/sagnik/Library/Python/3.9/lib/python/site-packages (from jsonschema>=3.0->altair<6.0,>=4.2.0->gradio==4.15.0->-r requirements.txt (line 6)) (0.32.1)\n",
      "Requirement already satisfied: rpds-py>=0.7.1 in /Users/sagnik/Library/Python/3.9/lib/python/site-packages (from jsonschema>=3.0->altair<6.0,>=4.2.0->gradio==4.15.0->-r requirements.txt (line 6)) (0.17.1)\n",
      "Requirement already satisfied: markdown-it-py>=2.2.0 in /Users/sagnik/Library/Python/3.9/lib/python/site-packages (from rich<14.0.0,>=10.11.0->typer[all]<1.0,>=0.9->gradio==4.15.0->-r requirements.txt (line 6)) (3.0.0)\n",
      "Requirement already satisfied: texttable in /Users/sagnik/Library/Python/3.9/lib/python/site-packages (from py7zr->voxel51-eta<0.13,>=0.12.4->fiftyone==0.23.4->-r requirements.txt (line 4)) (1.7.0)\n",
      "Requirement already satisfied: pycryptodomex>=3.16.0 in /Users/sagnik/Library/Python/3.9/lib/python/site-packages (from py7zr->voxel51-eta<0.13,>=0.12.4->fiftyone==0.23.4->-r requirements.txt (line 4)) (3.20.0)\n",
      "Requirement already satisfied: pyzstd>=0.15.9 in /Users/sagnik/Library/Python/3.9/lib/python/site-packages (from py7zr->voxel51-eta<0.13,>=0.12.4->fiftyone==0.23.4->-r requirements.txt (line 4)) (0.15.9)\n",
      "Requirement already satisfied: pyppmd<1.2.0,>=1.1.0 in /Users/sagnik/Library/Python/3.9/lib/python/site-packages (from py7zr->voxel51-eta<0.13,>=0.12.4->fiftyone==0.23.4->-r requirements.txt (line 4)) (1.1.0)\n",
      "Requirement already satisfied: pybcj<1.1.0,>=1.0.0 in /Users/sagnik/Library/Python/3.9/lib/python/site-packages (from py7zr->voxel51-eta<0.13,>=0.12.4->fiftyone==0.23.4->-r requirements.txt (line 4)) (1.0.2)\n",
      "Requirement already satisfied: multivolumefile>=0.2.3 in /Users/sagnik/Library/Python/3.9/lib/python/site-packages (from py7zr->voxel51-eta<0.13,>=0.12.4->fiftyone==0.23.4->-r requirements.txt (line 4)) (0.2.3)\n",
      "Requirement already satisfied: inflate64<1.1.0,>=1.0.0 in /Users/sagnik/Library/Python/3.9/lib/python/site-packages (from py7zr->voxel51-eta<0.13,>=0.12.4->fiftyone==0.23.4->-r requirements.txt (line 4)) (1.0.0)\n",
      "Requirement already satisfied: brotli>=1.1.0 in /Users/sagnik/Library/Python/3.9/lib/python/site-packages (from py7zr->voxel51-eta<0.13,>=0.12.4->fiftyone==0.23.4->-r requirements.txt (line 4)) (1.1.0)\n",
      "Requirement already satisfied: mdurl~=0.1 in /Users/sagnik/Library/Python/3.9/lib/python/site-packages (from markdown-it-py>=2.2.0->rich<14.0.0,>=10.11.0->typer[all]<1.0,>=0.9->gradio==4.15.0->-r requirements.txt (line 6)) (0.1.2)\n",
      "Note: you may need to restart the kernel to use updated packages.\n"
     ]
    }
   ],
   "source": [
    "%pip install -r requirements.txt"
   ]
  },
  {
   "cell_type": "code",
   "execution_count": 2,
   "metadata": {},
   "outputs": [
    {
     "name": "stderr",
     "output_type": "stream",
     "text": [
      "/Users/sagnik/Library/Python/3.9/lib/python/site-packages/tqdm/auto.py:21: TqdmWarning: IProgress not found. Please update jupyter and ipywidgets. See https://ipywidgets.readthedocs.io/en/stable/user_install.html\n",
      "  from .autonotebook import tqdm as notebook_tqdm\n"
     ]
    }
   ],
   "source": [
    "from transformers import VisionEncoderDecoderModel, ViTFeatureExtractor, AutoTokenizer, BitsAndBytesConfig, AutoProcessor, LlavaForConditionalGeneration\n",
    "from transformers import AdamW\n",
    "from datasets import load_dataset\n",
    "import torch\n",
    "from collections import Counter\n",
    "import fiftyone\n",
    "import torch.nn as nn\n",
    "from tqdm.auto import tqdm\n",
    "from torch.utils.data import DataLoader, Dataset\n",
    "import torchvision.transforms as T\n",
    "import torch.nn.functional as F\n",
    "import numpy as np\n",
    "import os\n",
    "import time\n",
    "import glob\n",
    "\n",
    "# uncommon features  - events of interest\n",
    "# loss less compression -  sudden more bits indicates anomaly can be flagged, alerts when anomaly detected - may shift to lossy video streaming\n",
    "# lossy compression of noisy data varying distortion rate - accuracy is increasing\n",
    "# video to video lossy reconstruction possibility\n",
    "# image frame to image frame on a need basis - human satisfaction metric, GPT based comparison, RLHF based comparison"
   ]
  },
  {
   "cell_type": "code",
   "execution_count": 3,
   "metadata": {},
   "outputs": [],
   "source": [
    "# Check if GPU is available and set the device accordingly\n",
    "device = torch.device(\"cuda\" if torch.cuda.is_available() else \"cpu\")"
   ]
  },
  {
   "cell_type": "code",
   "execution_count": 4,
   "metadata": {},
   "outputs": [
    {
     "name": "stderr",
     "output_type": "stream",
     "text": [
      "/Users/sagnik/Library/Python/3.9/lib/python/site-packages/transformers/models/vit/feature_extraction_vit.py:28: FutureWarning: The class ViTFeatureExtractor is deprecated and will be removed in version 5 of Transformers. Please use ViTImageProcessor instead.\n",
      "  warnings.warn(\n"
     ]
    }
   ],
   "source": [
    "# Load the pre-trained model and its components\n",
    "model = VisionEncoderDecoderModel.from_pretrained(\"nlpconnect/vit-gpt2-image-captioning\")\n",
    "feature_extractor = ViTFeatureExtractor.from_pretrained(\"nlpconnect/vit-gpt2-image-captioning\")\n",
    "tokenizer = AutoTokenizer.from_pretrained(\"nlpconnect/vit-gpt2-image-captioning\")\n",
    "\n",
    "# # Loading the above for LlavVA\n",
    "# model_llava = LlavaForConditionalGeneration.from_pretrained(\"llava-hf/llava-1.5-7b-hf\")\n",
    "# processor_llava = AutoProcessor.from_pretrained(\"llava-hf/llava-1.5-7b-hf\")"
   ]
  },
  {
   "cell_type": "code",
   "execution_count": 5,
   "metadata": {},
   "outputs": [
    {
     "name": "stderr",
     "output_type": "stream",
     "text": [
      "Resolving data files: 100%|██████████| 81434/81434 [00:00<00:00, 312128.37it/s]\n"
     ]
    }
   ],
   "source": [
    "# Load a dataset (for example, a subset of the COCO dataset)\n",
    "# TODO: Potential datasets with repetitive nature that can be used: MS COCO, Flickr30k, Visual Genome, SBU Captions - get correlated datasets from Nikil\n",
    "\n",
    "# load small part of the coco dataset from all the .jpg images in datasets/mscoco/test2015\n",
    "dataset = load_dataset(\"datasets/mscoco/test2015/\", split=\"test[:50]\")"
   ]
  },
  {
   "cell_type": "code",
   "execution_count": 6,
   "metadata": {},
   "outputs": [],
   "source": [
    "# TODO: use different values of max_length and try out results\n",
    "\n",
    "def generate_caption_with_logits(image, max_length=15):\n",
    "    # define device\n",
    "    device = torch.device(\"cuda\" if torch.cuda.is_available() else \"cpu\")\n",
    "    \n",
    "    # Prepare the inputs\n",
    "    inputs = feature_extractor(images=image, return_tensors=\"pt\").to(device)\n",
    "    pixel_values = inputs.pixel_values\n",
    "    \n",
    "    model.to(device)\n",
    "    model.eval()\n",
    "    \n",
    "    with torch.no_grad():\n",
    "        # Perform a forward pass to get the logits\n",
    "        encoder_outputs = model.encoder(pixel_values=pixel_values)\n",
    "        encoder_hidden_states = encoder_outputs.last_hidden_state\n",
    "        \n",
    "        # Prepare decoder input_ids. Typically, you start with the start-of-sentence token\n",
    "        decoder_input_ids = torch.tensor([tokenizer.bos_token_id]).unsqueeze(0).to(encoder_hidden_states.device)\n",
    "        decoder_attention_mask = torch.ones_like(decoder_input_ids)\n",
    "        \n",
    "        # Initialize an empty tensor for logits (for simplicity, accumulating logits for each step)\n",
    "        logits_list = []\n",
    "        \n",
    "        for i in range(max_length):\n",
    "            decoder_outputs = model.decoder(input_ids=decoder_input_ids,\n",
    "                                            attention_mask=decoder_attention_mask,\n",
    "                                            encoder_hidden_states=encoder_hidden_states)\n",
    "            logits = decoder_outputs.logits[:, -1, :]  # Get the logits for the last token generated\n",
    "            logits_list.append(logits)\n",
    "            \n",
    "            predicted_id = torch.argmax(logits, dim=-1).unsqueeze(-1)\n",
    "            # Check if EOS token is generated\n",
    "            if predicted_id[0, 0] == tokenizer.eos_token_id:\n",
    "                print (\"EOS has been generated\")\n",
    "                # break # since model.generate() does this automatically\n",
    "            \n",
    "            # Append predicted token ID to decoder_input_ids for generating next token\n",
    "            decoder_input_ids = torch.cat([decoder_input_ids, predicted_id], dim=-1)\n",
    "            decoder_attention_mask = torch.cat([decoder_attention_mask, torch.ones_like(predicted_id).to(device)], dim=-1)\n",
    "            \n",
    "        # Concatenate logits from each step to get the final logits tensor\n",
    "        # make all elements of logits_list 3D by adding a dimension in the middle\n",
    "        logits_list = [logits.unsqueeze(1) for logits in logits_list]\n",
    "        logits = torch.cat(logits_list, dim=1)\n",
    "        # add logic to repeat the remaining number of (127-i) tokens with EOS token logits (simply repeat the last token logits) to make it length 128\n",
    "\n",
    "        # Decode the generated token IDs to get the caption\n",
    "        predicted_ids = torch.argmax(logits, dim=-1)\n",
    "        caption = tokenizer.decode(predicted_ids[0], skip_special_tokens=True)\n",
    "        \n",
    "    return logits, predicted_ids, caption\n",
    "\n",
    "# Example usage\n",
    "# image: A PIL image or a tensor representing your input image\n",
    "# logits, predicted_ids, caption = generate_caption_with_logits(image, model, feature_extractor, tokenizer)\n"
   ]
  },
  {
   "cell_type": "code",
   "execution_count": 7,
   "metadata": {},
   "outputs": [
    {
     "name": "stdout",
     "output_type": "stream",
     "text": [
      "EOS has been generated\n",
      "EOS has been generated\n",
      "EOS has been generated\n",
      "EOS has been generated\n",
      "EOS has been generated\n",
      "EOS has been generated\n",
      "EOS has been generated\n",
      "EOS has been generated\n",
      "EOS has been generated\n",
      "EOS has been generated\n",
      "EOS has been generated\n",
      "EOS has been generated\n",
      "EOS has been generated\n",
      "EOS has been generated\n",
      "EOS has been generated\n",
      "EOS has been generated\n",
      "EOS has been generated\n",
      "EOS has been generated\n",
      "EOS has been generated\n",
      "EOS has been generated\n",
      "EOS has been generated\n",
      "EOS has been generated\n",
      "EOS has been generated\n",
      "EOS has been generated\n",
      "EOS has been generated\n",
      "EOS has been generated\n",
      "EOS has been generated\n",
      "EOS has been generated\n",
      "EOS has been generated\n",
      "EOS has been generated\n",
      "EOS has been generated\n",
      "EOS has been generated\n",
      "EOS has been generated\n",
      "EOS has been generated\n",
      "EOS has been generated\n",
      "EOS has been generated\n",
      "EOS has been generated\n",
      "EOS has been generated\n",
      "EOS has been generated\n",
      "EOS has been generated\n",
      "EOS has been generated\n",
      "EOS has been generated\n",
      "EOS has been generated\n",
      "EOS has been generated\n",
      "EOS has been generated\n",
      "EOS has been generated\n",
      "EOS has been generated\n",
      "EOS has been generated\n",
      "EOS has been generated\n",
      "EOS has been generated\n",
      "torch.Size([50, 15, 50257])\n",
      "torch.Size([182])\n",
      "torch.Size([182, 50257])\n"
     ]
    }
   ],
   "source": [
    "# Iterate over the dataset and generate captions\n",
    "generated_captions = []\n",
    "generated_logits = []\n",
    "generated_predicted_ids = []\n",
    "\n",
    "for data in dataset:\n",
    "    image = data['image']\n",
    "    logits, predicted_ids, caption = generate_caption_with_logits(image)\n",
    "    generated_captions.append(caption)\n",
    "    generated_logits.append(logits)\n",
    "    generated_predicted_ids.append(predicted_ids)\n",
    "\n",
    "# concatenate generated logits along first dimension to make 3D tensor\n",
    "generated_logits = torch.cat(generated_logits, dim=0)\n",
    "print (generated_logits.shape)\n",
    "\n",
    "# concatenate generated predicted_ids along first dimension to make 2D tensor\n",
    "generated_predicted_ids = torch.cat(generated_predicted_ids, dim=0)\n",
    "\n",
    "# form new tensor of size unique tokens * vocab size : each row is the means of logits of all tokens with that id\\n\",\n",
    "# find unique elements in generated_predicted_ids, result should be a 1D tensor\\n\",\n",
    "unique_tokens = torch.unique(generated_predicted_ids)\n",
    "# store torch tensor of the number of times each unique token appears in generated_predicted_ids -  remember generated_predicted_ids is a 2D tensor\n",
    "unique_token_counts = torch.zeros(unique_tokens.shape[0]).to(device)\n",
    "for i, token in enumerate(unique_tokens):\n",
    "    unique_token_counts[i] = torch.sum(generated_predicted_ids == token)\n",
    "unique_token_probs = unique_token_counts / torch.sum(unique_token_counts)\n",
    "print (unique_token_counts.shape)\n",
    "# find the mean of logits for each unique token\n",
    "mean_logits = torch.zeros(unique_tokens.shape[0], generated_logits.shape[2]).to(device)\n",
    "for i, token in enumerate(unique_tokens):\n",
    "    mean_logits[i] = torch.mean(generated_logits[generated_predicted_ids == token], dim=0)\n",
    "print (mean_logits.shape)"
   ]
  },
  {
   "cell_type": "code",
   "execution_count": 8,
   "metadata": {},
   "outputs": [
    {
     "data": {
      "text/plain": [
       "['a green truck parked next to a curb a green truck parked next',\n",
       " 'a man is walking down the street with a skateboard a man',\n",
       " 'a baseball player swinging a bat at a ball a baseball player swinging',\n",
       " 'a cow is standing in a field of grass a cow is standing',\n",
       " 'a black dog sitting in the back of a truck a black dog',\n",
       " 'a man wearing a bow tie and glasses a man wearing a bow',\n",
       " 'a dining room table with a large bowl of food a large kitchen',\n",
       " 'a man standing next to a wall with a bunch of guitars a',\n",
       " 'a man is playing tennis on a clay court a man is playing',\n",
       " 'a man and a woman playing a game of frisbee a',\n",
       " 'a woman and a man are drinking wine people are sitting at a',\n",
       " 'people are standing around a table people are drinking wine people',\n",
       " 'a zebra standing in a fenced in area a zebra',\n",
       " 'two dogs are looking at each other in a room a dog is',\n",
       " 'a horse grazing in a field with a tree a horse grazing in',\n",
       " 'a bird perched on top of a bird feeder a bird sitting',\n",
       " 'a train on a track near a fence a train on a track',\n",
       " 'a plate of food with a fish and vegetables a person sitting at',\n",
       " 'an elephant with a large trunk standing on a dirt ground a elephant',\n",
       " 'people are watching a television show people are watching a movie ',\n",
       " 'a woman is cooking food in a kitchen a woman is cooking food',\n",
       " 'a stuffed animal with a teddy bear on it a teddy',\n",
       " 'a plate of food with meat, broccoli and potatoes a plate of',\n",
       " 'a man in a suit and tie looking at his cell phone a',\n",
       " 'a man holding a tennis racquet on a tennis court a man',\n",
       " 'a man sitting on a couch with a laptop a man sitting on',\n",
       " 'a motorcycle parked on the side of a road a motorcycle is parked',\n",
       " 'a bear walking through a forest with leaves a black bear standing in',\n",
       " 'a truck with a bed and a fence a truck with a bed',\n",
       " 'a plate of food on a table a hot dog on a bun',\n",
       " 'a man wearing a hat and a red scarf a man with a',\n",
       " 'a herd of sheep grazing in a field a herd of sheep standing',\n",
       " 'a remote control sitting on top of a couch a remote control sitting',\n",
       " 'a large jetliner flying through a cloudy sky a large jetliner',\n",
       " 'a man in a suit and tie speaking to a crowd a man',\n",
       " 'a plate of food with meat, rice and vegetables a plate of',\n",
       " 'a person jumping a skateboard on a ledge a person jumping a',\n",
       " 'a man is playing tennis on a court a man is playing tennis',\n",
       " \"a giraffe standing next to a tree with a leaf on it's head\",\n",
       " 'a woman standing on a beach holding an umbrella people are walking on',\n",
       " 'a man riding a wave on top of a surfboard a sur',\n",
       " 'a teddy bear sitting on a chair in a room a t',\n",
       " 'a man riding a bike down a street a man riding a motorcycle',\n",
       " 'a bedroom with a bed, chair, and a window a room',\n",
       " \"a clock tower with a clock on it's side a clock tower\",\n",
       " 'a fire truck is parked at a stop light a fire truck is',\n",
       " 'a collection of items including a purse, a bag, a pair of shoes',\n",
       " 'a large brick building with a clock tower a large building with a',\n",
       " 'a woman is sitting on the sidewalk while a man walks by people',\n",
       " 'a tray of food with a spoon and a bowl of food a']"
      ]
     },
     "execution_count": 8,
     "metadata": {},
     "output_type": "execute_result"
    }
   ],
   "source": [
    "generated_captions"
   ]
  },
  {
   "cell_type": "code",
   "execution_count": 9,
   "metadata": {},
   "outputs": [],
   "source": [
    "def update_encoding_dict(captions, encoding_dict):\n",
    "    for caption in captions:\n",
    "        words = caption.split() # splitting the caption into words - pretty bad strategy since we are currently splitting into tokens\n",
    "        encoding_dict.update(words) # purpose of update is to add the words to the dictionary if they don't exist\n",
    "    return encoding_dict"
   ]
  },
  {
   "cell_type": "code",
   "execution_count": 10,
   "metadata": {},
   "outputs": [
    {
     "name": "stdout",
     "output_type": "stream",
     "text": [
      "Counter({'a': 167, 'man': 24, 'on': 22, 'of': 21, 'with': 20, 'is': 14, 'in': 13, 'and': 12, 'standing': 10, 'sitting': 10, 'food': 9, 'are': 8, 'people': 8, 'truck': 7, 'large': 7, 'at': 6, 'woman': 6, 'plate': 6, 'parked': 5, 'playing': 5, 'tennis': 5, 'next': 4, 'to': 4, 'the': 4, 'dog': 4, 'room': 4, 'bear': 4, 'clock': 4, 'walking': 3, 'field': 3, 'black': 3, 'wearing': 3, 'tie': 3, 'table': 3, 'court': 3, 'grazing': 3, 'bird': 3, 'top': 3, 'person': 3, 'teddy': 3, 'motorcycle': 3, 'riding': 3, 'tower': 3, 'green': 2, 'down': 2, 'street': 2, 'skateboard': 2, 'baseball': 2, 'player': 2, 'swinging': 2, 'cow': 2, 'bow': 2, 'bowl': 2, 'kitchen': 2, 'drinking': 2, 'wine': 2, 'zebra': 2, 'looking': 2, 'horse': 2, 'tree': 2, 'train': 2, 'track': 2, 'fence': 2, 'vegetables': 2, 'an': 2, 'elephant': 2, 'watching': 2, 'cooking': 2, 'meat,': 2, 'suit': 2, 'holding': 2, 'couch': 2, 'side': 2, 'through': 2, 'bed': 2, 'herd': 2, 'sheep': 2, 'remote': 2, 'control': 2, 'jetliner': 2, 'jumping': 2, \"it's\": 2, 'fire': 2, 'building': 2, 'curb': 1, 'bat': 1, 'ball': 1, 'grass': 1, 'back': 1, 'glasses': 1, 'dining': 1, 'wall': 1, 'bunch': 1, 'guitars': 1, 'clay': 1, 'game': 1, 'frisbee': 1, 'around': 1, 'fenced': 1, 'area': 1, 'two': 1, 'dogs': 1, 'each': 1, 'other': 1, 'perched': 1, 'feeder': 1, 'near': 1, 'fish': 1, 'trunk': 1, 'dirt': 1, 'ground': 1, 'television': 1, 'show': 1, 'movie': 1, 'stuffed': 1, 'animal': 1, 'it': 1, 'broccoli': 1, 'potatoes': 1, 'his': 1, 'cell': 1, 'phone': 1, 'racquet': 1, 'laptop': 1, 'road': 1, 'forest': 1, 'leaves': 1, 'hot': 1, 'bun': 1, 'hat': 1, 'red': 1, 'scarf': 1, 'flying': 1, 'cloudy': 1, 'sky': 1, 'speaking': 1, 'crowd': 1, 'rice': 1, 'ledge': 1, 'giraffe': 1, 'leaf': 1, 'head': 1, 'beach': 1, 'umbrella': 1, 'wave': 1, 'surfboard': 1, 'sur': 1, 'chair': 1, 't': 1, 'bike': 1, 'bedroom': 1, 'bed,': 1, 'chair,': 1, 'window': 1, 'stop': 1, 'light': 1, 'collection': 1, 'items': 1, 'including': 1, 'purse,': 1, 'bag,': 1, 'pair': 1, 'shoes': 1, 'brick': 1, 'sidewalk': 1, 'while': 1, 'walks': 1, 'by': 1, 'tray': 1, 'spoon': 1})\n",
      "{'a': 1.3213565586833433, 'green': 5.746203190540153, 'truck': 4.493440222044785, 'parked': 4.829912458665998, 'next': 5.0530560099802075, 'to': 5.0530560099802075, 'curb': 6.439350371100098, 'man': 3.261296540752153, 'is': 3.80029304148484, 'walking': 5.340738082431989, 'down': 5.746203190540153, 'the': 5.0530560099802075, 'street': 5.746203190540153, 'with': 3.4436180975461075, 'skateboard': 5.746203190540153, 'baseball': 5.746203190540153, 'player': 5.746203190540153, 'swinging': 5.746203190540153, 'bat': 6.439350371100098, 'at': 4.647590901872044, 'ball': 6.439350371100098, 'cow': 5.746203190540153, 'standing': 4.136765278106053, 'in': 3.874401013638562, 'field': 5.340738082431989, 'of': 3.3948279333766758, 'grass': 6.439350371100098, 'black': 5.340738082431989, 'dog': 5.0530560099802075, 'sitting': 4.136765278106053, 'back': 6.439350371100098, 'wearing': 5.340738082431989, 'bow': 5.746203190540153, 'tie': 5.340738082431989, 'and': 3.9544437213120984, 'glasses': 6.439350371100098, 'dining': 6.439350371100098, 'room': 5.0530560099802075, 'table': 5.340738082431989, 'large': 4.493440222044785, 'bowl': 5.746203190540153, 'food': 4.242125793763879, 'kitchen': 5.746203190540153, 'wall': 6.439350371100098, 'bunch': 6.439350371100098, 'guitars': 6.439350371100098, 'playing': 4.829912458665998, 'tennis': 4.829912458665998, 'on': 3.3483079177417827, 'clay': 6.439350371100098, 'court': 5.340738082431989, 'woman': 4.647590901872044, 'game': 6.439350371100098, 'frisbee': 6.439350371100098, 'are': 4.359908829420263, 'drinking': 5.746203190540153, 'wine': 5.746203190540153, 'people': 4.359908829420263, 'around': 6.439350371100098, 'zebra': 5.746203190540153, 'fenced': 6.439350371100098, 'area': 6.439350371100098, 'two': 6.439350371100098, 'dogs': 6.439350371100098, 'looking': 5.746203190540153, 'each': 6.439350371100098, 'other': 6.439350371100098, 'horse': 5.746203190540153, 'grazing': 5.340738082431989, 'tree': 5.746203190540153, 'bird': 5.340738082431989, 'perched': 6.439350371100098, 'top': 5.340738082431989, 'feeder': 6.439350371100098, 'train': 5.746203190540153, 'track': 5.746203190540153, 'near': 6.439350371100098, 'fence': 5.746203190540153, 'plate': 4.647590901872044, 'fish': 6.439350371100098, 'vegetables': 5.746203190540153, 'person': 5.340738082431989, 'an': 5.746203190540153, 'elephant': 5.746203190540153, 'trunk': 6.439350371100098, 'dirt': 6.439350371100098, 'ground': 6.439350371100098, 'watching': 5.746203190540153, 'television': 6.439350371100098, 'show': 6.439350371100098, 'movie': 6.439350371100098, 'cooking': 5.746203190540153, 'stuffed': 6.439350371100098, 'animal': 6.439350371100098, 'teddy': 5.340738082431989, 'bear': 5.0530560099802075, 'it': 6.439350371100098, 'meat,': 5.746203190540153, 'broccoli': 6.439350371100098, 'potatoes': 6.439350371100098, 'suit': 5.746203190540153, 'his': 6.439350371100098, 'cell': 6.439350371100098, 'phone': 6.439350371100098, 'holding': 5.746203190540153, 'racquet': 6.439350371100098, 'couch': 5.746203190540153, 'laptop': 6.439350371100098, 'motorcycle': 5.340738082431989, 'side': 5.746203190540153, 'road': 6.439350371100098, 'through': 5.746203190540153, 'forest': 6.439350371100098, 'leaves': 6.439350371100098, 'bed': 5.746203190540153, 'hot': 6.439350371100098, 'bun': 6.439350371100098, 'hat': 6.439350371100098, 'red': 6.439350371100098, 'scarf': 6.439350371100098, 'herd': 5.746203190540153, 'sheep': 5.746203190540153, 'remote': 5.746203190540153, 'control': 5.746203190540153, 'jetliner': 5.746203190540153, 'flying': 6.439350371100098, 'cloudy': 6.439350371100098, 'sky': 6.439350371100098, 'speaking': 6.439350371100098, 'crowd': 6.439350371100098, 'rice': 6.439350371100098, 'jumping': 5.746203190540153, 'ledge': 6.439350371100098, 'giraffe': 6.439350371100098, 'leaf': 6.439350371100098, \"it's\": 5.746203190540153, 'head': 6.439350371100098, 'beach': 6.439350371100098, 'umbrella': 6.439350371100098, 'riding': 5.340738082431989, 'wave': 6.439350371100098, 'surfboard': 6.439350371100098, 'sur': 6.439350371100098, 'chair': 6.439350371100098, 't': 6.439350371100098, 'bike': 6.439350371100098, 'bedroom': 6.439350371100098, 'bed,': 6.439350371100098, 'chair,': 6.439350371100098, 'window': 6.439350371100098, 'clock': 5.0530560099802075, 'tower': 5.340738082431989, 'fire': 5.746203190540153, 'stop': 6.439350371100098, 'light': 6.439350371100098, 'collection': 6.439350371100098, 'items': 6.439350371100098, 'including': 6.439350371100098, 'purse,': 6.439350371100098, 'bag,': 6.439350371100098, 'pair': 6.439350371100098, 'shoes': 6.439350371100098, 'brick': 6.439350371100098, 'building': 5.746203190540153, 'sidewalk': 6.439350371100098, 'while': 6.439350371100098, 'walks': 6.439350371100098, 'by': 6.439350371100098, 'tray': 6.439350371100098, 'spoon': 6.439350371100098}\n",
      "{'a': 0.005952380952380952, 'green': 0.3333333333333333, 'truck': 0.125, 'parked': 0.16666666666666666, 'next': 0.2, 'to': 0.2, 'curb': 0.5, 'man': 0.04, 'is': 0.06666666666666667, 'walking': 0.25, 'down': 0.3333333333333333, 'the': 0.2, 'street': 0.3333333333333333, 'with': 0.047619047619047616, 'skateboard': 0.3333333333333333, 'baseball': 0.3333333333333333, 'player': 0.3333333333333333, 'swinging': 0.3333333333333333, 'bat': 0.5, 'at': 0.14285714285714285, 'ball': 0.5, 'cow': 0.3333333333333333, 'standing': 0.09090909090909091, 'in': 0.07142857142857142, 'field': 0.25, 'of': 0.045454545454545456, 'grass': 0.5, 'black': 0.25, 'dog': 0.2, 'sitting': 0.09090909090909091, 'back': 0.5, 'wearing': 0.25, 'bow': 0.3333333333333333, 'tie': 0.25, 'and': 0.07692307692307693, 'glasses': 0.5, 'dining': 0.5, 'room': 0.2, 'table': 0.25, 'large': 0.125, 'bowl': 0.3333333333333333, 'food': 0.1, 'kitchen': 0.3333333333333333, 'wall': 0.5, 'bunch': 0.5, 'guitars': 0.5, 'playing': 0.16666666666666666, 'tennis': 0.16666666666666666, 'on': 0.043478260869565216, 'clay': 0.5, 'court': 0.25, 'woman': 0.14285714285714285, 'game': 0.5, 'frisbee': 0.5, 'are': 0.1111111111111111, 'drinking': 0.3333333333333333, 'wine': 0.3333333333333333, 'people': 0.1111111111111111, 'around': 0.5, 'zebra': 0.3333333333333333, 'fenced': 0.5, 'area': 0.5, 'two': 0.5, 'dogs': 0.5, 'looking': 0.3333333333333333, 'each': 0.5, 'other': 0.5, 'horse': 0.3333333333333333, 'grazing': 0.25, 'tree': 0.3333333333333333, 'bird': 0.25, 'perched': 0.5, 'top': 0.25, 'feeder': 0.5, 'train': 0.3333333333333333, 'track': 0.3333333333333333, 'near': 0.5, 'fence': 0.3333333333333333, 'plate': 0.14285714285714285, 'fish': 0.5, 'vegetables': 0.3333333333333333, 'person': 0.25, 'an': 0.3333333333333333, 'elephant': 0.3333333333333333, 'trunk': 0.5, 'dirt': 0.5, 'ground': 0.5, 'watching': 0.3333333333333333, 'television': 0.5, 'show': 0.5, 'movie': 0.5, 'cooking': 0.3333333333333333, 'stuffed': 0.5, 'animal': 0.5, 'teddy': 0.25, 'bear': 0.2, 'it': 0.5, 'meat,': 0.3333333333333333, 'broccoli': 0.5, 'potatoes': 0.5, 'suit': 0.3333333333333333, 'his': 0.5, 'cell': 0.5, 'phone': 0.5, 'holding': 0.3333333333333333, 'racquet': 0.5, 'couch': 0.3333333333333333, 'laptop': 0.5, 'motorcycle': 0.25, 'side': 0.3333333333333333, 'road': 0.5, 'through': 0.3333333333333333, 'forest': 0.5, 'leaves': 0.5, 'bed': 0.3333333333333333, 'hot': 0.5, 'bun': 0.5, 'hat': 0.5, 'red': 0.5, 'scarf': 0.5, 'herd': 0.3333333333333333, 'sheep': 0.3333333333333333, 'remote': 0.3333333333333333, 'control': 0.3333333333333333, 'jetliner': 0.3333333333333333, 'flying': 0.5, 'cloudy': 0.5, 'sky': 0.5, 'speaking': 0.5, 'crowd': 0.5, 'rice': 0.5, 'jumping': 0.3333333333333333, 'ledge': 0.5, 'giraffe': 0.5, 'leaf': 0.5, \"it's\": 0.3333333333333333, 'head': 0.5, 'beach': 0.5, 'umbrella': 0.5, 'riding': 0.25, 'wave': 0.5, 'surfboard': 0.5, 'sur': 0.5, 'chair': 0.5, 't': 0.5, 'bike': 0.5, 'bedroom': 0.5, 'bed,': 0.5, 'chair,': 0.5, 'window': 0.5, 'clock': 0.2, 'tower': 0.25, 'fire': 0.3333333333333333, 'stop': 0.5, 'light': 0.5, 'collection': 0.5, 'items': 0.5, 'including': 0.5, 'purse,': 0.5, 'bag,': 0.5, 'pair': 0.5, 'shoes': 0.5, 'brick': 0.5, 'building': 0.3333333333333333, 'sidewalk': 0.5, 'while': 0.5, 'walks': 0.5, 'by': 0.5, 'tray': 0.5, 'spoon': 0.5}\n"
     ]
    }
   ],
   "source": [
    "encoding_dict = Counter() # Counter is a subclass of dictionary for counting hashable objects\n",
    "threshold = 0 # threshold for word frequency # TODO: find a good threshold\n",
    "\n",
    "update_encoding_dict(generated_captions, encoding_dict)\n",
    "\n",
    "print (encoding_dict)\n",
    "\n",
    "# Optionally, create a more compressed form based on frequency\n",
    "compressed_dict = {word: idx for idx, (word, freq) in enumerate(encoding_dict.items()) if freq > threshold}\n",
    "\n",
    "# Create the dictionary of entropy values from encoding_dict\n",
    "entropy_dict = {word: -np.log(encoding_dict[word] / sum(encoding_dict.values())) \n",
    "                for word in encoding_dict}\n",
    "\n",
    "print (entropy_dict)\n",
    "# print 1/elem for elem in encoding_dict.values()\n",
    "reciprocal_dict = {word: 1/(encoding_dict[word]+1) for word in encoding_dict}\n",
    "print (reciprocal_dict)"
   ]
  },
  {
   "cell_type": "code",
   "execution_count": 11,
   "metadata": {},
   "outputs": [],
   "source": [
    "class CaptionDataset(torch.utils.data.Dataset):\n",
    "    def __init__(self, encodings, captions):\n",
    "        self.encodings = encodings\n",
    "        self.captions = captions\n",
    "\n",
    "    def __getitem__(self, idx):\n",
    "        item = {key: torch.tensor(val[idx]) for key, val in self.encodings.items()}\n",
    "        item['labels'] = torch.tensor(self.captions[idx])\n",
    "        return item\n",
    "\n",
    "    def __len__(self):\n",
    "        return len(self.captions)"
   ]
  },
  {
   "cell_type": "code",
   "execution_count": 12,
   "metadata": {},
   "outputs": [],
   "source": [
    "# Assuming `dataset` is your dataset containing images and captions\n",
    "images = [data['image'] for data in dataset]\n",
    "caption_ids = generated_predicted_ids\n",
    "\n",
    "# Process images and captions\n",
    "inputs = feature_extractor(images=images, return_tensors=\"pt\") \n",
    "\n",
    "# Create dataset and dataloader\n",
    "train_dataset = CaptionDataset(inputs, caption_ids)\n",
    "train_loader = DataLoader(train_dataset, batch_size=8, shuffle=True)"
   ]
  },
  {
   "cell_type": "code",
   "execution_count": 13,
   "metadata": {},
   "outputs": [],
   "source": [
    "class LoRALayer(nn.Module):\n",
    "    def __init__(self, original_weight, rank):\n",
    "        super(LoRALayer, self).__init__()\n",
    "        self.original_weight = original_weight\n",
    "        self.rank = rank\n",
    "        self.device = original_weight.device\n",
    "        self.U = nn.Parameter(torch.Tensor(self.original_weight.size(0), self.rank)).to(self.device)\n",
    "        self.V = nn.Parameter(torch.Tensor(self.rank, self.original_weight.size(1))).to(self.device)\n",
    "        nn.init.xavier_uniform_(self.U)\n",
    "        nn.init.xavier_uniform_(self.V)\n",
    "\n",
    "    def forward(self):\n",
    "        return self.original_weight + self.U @ self.V"
   ]
  },
  {
   "cell_type": "code",
   "execution_count": 14,
   "metadata": {},
   "outputs": [],
   "source": [
    "# Modify the first attention layer of the encoder\n",
    "# TODO: Try modifying other layers as well and check the results\n",
    "lora_layers = []\n",
    "\n",
    "with torch.no_grad():\n",
    "    original_weight = model.encoder.encoder.layer[0].attention.output.dense.weight\n",
    "    lora_layer = LoRALayer(original_weight, rank=10).to(device).forward()  # Choose an appropriate rank\n",
    "    # assign the new layer to the model\n",
    "    model.encoder.encoder.layer[0].attention.output.dense.weight.copy_(lora_layer)\n",
    "    # add the layer of the model to the list of LoRA layers\n",
    "    lora_layers.append(model.encoder.encoder.layer[0].attention.output.dense)"
   ]
  },
  {
   "cell_type": "code",
   "execution_count": 15,
   "metadata": {},
   "outputs": [],
   "source": [
    "def is_lora_param(param, lora_layer):\n",
    "    # check if the parameter is part of the LoRA layer\n",
    "    print (lora_layer.parameters())\n",
    "    print (\"nuj\")\n",
    "    print (param)\n",
    "    return param in lora_layer.parameters()\n"
   ]
  },
  {
   "cell_type": "code",
   "execution_count": 16,
   "metadata": {},
   "outputs": [],
   "source": [
    "# add two extra dimensions to generated_logits\n",
    "generated_probs = F.softmax(mean_logits, dim=-1)\n",
    "generated_probs_expanded = generated_probs.unsqueeze(0).unsqueeze(0).to(device)"
   ]
  },
  {
   "cell_type": "code",
   "execution_count": 17,
   "metadata": {},
   "outputs": [],
   "source": [
    "def calculate_entropy_elbo_difference (prob_differences, unique_token_counts, D):\n",
    "    sigma = 0.01\n",
    "    # reduce prob_differences to 4D from 5D by taking norm square along the last dimension\n",
    "    prob_differences = prob_differences.to(device)\n",
    "    prob_differences = torch.norm(prob_differences, dim=-1)\n",
    "    print (prob_differences.shape)\n",
    "    # do elementwise for prob_differences: suqare\n",
    "    prob_differences = prob_differences**2\n",
    "    # multiply i,j,k th element of prob_differences with k th element of unique_token_probs\n",
    "    prob_differences = prob_differences * unique_token_counts\n",
    "    # take sum of all elements of prob_differences, hence scalar, then divide by 2*sigma^2*D\n",
    "    return torch.sum(prob_differences) / (2*sigma**2*D)"
   ]
  },
  {
   "cell_type": "code",
   "execution_count": 18,
   "metadata": {},
   "outputs": [],
   "source": [
    "def calculate_entropy_elbo_cross_entropy (prob_differences, D):\n",
    "    pass"
   ]
  },
  {
   "cell_type": "code",
   "execution_count": 19,
   "metadata": {},
   "outputs": [],
   "source": [
    "def calculate_entropy (prob_differences, D):\n",
    "    pass"
   ]
  },
  {
   "cell_type": "code",
   "execution_count": 30,
   "metadata": {},
   "outputs": [],
   "source": [
    "def custom_loss(outputs, batch, encoding_dict, lora_layers, lambda_val=0.05, lora_lambda_val = 0.01):\n",
    "    # Sending all to GPU\n",
    "    outputs.logits = outputs.logits.to(device)\n",
    "    outputs.loss = outputs.loss.to(device)\n",
    "    \n",
    "    # Standard captioning loss\n",
    "    standard_loss = outputs.loss\n",
    "\n",
    "    # Additional compression loss\n",
    "    compression_loss = 0\n",
    "    # add two dimensions to output probs at 2 and 3\n",
    "    outputs_probs = F.softmax(outputs.logits, dim=-1)\n",
    "    outputs_probs_expanded = outputs_probs.squeeze(1).unsqueeze(2).to(device)\n",
    "    # print shapes of generated_probs_expanded and outputs_probs_expanded\n",
    "    print (\"generated_probs_expanded.shape = \", generated_probs_expanded.shape, outputs_probs_expanded.shape)\n",
    "    prob_differences = generated_probs_expanded - outputs_probs_expanded\n",
    "    print (\"prob_differences.shape = \", outputs_probs.shape, generated_probs_expanded.shape, outputs_probs_expanded.shape, prob_differences.shape)\n",
    "    # calculate the compression loss\n",
    "    # find number of elements in generated_predicted_logits\n",
    "    D = generated_probs.numel()\n",
    "    compression_loss = lambda_val* calculate_entropy_elbo_difference (prob_differences, unique_token_counts, D)\n",
    "    \n",
    "\n",
    "    # Optionally, add a term for LoRA regularization if needed\n",
    "    lora_regularization = 0\n",
    "    # for param in model.parameters():\n",
    "    #     for lora_layer in lora_layers:\n",
    "    #         if is_lora_param(param, lora_layer):\n",
    "    #             lora_regularization += torch.norm(param)\n",
    "    print (standard_loss, compression_loss)\n",
    "\n",
    "    return standard_loss + compression_loss + lora_lambda_val * lora_regularization"
   ]
  },
  {
   "cell_type": "code",
   "execution_count": 31,
   "metadata": {},
   "outputs": [
    {
     "name": "stderr",
     "output_type": "stream",
     "text": [
      "/Users/sagnik/Library/Python/3.9/lib/python/site-packages/transformers/optimization.py:429: FutureWarning: This implementation of AdamW is deprecated and will be removed in a future version. Use the PyTorch implementation torch.optim.AdamW instead, or set `no_deprecation_warning=True` to disable this warning\n",
      "  warnings.warn(\n",
      "  0%|          | 0/7 [00:00<?, ?it/s]/var/folders/wd/7s_rgclx5rlc79rrjnspznh00000gn/T/ipykernel_23228/3431795457.py:7: UserWarning: To copy construct from a tensor, it is recommended to use sourceTensor.clone().detach() or sourceTensor.clone().detach().requires_grad_(True), rather than torch.tensor(sourceTensor).\n",
      "  item = {key: torch.tensor(val[idx]) for key, val in self.encodings.items()}\n",
      "/var/folders/wd/7s_rgclx5rlc79rrjnspznh00000gn/T/ipykernel_23228/3431795457.py:8: UserWarning: To copy construct from a tensor, it is recommended to use sourceTensor.clone().detach() or sourceTensor.clone().detach().requires_grad_(True), rather than torch.tensor(sourceTensor).\n",
      "  item['labels'] = torch.tensor(self.captions[idx])\n"
     ]
    },
    {
     "name": "stdout",
     "output_type": "stream",
     "text": [
      "generated_probs_expanded.shape =  torch.Size([1, 1, 182, 50257]) torch.Size([8, 15, 1, 50257])\n",
      "prob_differences.shape =  torch.Size([8, 15, 50257]) torch.Size([1, 1, 182, 50257]) torch.Size([8, 15, 1, 50257]) torch.Size([8, 15, 182, 50257])\n",
      "torch.Size([8, 15, 182])\n",
      "tensor(5.8525, grad_fn=<NllLossBackward0>) tensor(2.6791, grad_fn=<MulBackward0>)\n"
     ]
    },
    {
     "name": "stderr",
     "output_type": "stream",
     "text": [
      "Epoch 0:  14%|█▍        | 1/7 [00:15<01:35, 16.00s/it, loss=8.53]"
     ]
    },
    {
     "name": "stdout",
     "output_type": "stream",
     "text": [
      "generated_probs_expanded.shape =  torch.Size([1, 1, 182, 50257]) torch.Size([8, 15, 1, 50257])\n",
      "prob_differences.shape =  torch.Size([8, 15, 50257]) torch.Size([1, 1, 182, 50257]) torch.Size([8, 15, 1, 50257]) torch.Size([8, 15, 182, 50257])\n",
      "torch.Size([8, 15, 182])\n",
      "tensor(5.6312, grad_fn=<NllLossBackward0>) tensor(2.6961, grad_fn=<MulBackward0>)\n"
     ]
    },
    {
     "name": "stderr",
     "output_type": "stream",
     "text": [
      "Epoch 0:  29%|██▊       | 2/7 [00:30<01:14, 14.93s/it, loss=8.33]"
     ]
    },
    {
     "name": "stdout",
     "output_type": "stream",
     "text": [
      "generated_probs_expanded.shape =  torch.Size([1, 1, 182, 50257]) torch.Size([8, 15, 1, 50257])\n",
      "prob_differences.shape =  torch.Size([8, 15, 50257]) torch.Size([1, 1, 182, 50257]) torch.Size([8, 15, 1, 50257]) torch.Size([8, 15, 182, 50257])\n",
      "torch.Size([8, 15, 182])\n",
      "tensor(5.5761, grad_fn=<NllLossBackward0>) tensor(2.6729, grad_fn=<MulBackward0>)\n"
     ]
    },
    {
     "name": "stderr",
     "output_type": "stream",
     "text": [
      "Epoch 0:  43%|████▎     | 3/7 [00:45<01:00, 15.03s/it, loss=8.25]"
     ]
    },
    {
     "name": "stdout",
     "output_type": "stream",
     "text": [
      "generated_probs_expanded.shape =  torch.Size([1, 1, 182, 50257]) torch.Size([8, 15, 1, 50257])\n",
      "prob_differences.shape =  torch.Size([8, 15, 50257]) torch.Size([1, 1, 182, 50257]) torch.Size([8, 15, 1, 50257]) torch.Size([8, 15, 182, 50257])\n",
      "torch.Size([8, 15, 182])\n",
      "tensor(5.4107, grad_fn=<NllLossBackward0>) tensor(2.6687, grad_fn=<MulBackward0>)\n"
     ]
    },
    {
     "name": "stderr",
     "output_type": "stream",
     "text": [
      "Epoch 0:  57%|█████▋    | 4/7 [01:04<00:50, 16.83s/it, loss=8.08]"
     ]
    },
    {
     "name": "stdout",
     "output_type": "stream",
     "text": [
      "generated_probs_expanded.shape =  torch.Size([1, 1, 182, 50257]) torch.Size([8, 15, 1, 50257])\n",
      "prob_differences.shape =  torch.Size([8, 15, 50257]) torch.Size([1, 1, 182, 50257]) torch.Size([8, 15, 1, 50257]) torch.Size([8, 15, 182, 50257])\n",
      "torch.Size([8, 15, 182])\n",
      "tensor(5.0464, grad_fn=<NllLossBackward0>) tensor(2.6695, grad_fn=<MulBackward0>)\n"
     ]
    },
    {
     "name": "stderr",
     "output_type": "stream",
     "text": [
      "Epoch 0:  71%|███████▏  | 5/7 [01:18<00:31, 15.65s/it, loss=7.72]"
     ]
    },
    {
     "name": "stdout",
     "output_type": "stream",
     "text": [
      "generated_probs_expanded.shape =  torch.Size([1, 1, 182, 50257]) torch.Size([8, 15, 1, 50257])\n",
      "prob_differences.shape =  torch.Size([8, 15, 50257]) torch.Size([1, 1, 182, 50257]) torch.Size([8, 15, 1, 50257]) torch.Size([8, 15, 182, 50257])\n",
      "torch.Size([8, 15, 182])\n",
      "tensor(4.6987, grad_fn=<NllLossBackward0>) tensor(2.6719, grad_fn=<MulBackward0>)\n"
     ]
    },
    {
     "name": "stderr",
     "output_type": "stream",
     "text": [
      "Epoch 0:  86%|████████▌ | 6/7 [01:30<00:14, 14.37s/it, loss=7.37]"
     ]
    },
    {
     "name": "stdout",
     "output_type": "stream",
     "text": [
      "generated_probs_expanded.shape =  torch.Size([1, 1, 182, 50257]) torch.Size([2, 15, 1, 50257])\n",
      "prob_differences.shape =  torch.Size([2, 15, 50257]) torch.Size([1, 1, 182, 50257]) torch.Size([2, 15, 1, 50257]) torch.Size([2, 15, 182, 50257])\n",
      "torch.Size([2, 15, 182])\n",
      "tensor(4.2718, grad_fn=<NllLossBackward0>) tensor(0.6747, grad_fn=<MulBackward0>)\n"
     ]
    },
    {
     "name": "stderr",
     "output_type": "stream",
     "text": [
      "Epoch 0: 100%|██████████| 7/7 [01:31<00:00, 13.06s/it, loss=4.95]\n",
      "  0%|          | 0/7 [00:00<?, ?it/s]"
     ]
    },
    {
     "name": "stdout",
     "output_type": "stream",
     "text": [
      "generated_probs_expanded.shape =  torch.Size([1, 1, 182, 50257]) torch.Size([8, 15, 1, 50257])\n",
      "prob_differences.shape =  torch.Size([8, 15, 50257]) torch.Size([1, 1, 182, 50257]) torch.Size([8, 15, 1, 50257]) torch.Size([8, 15, 182, 50257])\n",
      "torch.Size([8, 15, 182])\n",
      "tensor(3.9273, grad_fn=<NllLossBackward0>) tensor(2.8031, grad_fn=<MulBackward0>)\n"
     ]
    },
    {
     "name": "stderr",
     "output_type": "stream",
     "text": [
      "Epoch 1:  14%|█▍        | 1/7 [00:16<01:37, 16.30s/it, loss=6.73]"
     ]
    },
    {
     "name": "stdout",
     "output_type": "stream",
     "text": [
      "generated_probs_expanded.shape =  torch.Size([1, 1, 182, 50257]) torch.Size([8, 15, 1, 50257])\n",
      "prob_differences.shape =  torch.Size([8, 15, 50257]) torch.Size([1, 1, 182, 50257]) torch.Size([8, 15, 1, 50257]) torch.Size([8, 15, 182, 50257])\n",
      "torch.Size([8, 15, 182])\n",
      "tensor(4.1099, grad_fn=<NllLossBackward0>) tensor(2.8622, grad_fn=<MulBackward0>)\n"
     ]
    },
    {
     "name": "stderr",
     "output_type": "stream",
     "text": [
      "Epoch 1:  29%|██▊       | 2/7 [00:29<01:13, 14.77s/it, loss=6.97]"
     ]
    },
    {
     "name": "stdout",
     "output_type": "stream",
     "text": [
      "generated_probs_expanded.shape =  torch.Size([1, 1, 182, 50257]) torch.Size([8, 15, 1, 50257])\n",
      "prob_differences.shape =  torch.Size([8, 15, 50257]) torch.Size([1, 1, 182, 50257]) torch.Size([8, 15, 1, 50257]) torch.Size([8, 15, 182, 50257])\n",
      "torch.Size([8, 15, 182])\n",
      "tensor(3.6533, grad_fn=<NllLossBackward0>) tensor(2.9271, grad_fn=<MulBackward0>)\n"
     ]
    },
    {
     "name": "stderr",
     "output_type": "stream",
     "text": [
      "Epoch 1:  43%|████▎     | 3/7 [00:46<01:01, 15.48s/it, loss=6.58]"
     ]
    },
    {
     "name": "stdout",
     "output_type": "stream",
     "text": [
      "generated_probs_expanded.shape =  torch.Size([1, 1, 182, 50257]) torch.Size([8, 15, 1, 50257])\n",
      "prob_differences.shape =  torch.Size([8, 15, 50257]) torch.Size([1, 1, 182, 50257]) torch.Size([8, 15, 1, 50257]) torch.Size([8, 15, 182, 50257])\n",
      "torch.Size([8, 15, 182])\n",
      "tensor(3.7441, grad_fn=<NllLossBackward0>) tensor(2.9281, grad_fn=<MulBackward0>)\n"
     ]
    },
    {
     "name": "stderr",
     "output_type": "stream",
     "text": [
      "Epoch 1:  57%|█████▋    | 4/7 [00:58<00:42, 14.26s/it, loss=6.67]"
     ]
    },
    {
     "name": "stdout",
     "output_type": "stream",
     "text": [
      "generated_probs_expanded.shape =  torch.Size([1, 1, 182, 50257]) torch.Size([8, 15, 1, 50257])\n",
      "prob_differences.shape =  torch.Size([8, 15, 50257]) torch.Size([1, 1, 182, 50257]) torch.Size([8, 15, 1, 50257]) torch.Size([8, 15, 182, 50257])\n",
      "torch.Size([8, 15, 182])\n",
      "tensor(3.2108, grad_fn=<NllLossBackward0>) tensor(2.9477, grad_fn=<MulBackward0>)\n"
     ]
    },
    {
     "name": "stderr",
     "output_type": "stream",
     "text": [
      "Epoch 1:  71%|███████▏  | 5/7 [01:09<00:26, 13.04s/it, loss=6.16]"
     ]
    },
    {
     "name": "stdout",
     "output_type": "stream",
     "text": [
      "generated_probs_expanded.shape =  torch.Size([1, 1, 182, 50257]) torch.Size([8, 15, 1, 50257])\n",
      "prob_differences.shape =  torch.Size([8, 15, 50257]) torch.Size([1, 1, 182, 50257]) torch.Size([8, 15, 1, 50257]) torch.Size([8, 15, 182, 50257])\n",
      "torch.Size([8, 15, 182])\n",
      "tensor(3.2077, grad_fn=<NllLossBackward0>) tensor(2.9157, grad_fn=<MulBackward0>)\n"
     ]
    },
    {
     "name": "stderr",
     "output_type": "stream",
     "text": [
      "Epoch 1:  86%|████████▌ | 6/7 [01:26<00:14, 14.44s/it, loss=6.12]"
     ]
    },
    {
     "name": "stdout",
     "output_type": "stream",
     "text": [
      "generated_probs_expanded.shape =  torch.Size([1, 1, 182, 50257]) torch.Size([2, 15, 1, 50257])\n",
      "prob_differences.shape =  torch.Size([2, 15, 50257]) torch.Size([1, 1, 182, 50257]) torch.Size([2, 15, 1, 50257]) torch.Size([2, 15, 182, 50257])\n",
      "torch.Size([2, 15, 182])\n",
      "tensor(2.9239, grad_fn=<NllLossBackward0>) tensor(0.7412, grad_fn=<MulBackward0>)\n"
     ]
    },
    {
     "name": "stderr",
     "output_type": "stream",
     "text": [
      "Epoch 1: 100%|██████████| 7/7 [01:27<00:00, 12.55s/it, loss=3.67]\n"
     ]
    }
   ],
   "source": [
    "# Fine tuning using custom loss\n",
    "\n",
    "#device = torch.device(\"cuda\" if torch.cuda.is_available() else \"cpu\")\n",
    "model.to(device)\n",
    "model.train()\n",
    "\n",
    "lr = 1e-4\n",
    "num_epochs = 2\n",
    "\n",
    "optimizer = AdamW([param for param in model.parameters() if param.requires_grad], lr=lr)\n",
    "\n",
    "for epoch in range(num_epochs):\n",
    "    loop = tqdm(train_loader, leave=True)\n",
    "    for batch in loop:\n",
    "        # Move batch to device\n",
    "        batch = {k: v.to(device) for k, v in batch.items()}\n",
    "\n",
    "        # Forward pass\n",
    "        outputs = model(**batch)\n",
    "        loss = custom_loss(outputs, batch, encoding_dict, lora_layers)\n",
    "\n",
    "        # Backward pass and optimization\n",
    "        optimizer.zero_grad()\n",
    "        loss.backward()\n",
    "        optimizer.step()\n",
    "\n",
    "        # Update progress bar\n",
    "        loop.set_description(f\"Epoch {epoch}\")\n",
    "        loop.set_postfix(loss=loss.item())"
   ]
  },
  {
   "cell_type": "code",
   "execution_count": 32,
   "metadata": {},
   "outputs": [],
   "source": [
    "# create directory to save the model if it doesn't exist\n",
    "if not os.path.exists(\"models\"):\n",
    "    os.mkdir(\"models\")\n",
    "# save model checkpoint to models directory using current timestamp and date\n",
    "torch.save(model.state_dict(), f\"models/{time.strftime('%Y%m%d-%H%M%S')}.pth\")\n"
   ]
  },
  {
   "cell_type": "code",
   "execution_count": 33,
   "metadata": {},
   "outputs": [
    {
     "data": {
      "text/plain": [
       "VisionEncoderDecoderModel(\n",
       "  (encoder): ViTModel(\n",
       "    (embeddings): ViTEmbeddings(\n",
       "      (patch_embeddings): ViTPatchEmbeddings(\n",
       "        (projection): Conv2d(3, 768, kernel_size=(16, 16), stride=(16, 16))\n",
       "      )\n",
       "      (dropout): Dropout(p=0.0, inplace=False)\n",
       "    )\n",
       "    (encoder): ViTEncoder(\n",
       "      (layer): ModuleList(\n",
       "        (0-11): 12 x ViTLayer(\n",
       "          (attention): ViTAttention(\n",
       "            (attention): ViTSelfAttention(\n",
       "              (query): Linear(in_features=768, out_features=768, bias=True)\n",
       "              (key): Linear(in_features=768, out_features=768, bias=True)\n",
       "              (value): Linear(in_features=768, out_features=768, bias=True)\n",
       "              (dropout): Dropout(p=0.0, inplace=False)\n",
       "            )\n",
       "            (output): ViTSelfOutput(\n",
       "              (dense): Linear(in_features=768, out_features=768, bias=True)\n",
       "              (dropout): Dropout(p=0.0, inplace=False)\n",
       "            )\n",
       "          )\n",
       "          (intermediate): ViTIntermediate(\n",
       "            (dense): Linear(in_features=768, out_features=3072, bias=True)\n",
       "            (intermediate_act_fn): GELUActivation()\n",
       "          )\n",
       "          (output): ViTOutput(\n",
       "            (dense): Linear(in_features=3072, out_features=768, bias=True)\n",
       "            (dropout): Dropout(p=0.0, inplace=False)\n",
       "          )\n",
       "          (layernorm_before): LayerNorm((768,), eps=1e-12, elementwise_affine=True)\n",
       "          (layernorm_after): LayerNorm((768,), eps=1e-12, elementwise_affine=True)\n",
       "        )\n",
       "      )\n",
       "    )\n",
       "    (layernorm): LayerNorm((768,), eps=1e-12, elementwise_affine=True)\n",
       "    (pooler): ViTPooler(\n",
       "      (dense): Linear(in_features=768, out_features=768, bias=True)\n",
       "      (activation): Tanh()\n",
       "    )\n",
       "  )\n",
       "  (decoder): GPT2LMHeadModel(\n",
       "    (transformer): GPT2Model(\n",
       "      (wte): Embedding(50257, 768)\n",
       "      (wpe): Embedding(1024, 768)\n",
       "      (drop): Dropout(p=0.1, inplace=False)\n",
       "      (h): ModuleList(\n",
       "        (0-11): 12 x GPT2Block(\n",
       "          (ln_1): LayerNorm((768,), eps=1e-05, elementwise_affine=True)\n",
       "          (attn): GPT2Attention(\n",
       "            (c_attn): Conv1D()\n",
       "            (c_proj): Conv1D()\n",
       "            (attn_dropout): Dropout(p=0.1, inplace=False)\n",
       "            (resid_dropout): Dropout(p=0.1, inplace=False)\n",
       "          )\n",
       "          (ln_2): LayerNorm((768,), eps=1e-05, elementwise_affine=True)\n",
       "          (crossattention): GPT2Attention(\n",
       "            (c_attn): Conv1D()\n",
       "            (q_attn): Conv1D()\n",
       "            (c_proj): Conv1D()\n",
       "            (attn_dropout): Dropout(p=0.1, inplace=False)\n",
       "            (resid_dropout): Dropout(p=0.1, inplace=False)\n",
       "          )\n",
       "          (ln_cross_attn): LayerNorm((768,), eps=1e-05, elementwise_affine=True)\n",
       "          (mlp): GPT2MLP(\n",
       "            (c_fc): Conv1D()\n",
       "            (c_proj): Conv1D()\n",
       "            (act): NewGELUActivation()\n",
       "            (dropout): Dropout(p=0.1, inplace=False)\n",
       "          )\n",
       "        )\n",
       "      )\n",
       "      (ln_f): LayerNorm((768,), eps=1e-05, elementwise_affine=True)\n",
       "    )\n",
       "    (lm_head): Linear(in_features=768, out_features=50257, bias=False)\n",
       "  )\n",
       ")"
      ]
     },
     "execution_count": 33,
     "metadata": {},
     "output_type": "execute_result"
    }
   ],
   "source": [
    "# load latest model checkpoint among all the saved models\n",
    "latest_model = torch.load(max(glob.glob('models/*.pth'), key=os.path.getctime))\n",
    "# load the model with the latest checkpoint\n",
    "model.load_state_dict(latest_model)\n",
    "model.to(device)"
   ]
  },
  {
   "cell_type": "code",
   "execution_count": 34,
   "metadata": {},
   "outputs": [
    {
     "name": "stdout",
     "output_type": "stream",
     "text": [
      "EOS has been generated\n",
      "EOS has been generated\n",
      "EOS has been generated\n",
      "EOS has been generated\n",
      "EOS has been generated\n",
      "EOS has been generated\n",
      "EOS has been generated\n"
     ]
    }
   ],
   "source": [
    "# Generate captions for the test dataset\n",
    "generated_captions_custom_model = []\n",
    "# Iterate over the dataset and generate captions\n",
    "for data in dataset:\n",
    "    image = data['image']\n",
    "    generated_logits, generated_predicted_ids, caption = generate_caption_with_logits(image)\n",
    "    generated_captions_custom_model.append(caption)\n"
   ]
  },
  {
   "cell_type": "code",
   "execution_count": 35,
   "metadata": {},
   "outputs": [],
   "source": [
    "# Encode compressed dictionary word using manual huffman encoding"
   ]
  },
  {
   "cell_type": "code",
   "execution_count": 36,
   "metadata": {},
   "outputs": [],
   "source": [
    "# Replace compressed_dict words occurring in the generated_captions_custom_model with their corresponding huffman encoding"
   ]
  },
  {
   "cell_type": "code",
   "execution_count": 27,
   "metadata": {},
   "outputs": [],
   "source": [
    "# compare encoded generated_captions_custom_model + huffman encoding dictionary information with the original generated_captions to calculate compression ratio"
   ]
  },
  {
   "cell_type": "code",
   "execution_count": 38,
   "metadata": {},
   "outputs": [
    {
     "name": "stdout",
     "output_type": "stream",
     "text": [
      "a green truck parked next to a curb a green truck parked next WAIT a man is sitting on a man sitting on a man sitting on a man\n",
      "a man is walking down the street with a skateboard a man WAIT a man is playing a man playing a man playing a man playing a man\n",
      "a baseball player swinging a bat at a ball a baseball player swinging WAIT a man is playing a man playing a man playing a man playing a man\n",
      "a cow is standing in a field of grass a cow is standing WAIT a man is playing a man playing a man playing a man playing a man\n",
      "a black dog sitting in the back of a truck a black dog WAIT a man is sitting on a man sitting on a man sitting on a man\n",
      "a man wearing a bow tie and glasses a man wearing a bow WAIT a man is a man is a man is a man is a man is\n",
      "a dining room table with a large bowl of food a large kitchen WAIT a man is sitting on a man sitting on a man sitting on a man\n",
      "a man standing next to a wall with a bunch of guitars a WAIT a man is a man is a man is a man is a man is\n",
      "a man is playing tennis on a clay court a man is playing WAIT a man is playing tennis court court court a man playing a man\n",
      "a man and a woman playing a game of frisbee a WAIT a man is playing tennis court court a man playing a man playing\n",
      "a woman and a man are drinking wine people are sitting at a WAIT a man is a man is a man is a man is a man is\n",
      "people are standing around a table people are drinking wine people WAIT a man is a man is a man is a man is a man is\n",
      "a zebra standing in a fenced in area a zebra WAIT a man is a man is a man is a man is a man is\n",
      "two dogs are looking at each other in a room a dog is WAIT a man is playing a man playing a man playing a man playing a man\n",
      "a horse grazing in a field with a tree a horse grazing in WAIT a man is playing a man playing a man playing a man playing a man\n",
      "a bird perched on top of a bird feeder a bird sitting WAIT a man is playing a man playing a man playing a man playing a man\n",
      "a train on a track near a fence a train on a track WAIT a man is a man is a man is a man is a man is\n",
      "a plate of food with a fish and vegetables a person sitting at WAIT a man is sitting on a man sitting on a man sitting on a man\n",
      "an elephant with a large trunk standing on a dirt ground a elephant WAIT a man is a man is a man is a man is a man is\n",
      "people are watching a television show people are watching a movie  WAIT a man is a man is a man is a man is a man is\n",
      "a woman is cooking food in a kitchen a woman is cooking food WAIT a man is a man is a man is a man is a man is\n",
      "a stuffed animal with a teddy bear on it a teddy WAIT a man is a man is a man is a man is a man is\n",
      "a plate of food with meat, broccoli and potatoes a plate of WAIT a man is a man is a man is a man is a man is\n",
      "a man in a suit and tie looking at his cell phone a WAIT a man sitting on a chair chair chair chair chair chair chair chair chair chair\n",
      "a man holding a tennis racquet on a tennis court a man WAIT a man is playing tennis court a man playing a man playing tennis\n",
      "a man sitting on a couch with a laptop a man sitting on WAIT a man is a man is a man is a man is a man is\n",
      "a motorcycle parked on the side of a road a motorcycle is parked WAIT a man is sitting on a man sitting on a man sitting on a man\n",
      "a bear walking through a forest with leaves a black bear standing in WAIT a man is a man is a man is a man is a man is\n",
      "a truck with a bed and a fence a truck with a bed WAIT a man is sitting on a man sitting on a man sitting on a man\n",
      "a plate of food on a table a hot dog on a bun WAIT a man is a man is a man is a man is a man is\n",
      "a man wearing a hat and a red scarf a man with a WAIT a man is a man is a man is a man is a man is\n",
      "a herd of sheep grazing in a field a herd of sheep standing WAIT a man is a man is a man is a man is a man is\n",
      "a remote control sitting on top of a couch a remote control sitting WAIT a man is sitting on a man sitting on a man sitting on a man\n",
      "a large jetliner flying through a cloudy sky a large jetliner WAIT a man is playing a man playing tennis court a man playing a\n",
      "a man in a suit and tie speaking to a crowd a man WAIT a man is a man is a man is a man is a man is\n",
      "a plate of food with meat, rice and vegetables a plate of WAIT a man is a man is a man is a man is a man is\n",
      "a person jumping a skateboard on a ledge a person jumping a WAIT a man sitting on a chair chair chair chair chair chair chair chair chair chair\n",
      "a man is playing tennis on a court a man is playing tennis WAIT a man is playing tennis court court a man playing a man playing\n",
      "a giraffe standing next to a tree with a leaf on it's head WAIT a man is walking on a man is a man is a man is a\n",
      "a woman standing on a beach holding an umbrella people are walking on WAIT a man is playing a man playing a man playing a man playing a man\n",
      "a man riding a wave on top of a surfboard a sur WAIT a man is playing a man playing tennis court a man playing a\n",
      "a teddy bear sitting on a chair in a room a t WAIT a man is a man is a man is a man is a man is\n",
      "a man riding a bike down a street a man riding a motorcycle WAIT a man is a man is a man is a man is a man is\n",
      "a bedroom with a bed, chair, and a window a room WAIT a man is sitting on a man sitting on a man sitting on a man\n",
      "a clock tower with a clock on it's side a clock tower WAIT a man is a man is a man is a man is a man is\n",
      "a fire truck is parked at a stop light a fire truck is WAIT a man is sitting on a man sitting on a man sitting on a man\n",
      "a collection of items including a purse, a bag, a pair of shoes WAIT a man is a man is a man is a man is a man is\n",
      "a large brick building with a clock tower a large building with a WAIT a man is playing a man playing a man playing a man playing a man\n",
      "a woman is sitting on the sidewalk while a man walks by people WAIT a man is playing a man playing tennis court a man playing a\n",
      "a tray of food with a spoon and a bowl of food a WAIT a man is a man is a man is a man is a man is\n",
      "Counter({'a': 167, 'man': 24, 'on': 22, 'of': 21, 'with': 20, 'is': 14, 'in': 13, 'and': 12, 'standing': 10, 'sitting': 10, 'food': 9, 'are': 8, 'people': 8, 'truck': 7, 'large': 7, 'at': 6, 'woman': 6, 'plate': 6, 'parked': 5, 'playing': 5, 'tennis': 5, 'next': 4, 'to': 4, 'the': 4, 'dog': 4, 'room': 4, 'bear': 4, 'clock': 4, 'walking': 3, 'field': 3, 'black': 3, 'wearing': 3, 'tie': 3, 'table': 3, 'court': 3, 'grazing': 3, 'bird': 3, 'top': 3, 'person': 3, 'teddy': 3, 'motorcycle': 3, 'riding': 3, 'tower': 3, 'green': 2, 'down': 2, 'street': 2, 'skateboard': 2, 'baseball': 2, 'player': 2, 'swinging': 2, 'cow': 2, 'bow': 2, 'bowl': 2, 'kitchen': 2, 'drinking': 2, 'wine': 2, 'zebra': 2, 'looking': 2, 'horse': 2, 'tree': 2, 'train': 2, 'track': 2, 'fence': 2, 'vegetables': 2, 'an': 2, 'elephant': 2, 'watching': 2, 'cooking': 2, 'meat,': 2, 'suit': 2, 'holding': 2, 'couch': 2, 'side': 2, 'through': 2, 'bed': 2, 'herd': 2, 'sheep': 2, 'remote': 2, 'control': 2, 'jetliner': 2, 'jumping': 2, \"it's\": 2, 'fire': 2, 'building': 2, 'curb': 1, 'bat': 1, 'ball': 1, 'grass': 1, 'back': 1, 'glasses': 1, 'dining': 1, 'wall': 1, 'bunch': 1, 'guitars': 1, 'clay': 1, 'game': 1, 'frisbee': 1, 'around': 1, 'fenced': 1, 'area': 1, 'two': 1, 'dogs': 1, 'each': 1, 'other': 1, 'perched': 1, 'feeder': 1, 'near': 1, 'fish': 1, 'trunk': 1, 'dirt': 1, 'ground': 1, 'television': 1, 'show': 1, 'movie': 1, 'stuffed': 1, 'animal': 1, 'it': 1, 'broccoli': 1, 'potatoes': 1, 'his': 1, 'cell': 1, 'phone': 1, 'racquet': 1, 'laptop': 1, 'road': 1, 'forest': 1, 'leaves': 1, 'hot': 1, 'bun': 1, 'hat': 1, 'red': 1, 'scarf': 1, 'flying': 1, 'cloudy': 1, 'sky': 1, 'speaking': 1, 'crowd': 1, 'rice': 1, 'ledge': 1, 'giraffe': 1, 'leaf': 1, 'head': 1, 'beach': 1, 'umbrella': 1, 'wave': 1, 'surfboard': 1, 'sur': 1, 'chair': 1, 't': 1, 'bike': 1, 'bedroom': 1, 'bed,': 1, 'chair,': 1, 'window': 1, 'stop': 1, 'light': 1, 'collection': 1, 'items': 1, 'including': 1, 'purse,': 1, 'bag,': 1, 'pair': 1, 'shoes': 1, 'brick': 1, 'sidewalk': 1, 'while': 1, 'walks': 1, 'by': 1, 'tray': 1, 'spoon': 1})\n"
     ]
    }
   ],
   "source": [
    "# print generated_captions and generated_captions_custom_model elementwise to compare the results\n",
    "for i in range(len(generated_captions)):\n",
    "    print (generated_captions[i], \"WAIT\", generated_captions_custom_model[i])\n",
    "# print the frequency of each word in generated_captions\n",
    "print (encoding_dict)\n"
   ]
  }
 ],
 "metadata": {
  "kernelspec": {
   "display_name": "Python 3 (ipykernel)",
   "language": "python",
   "name": "python3"
  },
  "language_info": {
   "codemirror_mode": {
    "name": "ipython",
    "version": 3
   },
   "file_extension": ".py",
   "mimetype": "text/x-python",
   "name": "python",
   "nbconvert_exporter": "python",
   "pygments_lexer": "ipython3",
   "version": "3.9.16"
  }
 },
 "nbformat": 4,
 "nbformat_minor": 2
}
